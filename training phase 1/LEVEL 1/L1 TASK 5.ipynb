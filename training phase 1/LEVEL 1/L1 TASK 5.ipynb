{
 "cells": [
  {
   "cell_type": "code",
   "execution_count": 23,
   "id": "cee78a31-8102-43f4-a634-c24178376bde",
   "metadata": {},
   "outputs": [],
   "source": [
    "import numpy as np  "
   ]
  },
  {
   "cell_type": "code",
   "execution_count": 16,
   "id": "76c874a5-54fa-46ca-8861-692b4bbf2eb5",
   "metadata": {},
   "outputs": [],
   "source": [
    "matrix1 = np.array([[1, 2], [3, 4]])\n",
    "matrix2 = np.array([[5, 6], [7, 8]])\n"
   ]
  },
  {
   "cell_type": "code",
   "execution_count": 17,
   "id": "ac500563-6eb0-4eed-b4a9-a9dc2247b44a",
   "metadata": {},
   "outputs": [],
   "source": [
    "sum_matrix = matrix1 + matrix2  "
   ]
  },
  {
   "cell_type": "code",
   "execution_count": 18,
   "id": "10f71197-1a7b-4832-8882-506337612acc",
   "metadata": {},
   "outputs": [],
   "source": [
    "dot_product = np.dot(matrix1, matrix2)  \n"
   ]
  },
  {
   "cell_type": "code",
   "execution_count": 19,
   "id": "fc8e6b99-87cd-42f4-bb9d-54204bc63f8b",
   "metadata": {},
   "outputs": [],
   "source": [
    "elementwise_mult = matrix1 * matrix2  "
   ]
  },
  {
   "cell_type": "code",
   "execution_count": 21,
   "id": "5a403b9e-e690-401a-baa4-c1cf93b831d1",
   "metadata": {},
   "outputs": [],
   "source": [
    "matrix_mult = matrix1 @ matrix2"
   ]
  },
  {
   "cell_type": "code",
   "execution_count": 22,
   "id": "ea6e59dc-d661-4888-ac49-67044f0cde0e",
   "metadata": {},
   "outputs": [
    {
     "name": "stdout",
     "output_type": "stream",
     "text": [
      "Sum:\n",
      " [[ 6  8]\n",
      " [10 12]]\n",
      "Dot Product:\n",
      " [[19 22]\n",
      " [43 50]]\n",
      "Element-wise Multiplication:\n",
      " [[ 5 12]\n",
      " [21 32]]\n",
      "Matrix Multiplication (@ operator):\n",
      " [[19 22]\n",
      " [43 50]]\n"
     ]
    }
   ],
   "source": [
    "print(\"Sum:\\n\", sum_matrix)\n",
    "print(\"Dot Product:\\n\", dot_product)\n",
    "print(\"Element-wise Multiplication:\\n\", elementwise_mult)\n",
    "print(\"Matrix Multiplication (@ operator):\\n\", matrix_mult)\n"
   ]
  },
  {
   "cell_type": "code",
   "execution_count": null,
   "id": "ef2dcdb1-60a3-42d2-86aa-f272b956bc64",
   "metadata": {},
   "outputs": [],
   "source": []
  }
 ],
 "metadata": {
  "kernelspec": {
   "display_name": "Python 3 (ipykernel)",
   "language": "python",
   "name": "python3"
  },
  "language_info": {
   "codemirror_mode": {
    "name": "ipython",
    "version": 3
   },
   "file_extension": ".py",
   "mimetype": "text/x-python",
   "name": "python",
   "nbconvert_exporter": "python",
   "pygments_lexer": "ipython3",
   "version": "3.12.7"
  }
 },
 "nbformat": 4,
 "nbformat_minor": 5
}
