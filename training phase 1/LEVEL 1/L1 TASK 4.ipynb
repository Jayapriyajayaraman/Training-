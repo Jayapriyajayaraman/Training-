{
 "cells": [
  {
   "cell_type": "code",
   "execution_count": 1,
   "id": "91b1926c-be6d-4a10-bf3d-de8990a48a3e",
   "metadata": {},
   "outputs": [],
   "source": [
    "data_dict = {}"
   ]
  },
  {
   "cell_type": "code",
   "execution_count": 7,
   "id": "4f9ba6d6-c3f5-4fb6-aa92-20acdebe53f1",
   "metadata": {},
   "outputs": [
    {
     "name": "stdin",
     "output_type": "stream",
     "text": [
      "Enter a (string): x\n",
      "Enter a value (integer):  1\n",
      "Enter a (string): y\n",
      "Enter a value (integer):  2\n",
      "Enter a (string): z\n",
      "Enter a value (integer):  3\n"
     ]
    }
   ],
   "source": [
    "for i in range(3):\n",
    "    key = input(f\"Enter a (string):\")\n",
    "    value = int(input(\"Enter a value (integer): \"))  \n",
    "    data_dict[key] = value  "
   ]
  },
  {
   "cell_type": "code",
   "execution_count": 8,
   "id": "01888bbf-9606-4bac-a9e7-af0e125c79b7",
   "metadata": {},
   "outputs": [
    {
     "name": "stdout",
     "output_type": "stream",
     "text": [
      "Final Dictionary: {'X': 1, 'Y': 2, 'Z': 3, 'x': 1, 'y': 2, 'z': 3}\n"
     ]
    }
   ],
   "source": [
    "print(\"Final Dictionary:\", data_dict)\n"
   ]
  }
 ],
 "metadata": {
  "kernelspec": {
   "display_name": "Python 3 (ipykernel)",
   "language": "python",
   "name": "python3"
  },
  "language_info": {
   "codemirror_mode": {
    "name": "ipython",
    "version": 3
   },
   "file_extension": ".py",
   "mimetype": "text/x-python",
   "name": "python",
   "nbconvert_exporter": "python",
   "pygments_lexer": "ipython3",
   "version": "3.12.7"
  }
 },
 "nbformat": 4,
 "nbformat_minor": 5
}
