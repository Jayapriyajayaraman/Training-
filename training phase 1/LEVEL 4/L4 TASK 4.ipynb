{
 "cells": [
  {
   "cell_type": "code",
   "execution_count": 1,
   "id": "7003d4f5-734d-4a73-bab6-d6b4d076faaa",
   "metadata": {},
   "outputs": [],
   "source": [
    "import logging"
   ]
  },
  {
   "cell_type": "code",
   "execution_count": 2,
   "id": "1164fc31-31c5-4887-aecf-38b1ae21ff98",
   "metadata": {},
   "outputs": [],
   "source": [
    "logging.basicConfig(\n",
    "    filename=\"app.log\",  \n",
    "    level=logging.INFO, \n",
    "    format=\"%(asctime)s - %(levelname)s - %(message)s\"\n",
    ")"
   ]
  },
  {
   "cell_type": "code",
   "execution_count": 3,
   "id": "3d3184e2-159d-4969-9942-16377816f1c0",
   "metadata": {},
   "outputs": [],
   "source": [
    "logging.info(\"Script has started.\")"
   ]
  },
  {
   "cell_type": "code",
   "execution_count": 4,
   "id": "80c3eb04-d38a-4301-94ad-68f5e337e16d",
   "metadata": {},
   "outputs": [
    {
     "name": "stdout",
     "output_type": "stream",
     "text": [
      "Logging setup complete. Check 'app.log' for entries.\n"
     ]
    }
   ],
   "source": [
    "logging.info(\"Task completed successfully.\")\n",
    "print(\"Logging setup complete. Check 'app.log' for entries.\")"
   ]
  },
  {
   "cell_type": "code",
   "execution_count": null,
   "id": "06e03324-0791-4ba5-849a-fb1085ad3e9f",
   "metadata": {},
   "outputs": [],
   "source": []
  }
 ],
 "metadata": {
  "kernelspec": {
   "display_name": "Python 3 (ipykernel)",
   "language": "python",
   "name": "python3"
  },
  "language_info": {
   "codemirror_mode": {
    "name": "ipython",
    "version": 3
   },
   "file_extension": ".py",
   "mimetype": "text/x-python",
   "name": "python",
   "nbconvert_exporter": "python",
   "pygments_lexer": "ipython3",
   "version": "3.12.7"
  }
 },
 "nbformat": 4,
 "nbformat_minor": 5
}
