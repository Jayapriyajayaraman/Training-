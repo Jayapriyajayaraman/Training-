{
 "cells": [
  {
   "cell_type": "code",
   "execution_count": 1,
   "id": "c5a01421-e841-4881-8f70-9ee4b172f413",
   "metadata": {},
   "outputs": [],
   "source": [
    "import pandas as pd"
   ]
  },
  {
   "cell_type": "code",
   "execution_count": 2,
   "id": "7a743037-ec96-40c8-bce7-03a3e7996435",
   "metadata": {},
   "outputs": [],
   "source": [
    "df = pd.read_csv(\"house_prices.csv\")"
   ]
  },
  {
   "cell_type": "code",
   "execution_count": 3,
   "id": "3418d92c-d75c-4989-b60d-73514e5f1724",
   "metadata": {},
   "outputs": [
    {
     "name": "stdout",
     "output_type": "stream",
     "text": [
      "Column names in dataset: Index(['Index', 'Title', 'Description', 'Amount(in rupees)',\n",
      "       'Price (in rupees)', 'location', 'Carpet Area', 'Status', 'Floor',\n",
      "       'Transaction', 'Furnishing', 'facing', 'overlooking', 'Society',\n",
      "       'Bathroom', 'Balcony', 'Car Parking', 'Ownership', 'Super Area',\n",
      "       'Dimensions', 'Plot Area'],\n",
      "      dtype='object')\n"
     ]
    }
   ],
   "source": [
    "print(\"Column names in dataset:\", df.columns)"
   ]
  },
  {
   "cell_type": "code",
   "execution_count": 4,
   "id": "8e070253-a209-42cc-a0df-0341ffacab1a",
   "metadata": {},
   "outputs": [],
   "source": [
    "price_col = \"Price (in rupees)\"\n",
    "sqft_col = \"Carpet Area\"\n"
   ]
  },
  {
   "cell_type": "code",
   "execution_count": 5,
   "id": "a2690c36-7d1b-494b-a4d4-917bc55e0285",
   "metadata": {},
   "outputs": [],
   "source": [
    "df[sqft_col] = df[sqft_col].astype(str).str.extract(r'(\\d+)')\n",
    "df[sqft_col] = pd.to_numeric(df[sqft_col], errors='coerce')\n"
   ]
  },
  {
   "cell_type": "code",
   "execution_count": 6,
   "id": "adeec9db-2251-4488-855f-19d278972bf8",
   "metadata": {},
   "outputs": [],
   "source": [
    "df[price_col] = pd.to_numeric(df[price_col], errors='coerce')"
   ]
  },
  {
   "cell_type": "code",
   "execution_count": 7,
   "id": "bbd9606a-fc09-48c3-b3f6-0ca9061dbe3a",
   "metadata": {},
   "outputs": [
    {
     "name": "stdout",
     "output_type": "stream",
     "text": [
      "   Index                                              Title  \\\n",
      "0      0  1 BHK Ready to Occupy Flat for sale in Srushti...   \n",
      "1      1  2 BHK Ready to Occupy Flat for sale in Dosti V...   \n",
      "2      2  2 BHK Ready to Occupy Flat for sale in Sunrise...   \n",
      "3      3        1 BHK Ready to Occupy Flat for sale Kasheli   \n",
      "4      4  2 BHK Ready to Occupy Flat for sale in TenX Ha...   \n",
      "\n",
      "                                         Description Amount(in rupees)  \\\n",
      "0  Bhiwandi, Thane has an attractive 1 BHK Flat f...           42 Lac    \n",
      "1  One can find this stunning 2 BHK flat for sale...           98 Lac    \n",
      "2  Up for immediate sale is a 2 BHK apartment in ...          1.40 Cr    \n",
      "3  This beautiful 1 BHK Flat is available for sal...           25 Lac    \n",
      "4  This lovely 2 BHK Flat in Pokhran Road, Thane ...          1.60 Cr    \n",
      "\n",
      "   Price (in rupees) location  Carpet Area         Status         Floor  \\\n",
      "0             6000.0    thane        500.0  Ready to Move  10 out of 11   \n",
      "1            13799.0    thane        473.0  Ready to Move   3 out of 22   \n",
      "2            17500.0    thane        779.0  Ready to Move  10 out of 29   \n",
      "3                NaN    thane        530.0  Ready to Move    1 out of 3   \n",
      "4            18824.0    thane        635.0  Ready to Move  20 out of 42   \n",
      "\n",
      "  Transaction  ...             overlooking  \\\n",
      "0      Resale  ...                     NaN   \n",
      "1      Resale  ...             Garden/Park   \n",
      "2      Resale  ...             Garden/Park   \n",
      "3      Resale  ...                     NaN   \n",
      "4      Resale  ...  Garden/Park, Main Road   \n",
      "\n",
      "                               Society Bathroom Balcony Car Parking  \\\n",
      "0  Srushti Siddhi Mangal Murti Complex        1       2         NaN   \n",
      "1                          Dosti Vihar        2     NaN      1 Open   \n",
      "2                 Sunrise by Kalpataru        2     NaN   1 Covered   \n",
      "3                                  NaN        1       1         NaN   \n",
      "4          TenX Habitat Raymond Realty        2     NaN   1 Covered   \n",
      "\n",
      "              Ownership Super Area Dimensions Plot Area  price_per_sqft  \n",
      "0                   NaN        NaN        NaN       NaN       12.000000  \n",
      "1              Freehold        NaN        NaN       NaN       29.173362  \n",
      "2              Freehold        NaN        NaN       NaN       22.464698  \n",
      "3                   NaN        NaN        NaN       NaN             NaN  \n",
      "4  Co-operative Society        NaN        NaN       NaN       29.644094  \n",
      "\n",
      "[5 rows x 22 columns]\n"
     ]
    }
   ],
   "source": [
    "df = df.dropna(subset=[sqft_col])\n",
    "df[\"price_per_sqft\"] = df[price_col] / df[sqft_col]\n",
    "print(df.head())\n"
   ]
  },
  {
   "cell_type": "code",
   "execution_count": null,
   "id": "08b62505-201e-47e3-91bf-abd71fb2a73b",
   "metadata": {},
   "outputs": [],
   "source": []
  }
 ],
 "metadata": {
  "kernelspec": {
   "display_name": "Python 3 (ipykernel)",
   "language": "python",
   "name": "python3"
  },
  "language_info": {
   "codemirror_mode": {
    "name": "ipython",
    "version": 3
   },
   "file_extension": ".py",
   "mimetype": "text/x-python",
   "name": "python",
   "nbconvert_exporter": "python",
   "pygments_lexer": "ipython3",
   "version": "3.12.7"
  }
 },
 "nbformat": 4,
 "nbformat_minor": 5
}
