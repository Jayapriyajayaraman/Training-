{
 "cells": [
  {
   "cell_type": "code",
   "execution_count": 4,
   "id": "2d8c1b96-c82e-47aa-b2c1-1f75ea7c9bf1",
   "metadata": {},
   "outputs": [],
   "source": [
    "import threading"
   ]
  },
  {
   "cell_type": "code",
   "execution_count": 9,
   "id": "c13150c3-b524-46a6-b423-d859fe2dff2d",
   "metadata": {},
   "outputs": [],
   "source": [
    "def print_numbers():\n",
    "    numbers = [1, 2, 3]\n",
    "    for num in numbers:\n",
    "        print(num)\n",
    "        time.sleep(0.5)\n",
    "       "
   ]
  },
  {
   "cell_type": "code",
   "execution_count": 5,
   "id": "abf6e7dd-de62-4e10-aa39-07db182d6c6c",
   "metadata": {},
   "outputs": [],
   "source": [
    "def print_letters():\n",
    "    print([\"A\", \"B\", \"C\"])  \n"
   ]
  },
  {
   "cell_type": "code",
   "execution_count": 17,
   "id": "9e505e48-278d-4855-be56-dfb63dfa0dbc",
   "metadata": {},
   "outputs": [],
   "source": [
    "thread1 = threading.Thread(target=print_numbers)\n",
    "thread2 = threading.Thread(target=print_letters)"
   ]
  },
  {
   "cell_type": "code",
   "execution_count": 18,
   "id": "8a4f9882-3b3c-46f8-8c67-b9612feee340",
   "metadata": {},
   "outputs": [
    {
     "name": "stdout",
     "output_type": "stream",
     "text": [
      "1\n",
      "2\n",
      "3\n",
      "['A', 'B', 'C']\n"
     ]
    }
   ],
   "source": [
    "thread1.start()\n",
    "thread2.start()\n"
   ]
  },
  {
   "cell_type": "code",
   "execution_count": 15,
   "id": "44d0dfa7-2a43-4638-8147-d545a8d40b88",
   "metadata": {},
   "outputs": [
    {
     "name": "stdout",
     "output_type": "stream",
     "text": [
      "Both threads have finished execution.\n"
     ]
    }
   ],
   "source": [
    "thread1.join()\n",
    "thread2.join()\n",
    "print(\"Both threads have finished execution.\")\n"
   ]
  }
 ],
 "metadata": {
  "kernelspec": {
   "display_name": "Python 3 (ipykernel)",
   "language": "python",
   "name": "python3"
  },
  "language_info": {
   "codemirror_mode": {
    "name": "ipython",
    "version": 3
   },
   "file_extension": ".py",
   "mimetype": "text/x-python",
   "name": "python",
   "nbconvert_exporter": "python",
   "pygments_lexer": "ipython3",
   "version": "3.12.7"
  }
 },
 "nbformat": 4,
 "nbformat_minor": 5
}
