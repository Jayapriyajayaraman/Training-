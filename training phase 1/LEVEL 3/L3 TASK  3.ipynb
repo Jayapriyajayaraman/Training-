{
 "cells": [
  {
   "cell_type": "code",
   "execution_count": 1,
   "id": "e0b9952f-dfec-4fb4-80bb-cb187e0ac03d",
   "metadata": {},
   "outputs": [],
   "source": [
    "import time"
   ]
  },
  {
   "cell_type": "code",
   "execution_count": 2,
   "id": "b362d011-5473-4849-91ef-cbdb5a0a9016",
   "metadata": {},
   "outputs": [],
   "source": [
    "def timer_decorator(func):\n",
    "    def wrapper(*args, **kwargs):\n",
    "        start_time = time.time() \n",
    "        result = func(*args, **kwargs)  \n",
    "        end_time = time.time()  \n",
    "        print(f\"Function runtime: {end_time - start_time:.4f} seconds\")\n",
    "        return result\n",
    "    return wrapper"
   ]
  },
  {
   "cell_type": "code",
   "execution_count": 4,
   "id": "060547f0-4047-49c1-a579-94672df3d3ce",
   "metadata": {},
   "outputs": [
    {
     "name": "stdout",
     "output_type": "stream",
     "text": [
      "Function executed\n",
      "Function runtime: 1.0012 seconds\n"
     ]
    }
   ],
   "source": [
    "@timer_decorator\n",
    "def sample_function():\n",
    "    time.sleep(1)  \n",
    "    print(\"Function executed\")\n",
    "sample_function()\n"
   ]
  },
  {
   "cell_type": "code",
   "execution_count": null,
   "id": "0337d4e8-af6f-4167-9fee-f72f60277f62",
   "metadata": {},
   "outputs": [],
   "source": []
  }
 ],
 "metadata": {
  "kernelspec": {
   "display_name": "Python 3 (ipykernel)",
   "language": "python",
   "name": "python3"
  },
  "language_info": {
   "codemirror_mode": {
    "name": "ipython",
    "version": 3
   },
   "file_extension": ".py",
   "mimetype": "text/x-python",
   "name": "python",
   "nbconvert_exporter": "python",
   "pygments_lexer": "ipython3",
   "version": "3.12.7"
  }
 },
 "nbformat": 4,
 "nbformat_minor": 5
}
