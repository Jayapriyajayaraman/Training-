{
 "cells": [
  {
   "cell_type": "code",
   "execution_count": 1,
   "id": "2f161a17-e7f2-4885-9e6a-78a5b3c979c9",
   "metadata": {},
   "outputs": [],
   "source": [
    "import copy"
   ]
  },
  {
   "cell_type": "code",
   "execution_count": 2,
   "id": "b8b7367c-ef62-4455-be6f-a194763311c9",
   "metadata": {},
   "outputs": [],
   "source": [
    "original_list = [[9, 2], [3, 4]]"
   ]
  },
  {
   "cell_type": "code",
   "execution_count": 3,
   "id": "914b4714-94a6-4c37-b91b-031c70c9933c",
   "metadata": {},
   "outputs": [],
   "source": [
    "shallow_copy = copy.copy(original_list)"
   ]
  },
  {
   "cell_type": "code",
   "execution_count": 4,
   "id": "bb87c29f-8580-49a5-8eb2-32f1e595d9f1",
   "metadata": {},
   "outputs": [],
   "source": [
    "deep_copy = copy.deepcopy(original_list)"
   ]
  },
  {
   "cell_type": "code",
   "execution_count": 5,
   "id": "3ca2c8a7-e336-4dd1-a12f-18a4801c5f7e",
   "metadata": {},
   "outputs": [],
   "source": [
    "shallow_copy[0][0] = 9\n",
    "deep_copy[0][0] = 8"
   ]
  },
  {
   "cell_type": "code",
   "execution_count": 6,
   "id": "1aa12dc9-bed0-47bc-a831-4d1a9ce93bee",
   "metadata": {},
   "outputs": [
    {
     "name": "stdout",
     "output_type": "stream",
     "text": [
      "Original List: [[9, 2], [3, 4]]\n",
      "Shallow Copy: [[9, 2], [3, 4]]\n",
      "Deep Copy: [[8, 2], [3, 4]]\n"
     ]
    }
   ],
   "source": [
    "print(\"Original List:\", original_list)   \n",
    "print(\"Shallow Copy:\", shallow_copy)  \n",
    "print(\"Deep Copy:\", deep_copy)         \n"
   ]
  },
  {
   "cell_type": "code",
   "execution_count": null,
   "id": "b4b6e90f-3013-4565-a26f-fea85837ca34",
   "metadata": {},
   "outputs": [],
   "source": []
  }
 ],
 "metadata": {
  "kernelspec": {
   "display_name": "Python 3 (ipykernel)",
   "language": "python",
   "name": "python3"
  },
  "language_info": {
   "codemirror_mode": {
    "name": "ipython",
    "version": 3
   },
   "file_extension": ".py",
   "mimetype": "text/x-python",
   "name": "python",
   "nbconvert_exporter": "python",
   "pygments_lexer": "ipython3",
   "version": "3.12.7"
  }
 },
 "nbformat": 4,
 "nbformat_minor": 5
}
