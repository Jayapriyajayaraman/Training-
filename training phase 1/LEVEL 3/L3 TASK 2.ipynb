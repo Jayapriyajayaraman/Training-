{
 "cells": [
  {
   "cell_type": "code",
   "execution_count": 1,
   "id": "ec10174c-c846-4c0c-9817-abd0cf5e2cd7",
   "metadata": {},
   "outputs": [],
   "source": [
    "class Animal:\n",
    "    def make_sound(self):\n",
    "        return \"Some generic sound\""
   ]
  },
  {
   "cell_type": "code",
   "execution_count": 2,
   "id": "35ea2d05-207d-47e9-b8bf-223a9de86904",
   "metadata": {},
   "outputs": [],
   "source": [
    "class Dog(Animal):\n",
    "   def make_sound(self):\n",
    "        return \"Woof\"\n"
   ]
  },
  {
   "cell_type": "code",
   "execution_count": 3,
   "id": "6accc936-622c-4db3-84c3-02ff295eac2c",
   "metadata": {},
   "outputs": [
    {
     "name": "stdout",
     "output_type": "stream",
     "text": [
      "Woof\n"
     ]
    }
   ],
   "source": [
    "dog = Dog()\n",
    "sound = dog.make_sound()\n",
    "print(sound)"
   ]
  },
  {
   "cell_type": "code",
   "execution_count": null,
   "id": "623507f5-1ccc-468d-a138-f539ce6ab1d3",
   "metadata": {},
   "outputs": [],
   "source": []
  }
 ],
 "metadata": {
  "kernelspec": {
   "display_name": "Python 3 (ipykernel)",
   "language": "python",
   "name": "python3"
  },
  "language_info": {
   "codemirror_mode": {
    "name": "ipython",
    "version": 3
   },
   "file_extension": ".py",
   "mimetype": "text/x-python",
   "name": "python",
   "nbconvert_exporter": "python",
   "pygments_lexer": "ipython3",
   "version": "3.12.7"
  }
 },
 "nbformat": 4,
 "nbformat_minor": 5
}
