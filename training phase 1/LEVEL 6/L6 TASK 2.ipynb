{
 "cells": [
  {
   "cell_type": "markdown",
   "id": "4b11a502-d8fe-415f-805d-d0e6de2b611a",
   "metadata": {},
   "source": [
    "Quantitative Variables:\n",
    "\n",
    "        These are numerical values that can be measured or counted"
   ]
  },
  {
   "cell_type": "markdown",
   "id": "2209165d-a019-4c23-9c82-83385253c425",
   "metadata": {},
   "source": [
    "Qualitative Variables: \n",
    "\n",
    "     These are categories or labels that describe characteristics."
   ]
  },
  {
   "cell_type": "code",
   "execution_count": 13,
   "id": "c1f1d47e-bd1e-401d-9219-2b2722660248",
   "metadata": {},
   "outputs": [
    {
     "name": "stdout",
     "output_type": "stream",
     "text": [
      "Classification of Quantitative Variables:\n",
      "\n",
      "Number of pets: Quantitative (Discrete)\n",
      "Weight in kg: Quantitative (Continuous)\n"
     ]
    }
   ],
   "source": [
    "def classify_quantitative():\n",
    "    quantitative_variables = {\n",
    "        \"Number of pets\": \"Quantitative (Discrete)\",\n",
    "        \"Weight in kg\": \"Quantitative (Continuous)\"\n",
    "    }\n",
    "\n",
    "    print(\"Classification of Quantitative Variables:\\n\")\n",
    "    for variable, var_type in quantitative_variables.items():\n",
    "        print(f\"{variable}: {var_type}\")\n",
    "classify_quantitative()\n"
   ]
  },
  {
   "cell_type": "code",
   "execution_count": 12,
   "id": "5fae8f3e-dadd-489a-aa73-ff62d57b957e",
   "metadata": {},
   "outputs": [
    {
     "name": "stdout",
     "output_type": "stream",
     "text": [
      "Classification of Qualitative Variables:\n",
      "\n",
      "Blood type: Qualitative (Nominal)\n",
      "Satisfaction level (low, medium, high): Qualitative (Ordinal)\n"
     ]
    }
   ],
   "source": [
    "def classify_qualitative():\n",
    "    qualitative_variables = {\n",
    "        \"Blood type\": \"Qualitative (Nominal)\",\n",
    "        \"Satisfaction level (low, medium, high)\": \"Qualitative (Ordinal)\"\n",
    "    }\n",
    "\n",
    "    print(\"Classification of Qualitative Variables:\\n\")\n",
    "    for variable, var_type in qualitative_variables.items():\n",
    "        print(f\"{variable}: {var_type}\")\n",
    "classify_qualitative()\n"
   ]
  },
  {
   "cell_type": "code",
   "execution_count": null,
   "id": "1e40c5b1-d4ec-4236-a501-f9bb44dc1501",
   "metadata": {},
   "outputs": [],
   "source": []
  }
 ],
 "metadata": {
  "kernelspec": {
   "display_name": "Python 3 (ipykernel)",
   "language": "python",
   "name": "python3"
  },
  "language_info": {
   "codemirror_mode": {
    "name": "ipython",
    "version": 3
   },
   "file_extension": ".py",
   "mimetype": "text/x-python",
   "name": "python",
   "nbconvert_exporter": "python",
   "pygments_lexer": "ipython3",
   "version": "3.12.7"
  }
 },
 "nbformat": 4,
 "nbformat_minor": 5
}
