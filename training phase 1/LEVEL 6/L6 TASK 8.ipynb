{
 "cells": [
  {
   "cell_type": "code",
   "execution_count": 3,
   "id": "9022624b-7d40-48e2-a656-830dd1eea987",
   "metadata": {},
   "outputs": [],
   "source": [
    "import scipy.stats as stats"
   ]
  },
  {
   "cell_type": "code",
   "execution_count": 7,
   "id": "eb1a5f64-b470-48c5-9b35-34a05ee3fa1e",
   "metadata": {},
   "outputs": [],
   "source": [
    "mean = 100\n",
    "std_dev = 15\n"
   ]
  },
  {
   "cell_type": "code",
   "execution_count": 8,
   "id": "19083fb8-d7f9-4f32-82f6-8718172008d2",
   "metadata": {},
   "outputs": [],
   "source": [
    " p_115 = stats.norm.cdf(115, mean, std_dev)  # Probability below 115\n",
    " p_85 = stats.norm.cdf(85, mean, std_dev)"
   ]
  },
  {
   "cell_type": "code",
   "execution_count": 9,
   "id": "78dcb2b2-e49f-40e7-a4ed-105720d936a3",
   "metadata": {},
   "outputs": [],
   "source": [
    "percentage = (p_115 - p_85) * 100"
   ]
  },
  {
   "cell_type": "code",
   "execution_count": 10,
   "id": "a53e3008-0c9f-4327-86a7-021af806ef84",
   "metadata": {},
   "outputs": [
    {
     "name": "stdout",
     "output_type": "stream",
     "text": [
      "Approximately 68.27% of the data lies between 85 and 115, which aligns with the Empirical Rule (~68%).\n"
     ]
    }
   ],
   "source": [
    "print(f\"Approximately {percentage:.2f}% of the data lies between 85 and 115, which aligns with the Empirical Rule (~68%).\")"
   ]
  },
  {
   "cell_type": "code",
   "execution_count": null,
   "id": "b0a4fb31-ba99-482a-92cb-80b56681431d",
   "metadata": {},
   "outputs": [],
   "source": []
  }
 ],
 "metadata": {
  "kernelspec": {
   "display_name": "Python 3 (ipykernel)",
   "language": "python",
   "name": "python3"
  },
  "language_info": {
   "codemirror_mode": {
    "name": "ipython",
    "version": 3
   },
   "file_extension": ".py",
   "mimetype": "text/x-python",
   "name": "python",
   "nbconvert_exporter": "python",
   "pygments_lexer": "ipython3",
   "version": "3.12.7"
  }
 },
 "nbformat": 4,
 "nbformat_minor": 5
}
