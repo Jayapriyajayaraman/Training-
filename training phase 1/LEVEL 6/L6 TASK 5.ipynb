{
 "cells": [
  {
   "cell_type": "code",
   "execution_count": 1,
   "id": "732823cb-6a9a-4fb6-9f93-b4842bd055dd",
   "metadata": {},
   "outputs": [
    {
     "name": "stdout",
     "output_type": "stream",
     "text": [
      "For surveying employee satisfaction in a company with departments of varying sizes, the best sampling technique is **Stratified Sampling**.\n",
      "\n",
      "Reason:\n",
      "- The company has different departments, each with a different number of employees.\n",
      "- Stratified sampling ensures fair representation by dividing employees into groups (departments) and then selecting a proportional sample from each group.\n",
      "\n",
      "Example:\n",
      "- If the HR department has 50 employees and the IT department has 200, stratified sampling ensures that both departments are included in the survey in proportion to their size.\n",
      "\n",
      "Conclusion: **Stratified sampling is the best choice because it ensures each department is fairly represented based on its size.**\n"
     ]
    }
   ],
   "source": [
    "def sampling_technique():\n",
    "    explanation = (\n",
    "        \"For surveying employee satisfaction in a company with departments of varying sizes, the best sampling technique is **Stratified Sampling**.\\n\\n\"\n",
    "        \"Reason:\\n\"\n",
    "        \"- The company has different departments, each with a different number of employees.\\n\"\n",
    "        \"- Stratified sampling ensures fair representation by dividing employees into groups (departments) and then selecting a proportional sample from each group.\\n\\n\"\n",
    "        \"Example:\\n\"\n",
    "        \"- If the HR department has 50 employees and the IT department has 200, stratified sampling ensures that both departments are included in the survey in proportion to their size.\\n\\n\"\n",
    "        \"Conclusion: **Stratified sampling is the best choice because it ensures each department is fairly represented based on its size.**\"\n",
    "    )\n",
    "    \n",
    "    return explanation\n",
    "print(sampling_technique())\n"
   ]
  },
  {
   "cell_type": "code",
   "execution_count": null,
   "id": "56a2e3d7-68d1-416a-849e-81997e8caf8b",
   "metadata": {},
   "outputs": [],
   "source": []
  }
 ],
 "metadata": {
  "kernelspec": {
   "display_name": "Python 3 (ipykernel)",
   "language": "python",
   "name": "python3"
  },
  "language_info": {
   "codemirror_mode": {
    "name": "ipython",
    "version": 3
   },
   "file_extension": ".py",
   "mimetype": "text/x-python",
   "name": "python",
   "nbconvert_exporter": "python",
   "pygments_lexer": "ipython3",
   "version": "3.12.7"
  }
 },
 "nbformat": 4,
 "nbformat_minor": 5
}
