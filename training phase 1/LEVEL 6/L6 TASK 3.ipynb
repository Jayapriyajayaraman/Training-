{
 "cells": [
  {
   "cell_type": "markdown",
   "id": "be0ae21f-5dfe-4e34-ae26-637dbdeefc3c",
   "metadata": {},
   "source": [
    "Population: \n",
    "\n",
    "       The entire group that a researcher wants to study. Example: All families in a city."
   ]
  },
  {
   "cell_type": "markdown",
   "id": "c18204fa-f786-4105-a509-bb1f3f6ff1ed",
   "metadata": {},
   "source": [
    "Sample: \n",
    "\n",
    "      A smaller subset of the population selected for analysis. Example: 100 surveyed households."
   ]
  },
  {
   "cell_type": "code",
   "execution_count": 4,
   "id": "70b8e557-1a9c-4af1-9ca3-3731f5458641",
   "metadata": {},
   "outputs": [],
   "source": [
    "def classify_population_sample():\n",
    "    population = \"All families in the city.\"\n",
    "    sample = \"100 surveyed households.\"\n",
    "\n",
    "    print(\"Correct Identification of Population and Sample:\\n\")\n",
    "    print(f\"Population: {population}\")\n",
    "    print(f\"Sample: {sample}\")\n"
   ]
  },
  {
   "cell_type": "code",
   "execution_count": 5,
   "id": "a9eae7a6-5be6-4e1a-a94b-7c8c36d0b1ea",
   "metadata": {},
   "outputs": [
    {
     "name": "stdout",
     "output_type": "stream",
     "text": [
      "Population: The entire group that a researcher wants to study. Example: All families in a city.\n",
      "Sample: A smaller subset of the population selected for analysis. Example: 100 surveyed households.\n"
     ]
    }
   ],
   "source": [
    "print(define_population())\n",
    "print(define_sample())\n"
   ]
  },
  {
   "cell_type": "code",
   "execution_count": 6,
   "id": "5c625de2-b84c-42bc-a68c-fa9d50efbe54",
   "metadata": {},
   "outputs": [
    {
     "name": "stdout",
     "output_type": "stream",
     "text": [
      "Correct Identification of Population and Sample:\n",
      "\n",
      "Population: All families in the city.\n",
      "Sample: 100 surveyed households.\n"
     ]
    }
   ],
   "source": [
    "classify_population_sample()"
   ]
  },
  {
   "cell_type": "code",
   "execution_count": null,
   "id": "99e1e41f-d25a-4f4a-803f-29c0dec1bb9b",
   "metadata": {},
   "outputs": [],
   "source": []
  }
 ],
 "metadata": {
  "kernelspec": {
   "display_name": "Python 3 (ipykernel)",
   "language": "python",
   "name": "python3"
  },
  "language_info": {
   "codemirror_mode": {
    "name": "ipython",
    "version": 3
   },
   "file_extension": ".py",
   "mimetype": "text/x-python",
   "name": "python",
   "nbconvert_exporter": "python",
   "pygments_lexer": "ipython3",
   "version": "3.12.7"
  }
 },
 "nbformat": 4,
 "nbformat_minor": 5
}
