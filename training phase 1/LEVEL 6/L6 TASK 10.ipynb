{
 "cells": [
  {
   "cell_type": "code",
   "execution_count": 3,
   "id": "7f810fb9-543b-488d-ae72-b595d9e9294b",
   "metadata": {},
   "outputs": [],
   "source": [
    "import numpy as np\n",
    "import matplotlib.pyplot as plt\n",
    "import seaborn as sns\n"
   ]
  },
  {
   "cell_type": "code",
   "execution_count": 8,
   "id": "ec32755f-4bb0-4264-8b57-401cd150f294",
   "metadata": {},
   "outputs": [],
   "source": [
    "data = np.array([1, 2, 3, 4, 5, 6, 7, 8, 9, 20])"
   ]
  },
  {
   "cell_type": "code",
   "execution_count": 6,
   "id": "b106bb04-7fc0-442b-b80c-0c2c758c7be2",
   "metadata": {},
   "outputs": [],
   "source": [
    "Q1 = np.percentile(data, 25)\n",
    "Q3 = np.percentile(data, 75)\n"
   ]
  },
  {
   "cell_type": "code",
   "execution_count": 7,
   "id": "341ffa3c-fcdd-4b9b-981d-2e58a1da5564",
   "metadata": {},
   "outputs": [],
   "source": [
    "IQR = Q3 - Q1\n"
   ]
  },
  {
   "cell_type": "code",
   "execution_count": 9,
   "id": "57d98bd6-971f-4a4e-970b-f6295f4fd485",
   "metadata": {},
   "outputs": [],
   "source": [
    "lower_bound = Q1 - 1.5 * IQR\n",
    "upper_bound = Q3 + 1.5 * IQR\n"
   ]
  },
  {
   "cell_type": "code",
   "execution_count": 10,
   "id": "29e46d79-adc3-42e6-888a-9bd3d18ab685",
   "metadata": {},
   "outputs": [],
   "source": [
    "outliers = data[(data < lower_bound) | (data > upper_bound)]\n"
   ]
  },
  {
   "cell_type": "code",
   "execution_count": 11,
   "id": "712d417d-9717-43aa-9d10-fccd20ec0e03",
   "metadata": {},
   "outputs": [
    {
     "name": "stdout",
     "output_type": "stream",
     "text": [
      "IQR: 4.5\n",
      "Lower Bound: -3.5, Upper Bound: 14.5\n",
      "Outliers: [20]\n"
     ]
    }
   ],
   "source": [
    "print(f\"IQR: {IQR}\")\n",
    "print(f\"Lower Bound: {lower_bound}, Upper Bound: {upper_bound}\")\n",
    "print(f\"Outliers: {outliers}\")\n"
   ]
  },
  {
   "cell_type": "code",
   "execution_count": 12,
   "id": "2ff7d49f-f564-4d1e-bbf5-7eba0068d0e5",
   "metadata": {},
   "outputs": [
    {
     "data": {
      "image/png": "[encoded data removed]",
      "text/plain": [
       "<Figure size 500x400 with 1 Axes>"
      ]
     },
     "metadata": {},
     "output_type": "display_data"
    }
   ],
   "source": [
    "plt.figure(figsize=(5, 4))\n",
    "sns.boxplot(x=data)\n",
    "plt.title(\"Box Plot of the Dataset\")\n",
    "plt.show()\n"
   ]
  },
  {
   "cell_type": "code",
   "execution_count": null,
   "id": "5df58a33-aacc-436d-a772-cfb8e87ff488",
   "metadata": {},
   "outputs": [],
   "source": []
  }
 ],
 "metadata": {
  "kernelspec": {
   "display_name": "Python 3 (ipykernel)",
   "language": "python",
   "name": "python3"
  },
  "language_info": {
   "codemirror_mode": {
    "name": "ipython",
    "version": 3
   },
   "file_extension": ".py",
   "mimetype": "text/x-python",
   "name": "python",
   "nbconvert_exporter": "python",
   "pygments_lexer": "ipython3",
   "version": "3.12.7"
  }
 },
 "nbformat": 4,
 "nbformat_minor": 5
}
