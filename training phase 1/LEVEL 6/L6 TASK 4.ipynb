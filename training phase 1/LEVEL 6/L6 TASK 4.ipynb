{
 "cells": [
  {
   "cell_type": "code",
   "execution_count": 6,
   "id": "15d95bec-3363-42d4-8ba0-0104c25dd76c",
   "metadata": {},
   "outputs": [],
   "source": [
    "import statistics"
   ]
  },
  {
   "cell_type": "code",
   "execution_count": 30,
   "id": "5d6525c8-4420-423a-b486-e96d167ce68c",
   "metadata": {},
   "outputs": [
    {
     "name": "stdout",
     "output_type": "stream",
     "text": [
      "Mean: 21.00\n",
      "Median: 5.5\n",
      "Mode: 5\n",
      "\n",
      "Interpretation: The mean is significantly higher due to the outlier (100). The median (5.5) and mode (5) better represent the central tendency of the data.\n"
     ]
    }
   ],
   "source": [
    "   def central_tendency_analysis():\n",
    "    data = [3, 5, 5, 6, 7, 100]\n",
    "    mean_value = sum(data) / len(data)  \n",
    "    median_value = statistics.median(data)  \n",
    "    mode_value = statistics.mode(data)  \n",
    "    interpretation = (\n",
    "        f\"Mean: {mean_value:.2f}\\n\"\n",
    "        f\"Median: {median_value}\\n\"\n",
    "        f\"Mode: {mode_value}\\n\\n\"\n",
    "        \"Interpretation: The mean is significantly higher due to the outlier (100). \"\n",
    "        \"The median (5.5) and mode (5) better represent the central tendency of the data.\"\n",
    "    )\n",
    "    \n",
    "    return interpretation\n",
    "print(central_tendency_analysis())"
   ]
  },
  {
   "cell_type": "code",
   "execution_count": null,
   "id": "4be600dc-f76c-4b69-8326-c14fab49b648",
   "metadata": {},
   "outputs": [],
   "source": []
  }
 ],
 "metadata": {
  "kernelspec": {
   "display_name": "Python 3 (ipykernel)",
   "language": "python",
   "name": "python3"
  },
  "language_info": {
   "codemirror_mode": {
    "name": "ipython",
    "version": 3
   },
   "file_extension": ".py",
   "mimetype": "text/x-python",
   "name": "python",
   "nbconvert_exporter": "python",
   "pygments_lexer": "ipython3",
   "version": "3.12.7"
  }
 },
 "nbformat": 4,
 "nbformat_minor": 5
}
