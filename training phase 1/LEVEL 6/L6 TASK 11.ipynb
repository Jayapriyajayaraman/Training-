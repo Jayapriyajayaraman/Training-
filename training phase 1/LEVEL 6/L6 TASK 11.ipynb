{
 "cells": [
  {
   "cell_type": "code",
   "execution_count": 2,
   "id": "2c08f6be-e6e7-4017-8540-61bcd4fc91e8",
   "metadata": {},
   "outputs": [],
   "source": [
    "import numpy as np"
   ]
  },
  {
   "cell_type": "code",
   "execution_count": 6,
   "id": "ba663be9-d521-425b-a4b1-0dad19db11f8",
   "metadata": {},
   "outputs": [],
   "source": [
    "mean_value = np.mean(data)"
   ]
  },
  {
   "cell_type": "code",
   "execution_count": 4,
   "id": "0c14daa1-a8a8-4e2f-9f60-ac3073d66dc3",
   "metadata": {},
   "outputs": [],
   "source": [
    "std_dev_value = np.std(data, ddof=0)"
   ]
  },
  {
   "cell_type": "code",
   "execution_count": 7,
   "id": "7b60a1e6-5258-44e0-bfb3-4c276eaf6c56",
   "metadata": {},
   "outputs": [],
   "source": [
    " z_scores = [(x - mean_value) / std_dev_value for x in data]"
   ]
  },
  {
   "cell_type": "code",
   "execution_count": 8,
   "id": "ee0f6838-0538-4025-8cba-fb15d9d85d33",
   "metadata": {},
   "outputs": [],
   "source": [
    " outliers = [data[i] for i in range(len(data)) if abs(z_scores[i]) > 3]"
   ]
  },
  {
   "cell_type": "code",
   "execution_count": 10,
   "id": "fabc9e58-2fde-42e8-bb7d-762a9050dd5e",
   "metadata": {},
   "outputs": [
    {
     "name": "stdout",
     "output_type": "stream",
     "text": [
      "Dataset: [1, 2, 3, 4, 5, 6, 7, 8, 9, 20]\n",
      "Mean: 6.50, Standard Deviation: 5.12\n",
      "Z-Scores: [-1.07, -0.88, -0.68, -0.49, -0.29, -0.1, 0.1, 0.29, 0.49, 2.63]\n",
      "\n"
     ]
    }
   ],
   "source": [
    "print(f\"Dataset: {data}\")\n",
    "print(f\"Mean: {mean_value:.2f}, Standard Deviation: {std_dev_value:.2f}\")\n",
    "print(f\"Z-Scores: {[round(z, 2) for z in z_scores]}\\n\")\n"
   ]
  },
  {
   "cell_type": "code",
   "execution_count": 13,
   "id": "26da4f57-e6fa-4467-8b2d-079f8c02f44c",
   "metadata": {},
   "outputs": [
    {
     "name": "stdout",
     "output_type": "stream",
     "text": [
      "No outliers detected; all z-scores are below 3.\n"
     ]
    }
   ],
   "source": [
    " if outliers:\n",
    "        print(f\"Outliers detected: {outliers}\")\n",
    "else:\n",
    "        print(\"No outliers detected; all z-scores are below 3.\")\n"
   ]
  }
 ],
 "metadata": {
  "kernelspec": {
   "display_name": "Python 3 (ipykernel)",
   "language": "python",
   "name": "python3"
  },
  "language_info": {
   "codemirror_mode": {
    "name": "ipython",
    "version": 3
   },
   "file_extension": ".py",
   "mimetype": "text/x-python",
   "name": "python",
   "nbconvert_exporter": "python",
   "pygments_lexer": "ipython3",
   "version": "3.12.7"
  }
 },
 "nbformat": 4,
 "nbformat_minor": 5
}
