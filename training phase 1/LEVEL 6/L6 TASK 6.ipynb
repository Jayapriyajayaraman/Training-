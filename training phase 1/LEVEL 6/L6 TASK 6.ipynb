{
 "cells": [
  {
   "cell_type": "code",
   "execution_count": null,
   "id": "bf96d601-a740-4648-84a4-c5c28962bd2c",
   "metadata": {},
   "outputs": [],
   "source": [
    "import numpy as np"
   ]
  },
  {
   "cell_type": "code",
   "execution_count": 19,
   "id": "3ade53e8-b4f2-4669-b8a1-03fea5ae6cbe",
   "metadata": {},
   "outputs": [],
   "source": [
    "def measures_of_dispersion(data):\n",
    "    if not data:\n",
    "        print(\"Error: Dataset is empty.\")\n",
    "        return"
   ]
  },
  {
   "cell_type": "code",
   "execution_count": 20,
   "id": "56d97165-9f80-4d9f-8e36-e81331a1f264",
   "metadata": {},
   "outputs": [],
   "source": [
    "mean_value = np.mean(data)"
   ]
  },
  {
   "cell_type": "code",
   "execution_count": 13,
   "id": "4f042c0c-c2bd-46f9-ba28-655f7d405982",
   "metadata": {},
   "outputs": [],
   "source": [
    "variance_value = np.var(data, ddof=0)\n"
   ]
  },
  {
   "cell_type": "code",
   "execution_count": 14,
   "id": "5ed67214-7061-4090-b79e-0f08e91ebe0e",
   "metadata": {},
   "outputs": [],
   "source": [
    "std_dev_value = np.sqrt(variance_value)"
   ]
  },
  {
   "cell_type": "code",
   "execution_count": 16,
   "id": "57fb0acb-5636-4e6c-83cb-d840de0009b8",
   "metadata": {},
   "outputs": [
    {
     "name": "stdout",
     "output_type": "stream",
     "text": [
      "Dataset: [2, 4, 6, 8, 10]\n",
      "Mean: 6.00\n",
      "Variance: 8.00\n",
      "Standard Deviation: 2.828\n",
      "\n"
     ]
    }
   ],
   "source": [
    "print(f\"Dataset: {data}\")\n",
    "print(f\"Mean: {mean_value:.2f}\")\n",
    "print(f\"Variance: {variance_value:.2f}\")\n",
    "print(f\"Standard Deviation: {std_dev_value:.3f}\\n\")\n"
   ]
  },
  {
   "cell_type": "code",
   "execution_count": 17,
   "id": "f2488c77-b4bc-4f25-8deb-0fe45713304d",
   "metadata": {},
   "outputs": [
    {
     "name": "stdout",
     "output_type": "stream",
     "text": [
      "Significance:\n",
      "- Variance measures how much data points spread from the mean.\n",
      "- Standard deviation shows how much data typically deviates from the mean.\n",
      "- A standard deviation of 2.828 means most values are within ~2.828 units of the mean (6.0).\n"
     ]
    }
   ],
   "source": [
    " print(\"Significance:\")\n",
    " print(\"- Variance measures how much data points spread from the mean.\")\n",
    " print(\"- Standard deviation shows how much data typically deviates from the mean.\")\n",
    " print(f\"- A standard deviation of {std_dev_value:.3f} means most values are within ~{std_dev_value:.3f} units of the mean ({mean_value}).\")\n"
   ]
  }
 ],
 "metadata": {
  "kernelspec": {
   "display_name": "Python 3 (ipykernel)",
   "language": "python",
   "name": "python3"
  },
  "language_info": {
   "codemirror_mode": {
    "name": "ipython",
    "version": 3
   },
   "file_extension": ".py",
   "mimetype": "text/x-python",
   "name": "python",
   "nbconvert_exporter": "python",
   "pygments_lexer": "ipython3",
   "version": "3.12.7"
  }
 },
 "nbformat": 4,
 "nbformat_minor": 5
}
