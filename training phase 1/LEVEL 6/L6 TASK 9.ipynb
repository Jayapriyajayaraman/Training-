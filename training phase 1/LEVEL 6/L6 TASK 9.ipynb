{
 "cells": [
  {
   "cell_type": "code",
   "execution_count": 4,
   "id": "aed49c94-4c77-441c-a980-d8821841dc26",
   "metadata": {},
   "outputs": [],
   "source": [
    "import scipy.stats as stats"
   ]
  },
  {
   "cell_type": "code",
   "execution_count": 9,
   "id": "36f694a9-9b7d-445f-8233-05acea7491c9",
   "metadata": {},
   "outputs": [],
   "source": [
    "mean = 4      \n",
    "std_dev = 1   \n",
    "x_value = 4.25 "
   ]
  },
  {
   "cell_type": "code",
   "execution_count": 10,
   "id": "ee71bbd0-8825-4b82-b14e-ba0ce1625fca",
   "metadata": {},
   "outputs": [],
   "source": [
    "z_score = (x_value - mean) / std_dev\n"
   ]
  },
  {
   "cell_type": "code",
   "execution_count": 11,
   "id": "dda5f45d-d8b9-4629-a213-4e19c44ac343",
   "metadata": {},
   "outputs": [],
   "source": [
    " percentage_above = stats.norm.sf(z_score) * 100"
   ]
  },
  {
   "cell_type": "code",
   "execution_count": 12,
   "id": "4b6be5c4-df06-4841-bfff-f6f7c3ef3974",
   "metadata": {},
   "outputs": [
    {
     "name": "stdout",
     "output_type": "stream",
     "text": [
      "Approximately 40.13% of scores fall above 4.25.\n"
     ]
    }
   ],
   "source": [
    "print(f\"Approximately {percentage_above:.2f}% of scores fall above {x_value}.\")"
   ]
  },
  {
   "cell_type": "code",
   "execution_count": null,
   "id": "d24371d4-f0a8-44ad-a580-77a63a253a06",
   "metadata": {},
   "outputs": [],
   "source": []
  }
 ],
 "metadata": {
  "kernelspec": {
   "display_name": "Python 3 (ipykernel)",
   "language": "python",
   "name": "python3"
  },
  "language_info": {
   "codemirror_mode": {
    "name": "ipython",
    "version": 3
   },
   "file_extension": ".py",
   "mimetype": "text/x-python",
   "name": "python",
   "nbconvert_exporter": "python",
   "pygments_lexer": "ipython3",
   "version": "3.12.7"
  }
 },
 "nbformat": 4,
 "nbformat_minor": 5
}
