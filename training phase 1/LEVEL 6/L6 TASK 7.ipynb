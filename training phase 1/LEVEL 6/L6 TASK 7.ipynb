{
 "cells": [
  {
   "cell_type": "code",
   "execution_count": 14,
   "id": "d66a8b04-2d74-4d68-87bb-41185c699cf8",
   "metadata": {},
   "outputs": [],
   "source": [
    "import numpy as np"
   ]
  },
  {
   "cell_type": "code",
   "execution_count": 17,
   "id": "d40bf51e-6b29-487e-91d6-19c50f9d7297",
   "metadata": {},
   "outputs": [],
   "source": [
    "data = [2, 3, 4, 5, 6, 7]"
   ]
  },
  {
   "cell_type": "code",
   "execution_count": 18,
   "id": "a3474ec0-b040-420d-a871-b2a6558b0752",
   "metadata": {},
   "outputs": [],
   "source": [
    "mean_value = np.mean(data)\n"
   ]
  },
  {
   "cell_type": "code",
   "execution_count": 19,
   "id": "0d6f399c-348c-49dc-82f7-b223e908a943",
   "metadata": {},
   "outputs": [],
   "source": [
    "std_dev_value = np.std(data, ddof=0)\n"
   ]
  },
  {
   "cell_type": "code",
   "execution_count": 20,
   "id": "ef004c30-87e3-49bb-9edf-b773a36dc02e",
   "metadata": {},
   "outputs": [],
   "source": [
    "z_scores = [(x - mean_value) / std_dev_value for x in data]"
   ]
  },
  {
   "cell_type": "code",
   "execution_count": 21,
   "id": "2f0f7245-288c-4322-b103-56acd451c653",
   "metadata": {},
   "outputs": [
    {
     "name": "stdout",
     "output_type": "stream",
     "text": [
      "Dataset: [2, 3, 4, 5, 6, 7]\n",
      "Mean: 4.50\n",
      "Standard Deviation: 1.708\n",
      "Z-Scores: [-1.46, -0.88, -0.29, 0.29, 0.88, 1.46]\n",
      "\n"
     ]
    }
   ],
   "source": [
    "print(f\"Dataset: {data}\")\n",
    "print(f\"Mean: {mean_value:.2f}\")\n",
    "print(f\"Standard Deviation: {std_dev_value:.3f}\")\n",
    "print(f\"Z-Scores: {[round(z, 2) for z in z_scores]}\\n\")\n"
   ]
  },
  {
   "cell_type": "code",
   "execution_count": 22,
   "id": "3bd409ef-f1ae-4e18-88ae-56d0038ca8df",
   "metadata": {},
   "outputs": [
    {
     "name": "stdout",
     "output_type": "stream",
     "text": [
      "The z-score for 5 is 0.29, meaning it is 0.29 standard deviations above the mean.\n"
     ]
    }
   ],
   "source": [
    "z_score_5 = (5 - mean_value) / std_dev_value\n",
    "print(f\"The z-score for 5 is {z_score_5:.2f}, meaning it is {z_score_5:.2f} standard deviations above the mean.\")\n"
   ]
  },
  {
   "cell_type": "code",
   "execution_count": null,
   "id": "f7fa7baf-df1f-4c9e-94d0-91f871bd9deb",
   "metadata": {},
   "outputs": [],
   "source": []
  }
 ],
 "metadata": {
  "kernelspec": {
   "display_name": "Python 3 (ipykernel)",
   "language": "python",
   "name": "python3"
  },
  "language_info": {
   "codemirror_mode": {
    "name": "ipython",
    "version": 3
   },
   "file_extension": ".py",
   "mimetype": "text/x-python",
   "name": "python",
   "nbconvert_exporter": "python",
   "pygments_lexer": "ipython3",
   "version": "3.12.7"
  }
 },
 "nbformat": 4,
 "nbformat_minor": 5
}
