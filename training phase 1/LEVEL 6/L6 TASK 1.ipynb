{
 "cells": [
  {
   "cell_type": "markdown",
   "id": "0f74c76b-f6f2-4722-866d-5b774fdfb631",
   "metadata": {},
   "source": [
    "Descriptive Statistics:\n",
    "\n",
    "        Summarizes and organizes data using measures like mean, median, and percentages to describe a dataset.\n",
    "\n",
    "\n",
    "    "
   ]
  },
  {
   "cell_type": "markdown",
   "id": "3a416cdc-8d8d-4ffd-8570-5efd4981b220",
   "metadata": {},
   "source": [
    "Inferential Statistics:\n",
    "\n",
    "        Uses sample data to make predictions or generalizations about a larger population                    \n",
    "                                        \n",
    "                    \n"
   ]
  },
  {
   "cell_type": "code",
   "execution_count": 5,
   "id": "84446199-2867-4c73-8238-806f654bb5d0",
   "metadata": {},
   "outputs": [
    {
     "name": "stdout",
     "output_type": "stream",
     "text": [
      "Descriptive Statistics:\n",
      "Example: The average test score in a class is 85%.\n",
      "\n",
      "Inferential Statistics:\n",
      "Example: A survey of 100 people shows that 60% prefer online shopping, so we estimate the same for the entire city.\n"
     ]
    }
   ],
   "source": [
    "def explain_statistics():\n",
    "    explanation = (\n",
    "        \"Descriptive Statistics:\\n\"\n",
    "        \"Example: The average test score in a class is 85%.\\n\\n\"\n",
    "       \n",
    "        \n",
    "        \"Inferential Statistics:\\n\"\n",
    "        \"Example: A survey of 100 people shows that 60% prefer online shopping, so we estimate the same for the entire city.\"\n",
    "    )\n",
    "    return explanation\n",
    "print(explain_statistics())\n"
   ]
  },
  {
   "cell_type": "code",
   "execution_count": null,
   "id": "015e510c-5561-4cf6-be17-6b2c6f51049a",
   "metadata": {},
   "outputs": [],
   "source": []
  }
 ],
 "metadata": {
  "kernelspec": {
   "display_name": "Python 3 (ipykernel)",
   "language": "python",
   "name": "python3"
  },
  "language_info": {
   "codemirror_mode": {
    "name": "ipython",
    "version": 3
   },
   "file_extension": ".py",
   "mimetype": "text/x-python",
   "name": "python",
   "nbconvert_exporter": "python",
   "pygments_lexer": "ipython3",
   "version": "3.12.7"
  }
 },
 "nbformat": 4,
 "nbformat_minor": 5
}
