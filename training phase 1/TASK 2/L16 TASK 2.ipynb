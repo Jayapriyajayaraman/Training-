{
 "cells": [
  {
   "cell_type": "code",
   "execution_count": 0,
   "metadata": {
    "application/vnd.databricks.v1+cell": {
     "cellMetadata": {
      "byteLimit": 2048000,
      "rowLimit": 10000
     },
     "inputWidgets": {},
     "nuid": "017c1c32-0e00-4fce-baa5-4076c67b0aab",
     "showTitle": false,
     "tableResultSettingsMap": {},
     "title": ""
    }
   },
   "outputs": [],
   "source": [
    "%python\n",
    "file_path = r'C:\\Users\\sures\\Downloads\\ipl_matches_2021.csv'\n"
   ]
  },
  {
   "cell_type": "code",
   "execution_count": 0,
   "metadata": {
    "application/vnd.databricks.v1+cell": {
     "cellMetadata": {
      "byteLimit": 2048000,
      "rowLimit": 10000
     },
     "inputWidgets": {},
     "nuid": "1eb57bea-073a-4121-9177-8e247b07b84b",
     "showTitle": false,
     "tableResultSettingsMap": {},
     "title": ""
    }
   },
   "outputs": [
    {
     "output_type": "stream",
     "name": "stdout",
     "output_type": "stream",
     "text": [
      "+----+-----------+--------------------+--------+----------+--------------------+--------------------+-----------+-----------+--------------------+--------------+-----------+\n|year|series_type|         series_name|match_no|match_type|          match_name|          match_href|match_team1|match_team2|match_datetime_start|match_date_end|match_venue|\n+----+-----------+--------------------+--------+----------+--------------------+--------------------+-----------+-----------+--------------------+--------------+-----------+\n|2021|        T20|Indian Premier Le...|    null|    League|MUMBAI INDIANS vs...|https://www.cricb...|       null|       null|                null|          null|       null|\n|2021|        T20|Indian Premier Le...|    null|    League|CHENNAI SUPER KIN...|https://www.cricb...|       null|       null|                null|          null|       null|\n|2021|        T20|Indian Premier Le...|    null|    League|SUNRISERS HYDERAB...|https://www.cricb...|       null|       null|                null|          null|       null|\n|2021|        T20|Indian Premier Le...|    null|    League|RAJASTHAN ROYALS ...|https://www.cricb...|       null|       null|                null|          null|       null|\n|2021|        T20|Indian Premier Le...|    null|    League|KOLKATA KNIGHT RI...|https://www.cricb...|       null|       null|                null|          null|       null|\n+----+-----------+--------------------+--------+----------+--------------------+--------------------+-----------+-----------+--------------------+--------------+-----------+\nonly showing top 5 rows\n\n"
     ]
    }
   ],
   "source": [
    "%python\n",
    "df = spark.read.option(\"header\", True).csv(\"/FileStore/tables/ipl_2021_matches.csv\")\n",
    "df.show(5)"
   ]
  },
  {
   "cell_type": "code",
   "execution_count": 0,
   "metadata": {
    "application/vnd.databricks.v1+cell": {
     "cellMetadata": {
      "byteLimit": 2048000,
      "rowLimit": 10000
     },
     "inputWidgets": {},
     "nuid": "2fa2756d-4152-494d-ba5a-19db0129578b",
     "showTitle": false,
     "tableResultSettingsMap": {},
     "title": ""
    }
   },
   "outputs": [
    {
     "output_type": "stream",
     "name": "stdout",
     "output_type": "stream",
     "text": [
      "Out[24]: [FileInfo(path='dbfs:/FileStore/tables/cell_phone.xlsx', name='cell_phone.xlsx', size=297905, modificationTime=1740663046000),\n FileInfo(path='dbfs:/FileStore/tables/cell_phones-1.csv', name='cell_phones-1.csv', size=43927, modificationTime=1740667679000),\n FileInfo(path='dbfs:/FileStore/tables/cell_phones-2.csv', name='cell_phones-2.csv', size=43927, modificationTime=1740667926000),\n FileInfo(path='dbfs:/FileStore/tables/cell_phones-3.csv', name='cell_phones-3.csv', size=43927, modificationTime=1740717554000),\n FileInfo(path='dbfs:/FileStore/tables/cell_phones-4.csv', name='cell_phones-4.csv', size=43927, modificationTime=1740851516000),\n FileInfo(path='dbfs:/FileStore/tables/cell_phones.csv', name='cell_phones.csv', size=43927, modificationTime=1740650761000),\n FileInfo(path='dbfs:/FileStore/tables/cleaned_ipl_2021/', name='cleaned_ipl_2021/', size=0, modificationTime=0),\n FileInfo(path='dbfs:/FileStore/tables/final_cleaned_ipl_2021_matches.csv/', name='final_cleaned_ipl_2021_matches.csv/', size=0, modificationTime=0),\n FileInfo(path='dbfs:/FileStore/tables/final_cleaned_ipl_2021_matches_v2.csv/', name='final_cleaned_ipl_2021_matches_v2.csv/', size=0, modificationTime=0),\n FileInfo(path='dbfs:/FileStore/tables/final_ipl_2021_csv/', name='final_ipl_2021_csv/', size=0, modificationTime=0),\n FileInfo(path='dbfs:/FileStore/tables/ipl_2021_cleaned/', name='ipl_2021_cleaned/', size=0, modificationTime=0),\n FileInfo(path='dbfs:/FileStore/tables/ipl_2021_matches-1.csv', name='ipl_2021_matches-1.csv', size=12482, modificationTime=1744550038000),\n FileInfo(path='dbfs:/FileStore/tables/ipl_2021_matches-10.csv', name='ipl_2021_matches-10.csv', size=12482, modificationTime=1744646907000),\n FileInfo(path='dbfs:/FileStore/tables/ipl_2021_matches-2.csv', name='ipl_2021_matches-2.csv', size=12482, modificationTime=1744550172000),\n FileInfo(path='dbfs:/FileStore/tables/ipl_2021_matches-3.csv', name='ipl_2021_matches-3.csv', size=12482, modificationTime=1744550284000),\n FileInfo(path='dbfs:/FileStore/tables/ipl_2021_matches-4.csv', name='ipl_2021_matches-4.csv', size=12482, modificationTime=1744550446000),\n FileInfo(path='dbfs:/FileStore/tables/ipl_2021_matches-5.csv', name='ipl_2021_matches-5.csv', size=12482, modificationTime=1744550977000),\n FileInfo(path='dbfs:/FileStore/tables/ipl_2021_matches-6.csv', name='ipl_2021_matches-6.csv', size=12482, modificationTime=1744592471000),\n FileInfo(path='dbfs:/FileStore/tables/ipl_2021_matches-7.csv', name='ipl_2021_matches-7.csv', size=12482, modificationTime=1744595707000),\n FileInfo(path='dbfs:/FileStore/tables/ipl_2021_matches-8.csv', name='ipl_2021_matches-8.csv', size=12482, modificationTime=1744599530000),\n FileInfo(path='dbfs:/FileStore/tables/ipl_2021_matches-9.csv', name='ipl_2021_matches-9.csv', size=12482, modificationTime=1744646828000),\n FileInfo(path='dbfs:/FileStore/tables/ipl_2021_matches.csv', name='ipl_2021_matches.csv', size=12482, modificationTime=1744549319000),\n FileInfo(path='dbfs:/FileStore/tables/ipl_2021_matches_cleaned.csv/', name='ipl_2021_matches_cleaned.csv/', size=0, modificationTime=0),\n FileInfo(path='dbfs:/FileStore/tables/ipl_2021_matches_cleaned_v2.csv/', name='ipl_2021_matches_cleaned_v2.csv/', size=0, modificationTime=0),\n FileInfo(path='dbfs:/FileStore/tables/pop-1.csv', name='pop-1.csv', size=335353, modificationTime=1740649112000),\n FileInfo(path='dbfs:/FileStore/tables/pop-2.csv', name='pop-2.csv', size=335353, modificationTime=1740649181000),\n FileInfo(path='dbfs:/FileStore/tables/pop-3.csv', name='pop-3.csv', size=335353, modificationTime=1740650598000),\n FileInfo(path='dbfs:/FileStore/tables/pop-4.csv', name='pop-4.csv', size=335353, modificationTime=1740662995000),\n FileInfo(path='dbfs:/FileStore/tables/pop-5.csv', name='pop-5.csv', size=335353, modificationTime=1740667632000),\n FileInfo(path='dbfs:/FileStore/tables/pop-6.csv', name='pop-6.csv', size=335353, modificationTime=1740667917000),\n FileInfo(path='dbfs:/FileStore/tables/pop-7.csv', name='pop-7.csv', size=335353, modificationTime=1740668298000),\n FileInfo(path='dbfs:/FileStore/tables/pop-8.csv', name='pop-8.csv', size=335353, modificationTime=1740717536000),\n FileInfo(path='dbfs:/FileStore/tables/pop-9.csv', name='pop-9.csv', size=335353, modificationTime=1740717656000),\n FileInfo(path='dbfs:/FileStore/tables/pop.csv', name='pop.csv', size=335353, modificationTime=1740648911000),\n FileInfo(path='dbfs:/FileStore/tables/pop.xlsx', name='pop.xlsx', size=2064226, modificationTime=1740851366000),\n FileInfo(path='dbfs:/FileStore/tables/population.csv', name='population.csv', size=335353, modificationTime=1740851840000)]"
     ]
    }
   ],
   "source": [
    "%python\n",
    "dbutils.fs.ls('/FileStore/tables/')\n"
   ]
  },
  {
   "cell_type": "code",
   "execution_count": 0,
   "metadata": {
    "application/vnd.databricks.v1+cell": {
     "cellMetadata": {
      "byteLimit": 2048000,
      "rowLimit": 10000
     },
     "inputWidgets": {},
     "nuid": "ca288357-9f3d-4b6a-985d-213dd34adc76",
     "showTitle": false,
     "tableResultSettingsMap": {},
     "title": ""
    }
   },
   "outputs": [
    {
     "output_type": "display_data",
     "data": {
      "text/html": [
       "<style scoped>\n",
       "  .table-result-container {\n",
       "    max-height: 300px;\n",
       "    overflow: auto;\n",
       "  }\n",
       "  table, th, td {\n",
       "    border: 1px solid black;\n",
       "    border-collapse: collapse;\n",
       "  }\n",
       "  th, td {\n",
       "    padding: 5px;\n",
       "  }\n",
       "  th {\n",
       "    text-align: left;\n",
       "  }\n",
       "</style><div class='table-result-container'><table class='table-result'><thead style='background-color: white'><tr><th>path</th><th>name</th><th>size</th><th>modificationTime</th></tr></thead><tbody><tr><td>dbfs:/FileStore/tables/cell_phone.xlsx</td><td>cell_phone.xlsx</td><td>297905</td><td>1740663046000</td></tr><tr><td>dbfs:/FileStore/tables/cell_phones-1.csv</td><td>cell_phones-1.csv</td><td>43927</td><td>1740667679000</td></tr><tr><td>dbfs:/FileStore/tables/cell_phones-2.csv</td><td>cell_phones-2.csv</td><td>43927</td><td>1740667926000</td></tr><tr><td>dbfs:/FileStore/tables/cell_phones-3.csv</td><td>cell_phones-3.csv</td><td>43927</td><td>1740717554000</td></tr><tr><td>dbfs:/FileStore/tables/cell_phones-4.csv</td><td>cell_phones-4.csv</td><td>43927</td><td>1740851516000</td></tr><tr><td>dbfs:/FileStore/tables/cell_phones.csv</td><td>cell_phones.csv</td><td>43927</td><td>1740650761000</td></tr><tr><td>dbfs:/FileStore/tables/cleaned_ipl_2021/</td><td>cleaned_ipl_2021/</td><td>0</td><td>0</td></tr><tr><td>dbfs:/FileStore/tables/final_cleaned_ipl_2021_matches.csv/</td><td>final_cleaned_ipl_2021_matches.csv/</td><td>0</td><td>0</td></tr><tr><td>dbfs:/FileStore/tables/final_cleaned_ipl_2021_matches_v2.csv/</td><td>final_cleaned_ipl_2021_matches_v2.csv/</td><td>0</td><td>0</td></tr><tr><td>dbfs:/FileStore/tables/final_ipl_2021_csv/</td><td>final_ipl_2021_csv/</td><td>0</td><td>0</td></tr><tr><td>dbfs:/FileStore/tables/ipl_2021_cleaned/</td><td>ipl_2021_cleaned/</td><td>0</td><td>0</td></tr><tr><td>dbfs:/FileStore/tables/ipl_2021_matches-1.csv</td><td>ipl_2021_matches-1.csv</td><td>12482</td><td>1744550038000</td></tr><tr><td>dbfs:/FileStore/tables/ipl_2021_matches-10.csv</td><td>ipl_2021_matches-10.csv</td><td>12482</td><td>1744646907000</td></tr><tr><td>dbfs:/FileStore/tables/ipl_2021_matches-2.csv</td><td>ipl_2021_matches-2.csv</td><td>12482</td><td>1744550172000</td></tr><tr><td>dbfs:/FileStore/tables/ipl_2021_matches-3.csv</td><td>ipl_2021_matches-3.csv</td><td>12482</td><td>1744550284000</td></tr><tr><td>dbfs:/FileStore/tables/ipl_2021_matches-4.csv</td><td>ipl_2021_matches-4.csv</td><td>12482</td><td>1744550446000</td></tr><tr><td>dbfs:/FileStore/tables/ipl_2021_matches-5.csv</td><td>ipl_2021_matches-5.csv</td><td>12482</td><td>1744550977000</td></tr><tr><td>dbfs:/FileStore/tables/ipl_2021_matches-6.csv</td><td>ipl_2021_matches-6.csv</td><td>12482</td><td>1744592471000</td></tr><tr><td>dbfs:/FileStore/tables/ipl_2021_matches-7.csv</td><td>ipl_2021_matches-7.csv</td><td>12482</td><td>1744595707000</td></tr><tr><td>dbfs:/FileStore/tables/ipl_2021_matches-8.csv</td><td>ipl_2021_matches-8.csv</td><td>12482</td><td>1744599530000</td></tr><tr><td>dbfs:/FileStore/tables/ipl_2021_matches-9.csv</td><td>ipl_2021_matches-9.csv</td><td>12482</td><td>1744646828000</td></tr><tr><td>dbfs:/FileStore/tables/ipl_2021_matches.csv</td><td>ipl_2021_matches.csv</td><td>12482</td><td>1744549319000</td></tr><tr><td>dbfs:/FileStore/tables/ipl_2021_matches_cleaned.csv/</td><td>ipl_2021_matches_cleaned.csv/</td><td>0</td><td>0</td></tr><tr><td>dbfs:/FileStore/tables/ipl_2021_matches_cleaned_v2.csv/</td><td>ipl_2021_matches_cleaned_v2.csv/</td><td>0</td><td>0</td></tr><tr><td>dbfs:/FileStore/tables/pop-1.csv</td><td>pop-1.csv</td><td>335353</td><td>1740649112000</td></tr><tr><td>dbfs:/FileStore/tables/pop-2.csv</td><td>pop-2.csv</td><td>335353</td><td>1740649181000</td></tr><tr><td>dbfs:/FileStore/tables/pop-3.csv</td><td>pop-3.csv</td><td>335353</td><td>1740650598000</td></tr><tr><td>dbfs:/FileStore/tables/pop-4.csv</td><td>pop-4.csv</td><td>335353</td><td>1740662995000</td></tr><tr><td>dbfs:/FileStore/tables/pop-5.csv</td><td>pop-5.csv</td><td>335353</td><td>1740667632000</td></tr><tr><td>dbfs:/FileStore/tables/pop-6.csv</td><td>pop-6.csv</td><td>335353</td><td>1740667917000</td></tr><tr><td>dbfs:/FileStore/tables/pop-7.csv</td><td>pop-7.csv</td><td>335353</td><td>1740668298000</td></tr><tr><td>dbfs:/FileStore/tables/pop-8.csv</td><td>pop-8.csv</td><td>335353</td><td>1740717536000</td></tr><tr><td>dbfs:/FileStore/tables/pop-9.csv</td><td>pop-9.csv</td><td>335353</td><td>1740717656000</td></tr><tr><td>dbfs:/FileStore/tables/pop.csv</td><td>pop.csv</td><td>335353</td><td>1740648911000</td></tr><tr><td>dbfs:/FileStore/tables/pop.xlsx</td><td>pop.xlsx</td><td>2064226</td><td>1740851366000</td></tr><tr><td>dbfs:/FileStore/tables/population.csv</td><td>population.csv</td><td>335353</td><td>1740851840000</td></tr></tbody></table></div>"
      ]
     },
     "metadata": {
      "application/vnd.databricks.v1+output": {
       "addedWidgets": {},
       "aggData": [],
       "aggError": "",
       "aggOverflow": false,
       "aggSchema": [],
       "aggSeriesLimitReached": false,
       "aggType": "",
       "arguments": {},
       "columnCustomDisplayInfos": {},
       "data": [
        [
         "dbfs:/FileStore/tables/cell_phone.xlsx",
         "cell_phone.xlsx",
         297905,
         1740663046000
        ],
        [
         "dbfs:/FileStore/tables/cell_phones-1.csv",
         "cell_phones-1.csv",
         43927,
         1740667679000
        ],
        [
         "dbfs:/FileStore/tables/cell_phones-2.csv",
         "cell_phones-2.csv",
         43927,
         1740667926000
        ],
        [
         "dbfs:/FileStore/tables/cell_phones-3.csv",
         "cell_phones-3.csv",
         43927,
         1740717554000
        ],
        [
         "dbfs:/FileStore/tables/cell_phones-4.csv",
         "cell_phones-4.csv",
         43927,
         1740851516000
        ],
        [
         "dbfs:/FileStore/tables/cell_phones.csv",
         "cell_phones.csv",
         43927,
         1740650761000
        ],
        [
         "dbfs:/FileStore/tables/cleaned_ipl_2021/",
         "cleaned_ipl_2021/",
         0,
         0
        ],
        [
         "dbfs:/FileStore/tables/final_cleaned_ipl_2021_matches.csv/",
         "final_cleaned_ipl_2021_matches.csv/",
         0,
         0
        ],
        [
         "dbfs:/FileStore/tables/final_cleaned_ipl_2021_matches_v2.csv/",
         "final_cleaned_ipl_2021_matches_v2.csv/",
         0,
         0
        ],
        [
         "dbfs:/FileStore/tables/final_ipl_2021_csv/",
         "final_ipl_2021_csv/",
         0,
         0
        ],
        [
         "dbfs:/FileStore/tables/ipl_2021_cleaned/",
         "ipl_2021_cleaned/",
         0,
         0
        ],
        [
         "dbfs:/FileStore/tables/ipl_2021_matches-1.csv",
         "ipl_2021_matches-1.csv",
         12482,
         1744550038000
        ],
        [
         "dbfs:/FileStore/tables/ipl_2021_matches-10.csv",
         "ipl_2021_matches-10.csv",
         12482,
         1744646907000
        ],
        [
         "dbfs:/FileStore/tables/ipl_2021_matches-2.csv",
         "ipl_2021_matches-2.csv",
         12482,
         1744550172000
        ],
        [
         "dbfs:/FileStore/tables/ipl_2021_matches-3.csv",
         "ipl_2021_matches-3.csv",
         12482,
         1744550284000
        ],
        [
         "dbfs:/FileStore/tables/ipl_2021_matches-4.csv",
         "ipl_2021_matches-4.csv",
         12482,
         1744550446000
        ],
        [
         "dbfs:/FileStore/tables/ipl_2021_matches-5.csv",
         "ipl_2021_matches-5.csv",
         12482,
         1744550977000
        ],
        [
         "dbfs:/FileStore/tables/ipl_2021_matches-6.csv",
         "ipl_2021_matches-6.csv",
         12482,
         1744592471000
        ],
        [
         "dbfs:/FileStore/tables/ipl_2021_matches-7.csv",
         "ipl_2021_matches-7.csv",
         12482,
         1744595707000
        ],
        [
         "dbfs:/FileStore/tables/ipl_2021_matches-8.csv",
         "ipl_2021_matches-8.csv",
         12482,
         1744599530000
        ],
        [
         "dbfs:/FileStore/tables/ipl_2021_matches-9.csv",
         "ipl_2021_matches-9.csv",
         12482,
         1744646828000
        ],
        [
         "dbfs:/FileStore/tables/ipl_2021_matches.csv",
         "ipl_2021_matches.csv",
         12482,
         1744549319000
        ],
        [
         "dbfs:/FileStore/tables/ipl_2021_matches_cleaned.csv/",
         "ipl_2021_matches_cleaned.csv/",
         0,
         0
        ],
        [
         "dbfs:/FileStore/tables/ipl_2021_matches_cleaned_v2.csv/",
         "ipl_2021_matches_cleaned_v2.csv/",
         0,
         0
        ],
        [
         "dbfs:/FileStore/tables/pop-1.csv",
         "pop-1.csv",
         335353,
         1740649112000
        ],
        [
         "dbfs:/FileStore/tables/pop-2.csv",
         "pop-2.csv",
         335353,
         1740649181000
        ],
        [
         "dbfs:/FileStore/tables/pop-3.csv",
         "pop-3.csv",
         335353,
         1740650598000
        ],
        [
         "dbfs:/FileStore/tables/pop-4.csv",
         "pop-4.csv",
         335353,
         1740662995000
        ],
        [
         "dbfs:/FileStore/tables/pop-5.csv",
         "pop-5.csv",
         335353,
         1740667632000
        ],
        [
         "dbfs:/FileStore/tables/pop-6.csv",
         "pop-6.csv",
         335353,
         1740667917000
        ],
        [
         "dbfs:/FileStore/tables/pop-7.csv",
         "pop-7.csv",
         335353,
         1740668298000
        ],
        [
         "dbfs:/FileStore/tables/pop-8.csv",
         "pop-8.csv",
         335353,
         1740717536000
        ],
        [
         "dbfs:/FileStore/tables/pop-9.csv",
         "pop-9.csv",
         335353,
         1740717656000
        ],
        [
         "dbfs:/FileStore/tables/pop.csv",
         "pop.csv",
         335353,
         1740648911000
        ],
        [
         "dbfs:/FileStore/tables/pop.xlsx",
         "pop.xlsx",
         2064226,
         1740851366000
        ],
        [
         "dbfs:/FileStore/tables/population.csv",
         "population.csv",
         335353,
         1740851840000
        ]
       ],
       "datasetInfos": [],
       "dbfsResultPath": null,
       "isJsonSchema": true,
       "metadata": {},
       "overflow": false,
       "plotOptions": {
        "customPlotOptions": {},
        "displayType": "table",
        "pivotAggregation": null,
        "pivotColumns": null,
        "xColumns": null,
        "yColumns": null
       },
       "removedWidgets": [],
       "schema": [
        {
         "metadata": "{}",
         "name": "path",
         "type": "\"string\""
        },
        {
         "metadata": "{}",
         "name": "name",
         "type": "\"string\""
        },
        {
         "metadata": "{}",
         "name": "size",
         "type": "\"long\""
        },
        {
         "metadata": "{}",
         "name": "modificationTime",
         "type": "\"long\""
        }
       ],
       "type": "table"
      }
     },
     "output_type": "display_data"
    }
   ],
   "source": [
    "%python\n",
    "display(dbutils.fs.ls('/FileStore/tables/'))\n"
   ]
  },
  {
   "cell_type": "code",
   "execution_count": 0,
   "metadata": {
    "application/vnd.databricks.v1+cell": {
     "cellMetadata": {
      "byteLimit": 2048000,
      "rowLimit": 10000
     },
     "inputWidgets": {},
     "nuid": "7f0bad05-37d3-452a-bdcb-741e6b12302e",
     "showTitle": false,
     "tableResultSettingsMap": {},
     "title": ""
    }
   },
   "outputs": [],
   "source": [
    "df = spark.read.option(\"header\", True).csv(\"dbfs:/FileStore/tables/ipl_2021_matches.csv\")\n"
   ]
  },
  {
   "cell_type": "code",
   "execution_count": 0,
   "metadata": {
    "application/vnd.databricks.v1+cell": {
     "cellMetadata": {
      "byteLimit": 2048000,
      "rowLimit": 10000
     },
     "inputWidgets": {},
     "nuid": "3719df0d-dbe1-4787-8108-c2f5c76c14ba",
     "showTitle": false,
     "tableResultSettingsMap": {},
     "title": ""
    }
   },
   "outputs": [
    {
     "output_type": "stream",
     "name": "stdout",
     "output_type": "stream",
     "text": [
      "root\n |-- year: string (nullable = true)\n |-- series_type: string (nullable = true)\n |-- series_name: string (nullable = true)\n |-- match_no: string (nullable = true)\n |-- match_type: string (nullable = true)\n |-- match_name: string (nullable = true)\n |-- match_href: string (nullable = true)\n |-- match_team1: string (nullable = true)\n |-- match_team2: string (nullable = true)\n |-- match_datetime_start: string (nullable = true)\n |-- match_date_end: string (nullable = true)\n |-- match_venue: string (nullable = true)\n\n"
     ]
    }
   ],
   "source": [
    "df.printSchema()\n"
   ]
  },
  {
   "cell_type": "code",
   "execution_count": 0,
   "metadata": {
    "application/vnd.databricks.v1+cell": {
     "cellMetadata": {
      "byteLimit": 2048000,
      "rowLimit": 10000
     },
     "inputWidgets": {},
     "nuid": "f8527075-5114-46cc-b4f7-509082961e29",
     "showTitle": false,
     "tableResultSettingsMap": {},
     "title": ""
    }
   },
   "outputs": [
    {
     "output_type": "stream",
     "name": "stdout",
     "output_type": "stream",
     "text": [
      "+----+-----------+--------------------+--------+----------+--------------------+--------------------+-----------+-----------+--------------------+--------------+-----------+\n|year|series_type|         series_name|match_no|match_type|          match_name|          match_href|match_team1|match_team2|match_datetime_start|match_date_end|match_venue|\n+----+-----------+--------------------+--------+----------+--------------------+--------------------+-----------+-----------+--------------------+--------------+-----------+\n|2021|        T20|Indian Premier Le...|    null|    League|MUMBAI INDIANS vs...|https://www.cricb...|       null|       null|                null|          null|       null|\n|2021|        T20|Indian Premier Le...|    null|    League|CHENNAI SUPER KIN...|https://www.cricb...|       null|       null|                null|          null|       null|\n|2021|        T20|Indian Premier Le...|    null|    League|SUNRISERS HYDERAB...|https://www.cricb...|       null|       null|                null|          null|       null|\n|2021|        T20|Indian Premier Le...|    null|    League|RAJASTHAN ROYALS ...|https://www.cricb...|       null|       null|                null|          null|       null|\n|2021|        T20|Indian Premier Le...|    null|    League|KOLKATA KNIGHT RI...|https://www.cricb...|       null|       null|                null|          null|       null|\n|2021|        T20|Indian Premier Le...|    null|    League|SUNRISERS HYDERAB...|https://www.cricb...|       null|       null|                null|          null|       null|\n|2021|        T20|Indian Premier Le...|    null|    League|RAJASTHAN ROYALS ...|https://www.cricb...|       null|       null|                null|          null|       null|\n|2021|        T20|Indian Premier Le...|    null|    League|PUNJAB KINGS vs C...|https://www.cricb...|       null|       null|                null|          null|       null|\n|2021|        T20|Indian Premier Le...|    null|    League|MUMBAI INDIANS vs...|https://www.cricb...|       null|       null|                null|          null|       null|\n|2021|        T20|Indian Premier Le...|    null|    League|ROYAL CHALLENGERS...|https://www.cricb...|       null|       null|                null|          null|       null|\n|2021|        T20|Indian Premier Le...|    null|    League|DELHI CAPITALS vs...|https://www.cricb...|       null|       null|                null|          null|       null|\n|2021|        T20|Indian Premier Le...|    null|    League|CHENNAI SUPER KIN...|https://www.cricb...|       null|       null|                null|          null|       null|\n|2021|        T20|Indian Premier Le...|    null|    League|DELHI CAPITALS vs...|https://www.cricb...|       null|       null|                null|          null|       null|\n|2021|        T20|Indian Premier Le...|    null|    League|PUNJAB KINGS vs S...|https://www.cricb...|       null|       null|                null|          null|       null|\n|2021|        T20|Indian Premier Le...|    null|    League|KOLKATA KNIGHT RI...|https://www.cricb...|       null|       null|                null|          null|       null|\n|2021|        T20|Indian Premier Le...|    null|    League|ROYAL CHALLENGERS...|https://www.cricb...|       null|       null|                null|          null|       null|\n|2021|        T20|Indian Premier Le...|    null|    League|PUNJAB KINGS vs M...|https://www.cricb...|       null|       null|                null|          null|       null|\n|2021|        T20|Indian Premier Le...|    null|    League|RAJASTHAN ROYALS ...|https://www.cricb...|       null|       null|                null|          null|       null|\n|2021|        T20|Indian Premier Le...|    null|    League|CHENNAI SUPER KIN...|https://www.cricb...|       null|       null|                null|          null|       null|\n|2021|        T20|Indian Premier Le...|    null|    League|SUNRISERS HYDERAB...|https://www.cricb...|       null|       null|                null|          null|       null|\n+----+-----------+--------------------+--------+----------+--------------------+--------------------+-----------+-----------+--------------------+--------------+-----------+\nonly showing top 20 rows\n\n"
     ]
    }
   ],
   "source": [
    "df.show()\n"
   ]
  },
  {
   "cell_type": "code",
   "execution_count": 0,
   "metadata": {
    "application/vnd.databricks.v1+cell": {
     "cellMetadata": {
      "byteLimit": 2048000,
      "rowLimit": 10000
     },
     "inputWidgets": {},
     "nuid": "66d9c114-603a-4302-adfd-cf8722a18352",
     "showTitle": false,
     "tableResultSettingsMap": {},
     "title": ""
    }
   },
   "outputs": [
    {
     "output_type": "stream",
     "name": "stdout",
     "output_type": "stream",
     "text": [
      "== Physical Plan ==\nFileScan csv [year#1810,series_type#1811,series_name#1812,match_no#1813,match_type#1814,match_name#1815,match_href#1816,match_team1#1817,match_team2#1818,match_datetime_start#1819,match_date_end#1820,match_venue#1821] Batched: false, DataFilters: [], Format: CSV, Location: InMemoryFileIndex(1 paths)[dbfs:/FileStore/tables/ipl_2021_matches.csv], PartitionFilters: [], PushedFilters: [], ReadSchema: struct<year:string,series_type:string,series_name:string,match_no:string,match_type:string,match_...\n\n\n"
     ]
    }
   ],
   "source": [
    "df.explain()"
   ]
  },
  {
   "cell_type": "code",
   "execution_count": 0,
   "metadata": {
    "application/vnd.databricks.v1+cell": {
     "cellMetadata": {
      "byteLimit": 2048000,
      "rowLimit": 10000
     },
     "inputWidgets": {},
     "nuid": "c43c67a9-83ca-476e-b3e8-fe936cfaa3cc",
     "showTitle": false,
     "tableResultSettingsMap": {},
     "title": ""
    }
   },
   "outputs": [
    {
     "output_type": "stream",
     "name": "stdout",
     "output_type": "stream",
     "text": [
      "== Parsed Logical Plan ==\nRelation [year#1810,series_type#1811,series_name#1812,match_no#1813,match_type#1814,match_name#1815,match_href#1816,match_team1#1817,match_team2#1818,match_datetime_start#1819,match_date_end#1820,match_venue#1821] csv\n\n== Analyzed Logical Plan ==\nyear: string, series_type: string, series_name: string, match_no: string, match_type: string, match_name: string, match_href: string, match_team1: string, match_team2: string, match_datetime_start: string, match_date_end: string, match_venue: string\nRelation [year#1810,series_type#1811,series_name#1812,match_no#1813,match_type#1814,match_name#1815,match_href#1816,match_team1#1817,match_team2#1818,match_datetime_start#1819,match_date_end#1820,match_venue#1821] csv\n\n== Optimized Logical Plan ==\nRelation [year#1810,series_type#1811,series_name#1812,match_no#1813,match_type#1814,match_name#1815,match_href#1816,match_team1#1817,match_team2#1818,match_datetime_start#1819,match_date_end#1820,match_venue#1821] csv\n\n== Physical Plan ==\nFileScan csv [year#1810,series_type#1811,series_name#1812,match_no#1813,match_type#1814,match_name#1815,match_href#1816,match_team1#1817,match_team2#1818,match_datetime_start#1819,match_date_end#1820,match_venue#1821] Batched: false, DataFilters: [], Format: CSV, Location: InMemoryFileIndex(1 paths)[dbfs:/FileStore/tables/ipl_2021_matches.csv], PartitionFilters: [], PushedFilters: [], ReadSchema: struct<year:string,series_type:string,series_name:string,match_no:string,match_type:string,match_...\n\n"
     ]
    }
   ],
   "source": [
    "df.explain(mode=\"extended\")"
   ]
  },
  {
   "cell_type": "code",
   "execution_count": 0,
   "metadata": {
    "application/vnd.databricks.v1+cell": {
     "cellMetadata": {
      "byteLimit": 2048000,
      "rowLimit": 10000
     },
     "inputWidgets": {},
     "nuid": "6f007af0-581b-459a-9910-e67546b57306",
     "showTitle": false,
     "tableResultSettingsMap": {},
     "title": ""
    }
   },
   "outputs": [
    {
     "output_type": "stream",
     "name": "stdout",
     "output_type": "stream",
     "text": [
      "Found 0 WholeStageCodegen subtrees.\n\n"
     ]
    }
   ],
   "source": [
    "df.explain(mode=\"codegen\")"
   ]
  },
  {
   "cell_type": "code",
   "execution_count": 0,
   "metadata": {
    "application/vnd.databricks.v1+cell": {
     "cellMetadata": {
      "byteLimit": 2048000,
      "rowLimit": 10000
     },
     "inputWidgets": {},
     "nuid": "7e372a93-536a-47d7-8683-4e6ac018bce2",
     "showTitle": false,
     "tableResultSettingsMap": {},
     "title": ""
    }
   },
   "outputs": [
    {
     "output_type": "stream",
     "name": "stdout",
     "output_type": "stream",
     "text": [
      "== Optimized Logical Plan ==\nRelation [year#1810,series_type#1811,series_name#1812,match_no#1813,match_type#1814,match_name#1815,match_href#1816,match_team1#1817,match_team2#1818,match_datetime_start#1819,match_date_end#1820,match_venue#1821] csv, Statistics(sizeInBytes=12.2 KiB)\n\n== Physical Plan ==\nFileScan csv [year#1810,series_type#1811,series_name#1812,match_no#1813,match_type#1814,match_name#1815,match_href#1816,match_team1#1817,match_team2#1818,match_datetime_start#1819,match_date_end#1820,match_venue#1821] Batched: false, DataFilters: [], Format: CSV, Location: InMemoryFileIndex(1 paths)[dbfs:/FileStore/tables/ipl_2021_matches.csv], PartitionFilters: [], PushedFilters: [], ReadSchema: struct<year:string,series_type:string,series_name:string,match_no:string,match_type:string,match_...\n\n\n"
     ]
    }
   ],
   "source": [
    "df.explain(mode=\"cost\")"
   ]
  },
  {
   "cell_type": "code",
   "execution_count": 0,
   "metadata": {
    "application/vnd.databricks.v1+cell": {
     "cellMetadata": {
      "byteLimit": 2048000,
      "rowLimit": 10000
     },
     "inputWidgets": {},
     "nuid": "a9db4616-3561-496f-b6bf-c04935e67282",
     "showTitle": false,
     "tableResultSettingsMap": {},
     "title": ""
    }
   },
   "outputs": [
    {
     "output_type": "stream",
     "name": "stdout",
     "output_type": "stream",
     "text": [
      "== Physical Plan ==\nScan csv  (1)\n\n\n(1) Scan csv \nOutput [12]: [year#1810, series_type#1811, series_name#1812, match_no#1813, match_type#1814, match_name#1815, match_href#1816, match_team1#1817, match_team2#1818, match_datetime_start#1819, match_date_end#1820, match_venue#1821]\nBatched: false\nLocation: InMemoryFileIndex [dbfs:/FileStore/tables/ipl_2021_matches.csv]\nReadSchema: struct<year:string,series_type:string,series_name:string,match_no:string,match_type:string,match_name:string,match_href:string,match_team1:string,match_team2:string,match_datetime_start:string,match_date_end:string,match_venue:string>\n\n\n"
     ]
    }
   ],
   "source": [
    "df.explain(mode=\"formatted\")"
   ]
  }
 ],
 "metadata": {
  "application/vnd.databricks.v1+notebook": {
   "computePreferences": null,
   "dashboards": [],
   "environmentMetadata": {
    "base_environment": "",
    "environment_version": "1"
   },
   "inputWidgetPreferences": null,
   "language": "python",
   "notebookMetadata": {
    "pythonIndentUnit": 4
   },
   "notebookName": "L16 TASK 2",
   "widgets": {}
  }
 },
 "nbformat": 4,
 "nbformat_minor": 0
}