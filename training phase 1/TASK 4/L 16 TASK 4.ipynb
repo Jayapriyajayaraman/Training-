{
 "cells": [
  {
   "cell_type": "code",
   "execution_count": 0,
   "metadata": {
    "application/vnd.databricks.v1+cell": {
     "cellMetadata": {
      "byteLimit": 2048000,
      "rowLimit": 10000
     },
     "inputWidgets": {},
     "nuid": "6386a2fe-89ea-4f87-86c6-2bba7027ff2a",
     "showTitle": false,
     "tableResultSettingsMap": {},
     "title": ""
    }
   },
   "outputs": [],
   "source": [
    "df = spark.read.option(\"header\", True).csv(\"dbfs:/FileStore/tables/ipl_2021_matches.csv\")\n"
   ]
  },
  {
   "cell_type": "code",
   "execution_count": 0,
   "metadata": {
    "application/vnd.databricks.v1+cell": {
     "cellMetadata": {
      "byteLimit": 2048000,
      "rowLimit": 10000
     },
     "inputWidgets": {},
     "nuid": "b9bc33cb-be60-453a-a6bf-b9356b625f39",
     "showTitle": false,
     "tableResultSettingsMap": {},
     "title": ""
    }
   },
   "outputs": [
    {
     "output_type": "stream",
     "name": "stdout",
     "output_type": "stream",
     "text": [
      "root\n |-- year: string (nullable = true)\n |-- series_type: string (nullable = true)\n |-- series_name: string (nullable = true)\n |-- match_no: string (nullable = true)\n |-- match_type: string (nullable = true)\n |-- match_name: string (nullable = true)\n |-- match_href: string (nullable = true)\n |-- match_team1: string (nullable = true)\n |-- match_team2: string (nullable = true)\n |-- match_datetime_start: string (nullable = true)\n |-- match_date_end: string (nullable = true)\n |-- match_venue: string (nullable = true)\n\n"
     ]
    }
   ],
   "source": [
    "df.printSchema()"
   ]
  },
  {
   "cell_type": "code",
   "execution_count": 0,
   "metadata": {
    "application/vnd.databricks.v1+cell": {
     "cellMetadata": {
      "byteLimit": 2048000,
      "rowLimit": 10000
     },
     "inputWidgets": {},
     "nuid": "b40bfa85-0376-47ed-beb1-fad7ed1d2862",
     "showTitle": false,
     "tableResultSettingsMap": {},
     "title": ""
    }
   },
   "outputs": [
    {
     "output_type": "stream",
     "name": "stdout",
     "output_type": "stream",
     "text": [
      "+----+-----------+--------------------------+--------+----------+--------------------------------------------------------+---------------------------------------------------------------------------------------------+-----------+-----------+--------------------+--------------+-----------+\n|year|series_type|series_name               |match_no|match_type|match_name                                              |match_href                                                                                   |match_team1|match_team2|match_datetime_start|match_date_end|match_venue|\n+----+-----------+--------------------------+--------+----------+--------------------------------------------------------+---------------------------------------------------------------------------------------------+-----------+-----------+--------------------+--------------+-----------+\n|2021|T20        |Indian Premier League 2021|null    |League    |MUMBAI INDIANS vs ROYAL CHALLENGERS BENGALURU, 1st Match|https://www.cricbuzz.com/cricket-scores/35612/mi-vs-rcb-1st-match-indian-premier-league-2021 |null       |null       |null                |null          |null       |\n|2021|T20        |Indian Premier League 2021|null    |League    |CHENNAI SUPER KINGS vs DELHI CAPITALS, 2nd Match        |https://www.cricbuzz.com/cricket-scores/35617/csk-vs-dc-2nd-match-indian-premier-league-2021 |null       |null       |null                |null          |null       |\n|2021|T20        |Indian Premier League 2021|null    |League    |SUNRISERS HYDERABAD vs KOLKATA KNIGHT RIDERS, 3rd Match |https://www.cricbuzz.com/cricket-scores/35618/srh-vs-kkr-3rd-match-indian-premier-league-2021|null       |null       |null                |null          |null       |\n|2021|T20        |Indian Premier League 2021|null    |League    |RAJASTHAN ROYALS vs PUNJAB KINGS, 4th Match             |https://www.cricbuzz.com/cricket-scores/35622/rr-vs-pbks-4th-match-indian-premier-league-2021|null       |null       |null                |null          |null       |\n|2021|T20        |Indian Premier League 2021|null    |League    |KOLKATA KNIGHT RIDERS vs MUMBAI INDIANS, 5th Match      |https://www.cricbuzz.com/cricket-scores/35627/kkr-vs-mi-5th-match-indian-premier-league-2021 |null       |null       |null                |null          |null       |\n+----+-----------+--------------------------+--------+----------+--------------------------------------------------------+---------------------------------------------------------------------------------------------+-----------+-----------+--------------------+--------------+-----------+\nonly showing top 5 rows\n\n"
     ]
    }
   ],
   "source": [
    "df.show(5, truncate=False)"
   ]
  },
  {
   "cell_type": "code",
   "execution_count": 0,
   "metadata": {
    "application/vnd.databricks.v1+cell": {
     "cellMetadata": {
      "byteLimit": 2048000,
      "rowLimit": 10000
     },
     "inputWidgets": {},
     "nuid": "05373871-e2bf-4b76-a47b-2ee8ea9cbe4e",
     "showTitle": false,
     "tableResultSettingsMap": {},
     "title": ""
    }
   },
   "outputs": [],
   "source": [
    "from pyspark.sql.functions import split, trim"
   ]
  },
  {
   "cell_type": "code",
   "execution_count": 0,
   "metadata": {
    "application/vnd.databricks.v1+cell": {
     "cellMetadata": {
      "byteLimit": 2048000,
      "rowLimit": 10000
     },
     "inputWidgets": {},
     "nuid": "8b096426-f3a8-439d-8d2f-638bca066859",
     "showTitle": false,
     "tableResultSettingsMap": {},
     "title": ""
    }
   },
   "outputs": [],
   "source": [
    "teams_df = df.withColumn(\"team1\", trim(split(df[\"match_name\"], \"vs\")[0])) \\\n",
    "             .withColumn(\"team2\", trim(split(df[\"match_name\"], \"vs\")[1]))\n"
   ]
  },
  {
   "cell_type": "code",
   "execution_count": 0,
   "metadata": {
    "application/vnd.databricks.v1+cell": {
     "cellMetadata": {
      "byteLimit": 2048000,
      "rowLimit": 10000
     },
     "inputWidgets": {},
     "nuid": "ac81492a-ee8b-46bb-ac5d-8e7f309d49b7",
     "showTitle": false,
     "tableResultSettingsMap": {},
     "title": ""
    }
   },
   "outputs": [],
   "source": [
    "unique_teams = teams_df.select(\"team1\").union(teams_df.select(\"team2\")).distinct()\n"
   ]
  },
  {
   "cell_type": "code",
   "execution_count": 0,
   "metadata": {
    "application/vnd.databricks.v1+cell": {
     "cellMetadata": {
      "byteLimit": 2048000,
      "rowLimit": 10000
     },
     "inputWidgets": {},
     "nuid": "4235628d-a90c-4bb9-adc3-cf334a8e25f7",
     "showTitle": false,
     "tableResultSettingsMap": {},
     "title": ""
    }
   },
   "outputs": [
    {
     "output_type": "stream",
     "name": "stdout",
     "output_type": "stream",
     "text": [
      " Number of teams: 70\n"
     ]
    }
   ],
   "source": [
    "team_count = unique_teams.count()\n",
    "print(f\" Number of teams: {team_count}\")"
   ]
  },
  {
   "cell_type": "code",
   "execution_count": 0,
   "metadata": {
    "application/vnd.databricks.v1+cell": {
     "cellMetadata": {
      "byteLimit": 2048000,
      "rowLimit": 10000
     },
     "inputWidgets": {},
     "nuid": "3d633776-a0d1-4b02-af16-bf02f427dba0",
     "showTitle": false,
     "tableResultSettingsMap": {},
     "title": ""
    }
   },
   "outputs": [
    {
     "output_type": "stream",
     "name": "stdout",
     "output_type": "stream",
     "text": [
      "+----------+\n|match_type|\n+----------+\n|League    |\n+----------+\n\n"
     ]
    }
   ],
   "source": [
    "df.select(\"match_type\").distinct().show(truncate=False)\n"
   ]
  },
  {
   "cell_type": "code",
   "execution_count": 0,
   "metadata": {
    "application/vnd.databricks.v1+cell": {
     "cellMetadata": {
      "byteLimit": 2048000,
      "rowLimit": 10000
     },
     "inputWidgets": {},
     "nuid": "1ceee063-ee35-425b-81a9-1cf65f2cc1ec",
     "showTitle": false,
     "tableResultSettingsMap": {},
     "title": ""
    }
   },
   "outputs": [
    {
     "output_type": "stream",
     "name": "stdout",
     "output_type": "stream",
     "text": [
      "+----------------------------------------------------------------+\n|match_name                                                      |\n+----------------------------------------------------------------+\n|DELHI CAPITALS vs SUNRISERS HYDERABAD, 33rd Match               |\n|ROYAL CHALLENGERS BENGALURU vs CHENNAI SUPER KINGS, 35th Match  |\n|SUNRISERS HYDERABAD vs MUMBAI INDIANS, 31st Match               |\n|SUNRISERS HYDERABAD vs DELHI CAPITALS, 20th Match               |\n|PUNJAB KINGS vs SUNRISERS HYDERABAD, 14th Match                 |\n|MUMBAI INDIANS vs PUNJAB KINGS, 42nd Match                      |\n|PUNJAB KINGS vs DELHI CAPITALS, 29th Match                      |\n|DELHI CAPITALS vs MUMBAI INDIANS, 13th Match                    |\n|DELHI CAPITALS vs ROYAL CHALLENGERS BENGALURU, 22nd Match       |\n|SUNRISERS HYDERABAD vs ROYAL CHALLENGERS BENGALURU, 6th Match   |\n|PUNJAB KINGS vs ROYAL CHALLENGERS BENGALURU, 26th Match         |\n|SUNRISERS HYDERABAD vs KOLKATA KNIGHT RIDERS, 3rd Match         |\n|DELHI CAPITALS vs PUNJAB KINGS, 11th Match                      |\n|RAJASTHAN ROYALS vs CHENNAI SUPER KINGS, 47th Match             |\n|MUMBAI INDIANS vs CHENNAI SUPER KINGS, 27th Match               |\n|RAJASTHAN ROYALS vs ROYAL CHALLENGERS BENGALURU, 43rd Match     |\n|SUNRISERS HYDERABAD vs CHENNAI SUPER KINGS, 44th Match          |\n|CHENNAI SUPER KINGS vs KOLKATA KNIGHT RIDERS, 38th Match        |\n|KOLKATA KNIGHT RIDERS vs ROYAL CHALLENGERS BENGALURU, 31st Match|\n|MUMBAI INDIANS vs ROYAL CHALLENGERS BENGALURU, 1st Match        |\n|MUMBAI INDIANS vs SUNRISERS HYDERABAD, 9th Match                |\n|ROYAL CHALLENGERS BENGALURU vs RAJASTHAN ROYALS, 16th Match     |\n|SUNRISERS HYDERABAD vs PUNJAB KINGS, 37th Match                 |\n|ROYAL CHALLENGERS BENGALURU vs KOLKATA KNIGHT RIDERS, 10th Match|\n|SUNRISERS HYDERABAD vs RAJASTHAN ROYALS, 40th Match             |\n|CHENNAI SUPER KINGS vs DELHI CAPITALS, 2nd Match                |\n|PUNJAB KINGS vs RAJASTHAN ROYALS, 32nd Match                    |\n|KOLKATA KNIGHT RIDERS vs DELHI CAPITALS, 41st Match             |\n|KOLKATA KNIGHT RIDERS vs CHENNAI SUPER KINGS, 15th Match        |\n|CHENNAI SUPER KINGS vs RAJASTHAN ROYALS, 12th Match             |\n|MUMBAI INDIANS vs RAJASTHAN ROYALS, 24th Match                  |\n|PUNJAB KINGS vs MUMBAI INDIANS, 17th Match                      |\n|PUNJAB KINGS vs CHENNAI SUPER KINGS, 8th Match                  |\n|KOLKATA KNIGHT RIDERS vs MUMBAI INDIANS, 5th Match              |\n|ROYAL CHALLENGERS BENGALURU vs MUMBAI INDIANS, 39th Match       |\n|DELHI CAPITALS vs RAJASTHAN ROYALS, 36th Match                  |\n|RAJASTHAN ROYALS vs DELHI CAPITALS, 7th Match                   |\n|MUMBAI INDIANS vs DELHI CAPITALS, 46th Match                    |\n|KOLKATA KNIGHT RIDERS vs SUNRISERS HYDERABAD, 49th Match        |\n|KOLKATA KNIGHT RIDERS vs ROYAL CHALLENGERS BENGALURU, 30th Match|\n|CHENNAI SUPER KINGS vs ROYAL CHALLENGERS BENGALURU, 19th Match  |\n|KOLKATA KNIGHT RIDERS vs PUNJAB KINGS, 45th Match               |\n|RAJASTHAN ROYALS vs KOLKATA KNIGHT RIDERS, 18th Match           |\n|ROYAL CHALLENGERS BENGALURU vs PUNJAB KINGS, 48th Match         |\n|RAJASTHAN ROYALS vs SUNRISERS HYDERABAD, 28th Match             |\n|DELHI CAPITALS vs KOLKATA KNIGHT RIDERS, 25th Match             |\n|CHENNAI SUPER KINGS vs SUNRISERS HYDERABAD, 23rd Match          |\n|CHENNAI SUPER KINGS vs MUMBAI INDIANS, 30th Match               |\n|MUMBAI INDIANS vs KOLKATA KNIGHT RIDERS, 34th Match             |\n|PUNJAB KINGS vs KOLKATA KNIGHT RIDERS, 21st Match               |\n+----------------------------------------------------------------+\nonly showing top 50 rows\n\n"
     ]
    }
   ],
   "source": [
    "df.select(\"match_name\").distinct().show(50, truncate=False)"
   ]
  },
  {
   "cell_type": "code",
   "execution_count": 0,
   "metadata": {
    "application/vnd.databricks.v1+cell": {
     "cellMetadata": {
      "byteLimit": 2048000,
      "rowLimit": 10000
     },
     "inputWidgets": {},
     "nuid": "832d8806-14b9-4282-9e2b-582f839dea93",
     "showTitle": false,
     "tableResultSettingsMap": {},
     "title": ""
    }
   },
   "outputs": [
    {
     "output_type": "display_data",
     "data": {
      "text/html": [
       "<style scoped>\n",
       "  .table-result-container {\n",
       "    max-height: 300px;\n",
       "    overflow: auto;\n",
       "  }\n",
       "  table, th, td {\n",
       "    border: 1px solid black;\n",
       "    border-collapse: collapse;\n",
       "  }\n",
       "  th, td {\n",
       "    padding: 5px;\n",
       "  }\n",
       "  th {\n",
       "    text-align: left;\n",
       "  }\n",
       "</style><div class='table-result-container'><table class='table-result'><thead style='background-color: white'><tr><th>year</th><th>series_type</th><th>series_name</th><th>match_no</th><th>match_type</th><th>match_name</th><th>match_href</th><th>match_team1</th><th>match_team2</th><th>match_datetime_start</th><th>match_date_end</th><th>match_venue</th></tr></thead><tbody><tr><td>2021</td><td>T20</td><td>Indian Premier League 2021</td><td>null</td><td>League</td><td>MUMBAI INDIANS vs ROYAL CHALLENGERS BENGALURU, 1st Match</td><td>https://www.cricbuzz.com/cricket-scores/35612/mi-vs-rcb-1st-match-indian-premier-league-2021</td><td>null</td><td>null</td><td>null</td><td>null</td><td>null</td></tr><tr><td>2021</td><td>T20</td><td>Indian Premier League 2021</td><td>null</td><td>League</td><td>CHENNAI SUPER KINGS vs DELHI CAPITALS, 2nd Match</td><td>https://www.cricbuzz.com/cricket-scores/35617/csk-vs-dc-2nd-match-indian-premier-league-2021</td><td>null</td><td>null</td><td>null</td><td>null</td><td>null</td></tr><tr><td>2021</td><td>T20</td><td>Indian Premier League 2021</td><td>null</td><td>League</td><td>SUNRISERS HYDERABAD vs KOLKATA KNIGHT RIDERS, 3rd Match</td><td>https://www.cricbuzz.com/cricket-scores/35618/srh-vs-kkr-3rd-match-indian-premier-league-2021</td><td>null</td><td>null</td><td>null</td><td>null</td><td>null</td></tr><tr><td>2021</td><td>T20</td><td>Indian Premier League 2021</td><td>null</td><td>League</td><td>RAJASTHAN ROYALS vs PUNJAB KINGS, 4th Match</td><td>https://www.cricbuzz.com/cricket-scores/35622/rr-vs-pbks-4th-match-indian-premier-league-2021</td><td>null</td><td>null</td><td>null</td><td>null</td><td>null</td></tr><tr><td>2021</td><td>T20</td><td>Indian Premier League 2021</td><td>null</td><td>League</td><td>KOLKATA KNIGHT RIDERS vs MUMBAI INDIANS, 5th Match</td><td>https://www.cricbuzz.com/cricket-scores/35627/kkr-vs-mi-5th-match-indian-premier-league-2021</td><td>null</td><td>null</td><td>null</td><td>null</td><td>null</td></tr><tr><td>2021</td><td>T20</td><td>Indian Premier League 2021</td><td>null</td><td>League</td><td>SUNRISERS HYDERABAD vs ROYAL CHALLENGERS BENGALURU, 6th Match</td><td>https://www.cricbuzz.com/cricket-scores/35628/srh-vs-rcb-6th-match-indian-premier-league-2021</td><td>null</td><td>null</td><td>null</td><td>null</td><td>null</td></tr><tr><td>2021</td><td>T20</td><td>Indian Premier League 2021</td><td>null</td><td>League</td><td>RAJASTHAN ROYALS vs DELHI CAPITALS, 7th Match</td><td>https://www.cricbuzz.com/cricket-scores/35632/rr-vs-dc-7th-match-indian-premier-league-2021</td><td>null</td><td>null</td><td>null</td><td>null</td><td>null</td></tr><tr><td>2021</td><td>T20</td><td>Indian Premier League 2021</td><td>null</td><td>League</td><td>PUNJAB KINGS vs CHENNAI SUPER KINGS, 8th Match</td><td>https://www.cricbuzz.com/cricket-scores/35637/pbks-vs-csk-8th-match-indian-premier-league-2021</td><td>null</td><td>null</td><td>null</td><td>null</td><td>null</td></tr><tr><td>2021</td><td>T20</td><td>Indian Premier League 2021</td><td>null</td><td>League</td><td>MUMBAI INDIANS vs SUNRISERS HYDERABAD, 9th Match</td><td>https://www.cricbuzz.com/cricket-scores/35642/mi-vs-srh-9th-match-indian-premier-league-2021</td><td>null</td><td>null</td><td>null</td><td>null</td><td>null</td></tr><tr><td>2021</td><td>T20</td><td>Indian Premier League 2021</td><td>null</td><td>League</td><td>ROYAL CHALLENGERS BENGALURU vs KOLKATA KNIGHT RIDERS, 10th Match</td><td>https://www.cricbuzz.com/cricket-scores/35643/rcb-vs-kkr-10th-match-indian-premier-league-2021</td><td>null</td><td>null</td><td>null</td><td>null</td><td>null</td></tr><tr><td>2021</td><td>T20</td><td>Indian Premier League 2021</td><td>null</td><td>League</td><td>DELHI CAPITALS vs PUNJAB KINGS, 11th Match</td><td>https://www.cricbuzz.com/cricket-scores/35647/dc-vs-pbks-11th-match-indian-premier-league-2021</td><td>null</td><td>null</td><td>null</td><td>null</td><td>null</td></tr><tr><td>2021</td><td>T20</td><td>Indian Premier League 2021</td><td>null</td><td>League</td><td>CHENNAI SUPER KINGS vs RAJASTHAN ROYALS, 12th Match</td><td>https://www.cricbuzz.com/cricket-scores/35648/csk-vs-rr-12th-match-indian-premier-league-2021</td><td>null</td><td>null</td><td>null</td><td>null</td><td>null</td></tr><tr><td>2021</td><td>T20</td><td>Indian Premier League 2021</td><td>null</td><td>League</td><td>DELHI CAPITALS vs MUMBAI INDIANS, 13th Match</td><td>https://www.cricbuzz.com/cricket-scores/35653/dc-vs-mi-13th-match-indian-premier-league-2021</td><td>null</td><td>null</td><td>null</td><td>null</td><td>null</td></tr><tr><td>2021</td><td>T20</td><td>Indian Premier League 2021</td><td>null</td><td>League</td><td>PUNJAB KINGS vs SUNRISERS HYDERABAD, 14th Match</td><td>https://www.cricbuzz.com/cricket-scores/35657/pbks-vs-srh-14th-match-indian-premier-league-2021</td><td>null</td><td>null</td><td>null</td><td>null</td><td>null</td></tr><tr><td>2021</td><td>T20</td><td>Indian Premier League 2021</td><td>null</td><td>League</td><td>KOLKATA KNIGHT RIDERS vs CHENNAI SUPER KINGS, 15th Match</td><td>https://www.cricbuzz.com/cricket-scores/35662/kkr-vs-csk-15th-match-indian-premier-league-2021</td><td>null</td><td>null</td><td>null</td><td>null</td><td>null</td></tr><tr><td>2021</td><td>T20</td><td>Indian Premier League 2021</td><td>null</td><td>League</td><td>ROYAL CHALLENGERS BENGALURU vs RAJASTHAN ROYALS, 16th Match</td><td>https://www.cricbuzz.com/cricket-scores/35663/rcb-vs-rr-16th-match-indian-premier-league-2021</td><td>null</td><td>null</td><td>null</td><td>null</td><td>null</td></tr><tr><td>2021</td><td>T20</td><td>Indian Premier League 2021</td><td>null</td><td>League</td><td>PUNJAB KINGS vs MUMBAI INDIANS, 17th Match</td><td>https://www.cricbuzz.com/cricket-scores/35668/pbks-vs-mi-17th-match-indian-premier-league-2021</td><td>null</td><td>null</td><td>null</td><td>null</td><td>null</td></tr><tr><td>2021</td><td>T20</td><td>Indian Premier League 2021</td><td>null</td><td>League</td><td>RAJASTHAN ROYALS vs KOLKATA KNIGHT RIDERS, 18th Match</td><td>https://www.cricbuzz.com/cricket-scores/35673/rr-vs-kkr-18th-match-indian-premier-league-2021</td><td>null</td><td>null</td><td>null</td><td>null</td><td>null</td></tr><tr><td>2021</td><td>T20</td><td>Indian Premier League 2021</td><td>null</td><td>League</td><td>CHENNAI SUPER KINGS vs ROYAL CHALLENGERS BENGALURU, 19th Match</td><td>https://www.cricbuzz.com/cricket-scores/35678/csk-vs-rcb-19th-match-indian-premier-league-2021</td><td>null</td><td>null</td><td>null</td><td>null</td><td>null</td></tr><tr><td>2021</td><td>T20</td><td>Indian Premier League 2021</td><td>null</td><td>League</td><td>SUNRISERS HYDERABAD vs DELHI CAPITALS, 20th Match</td><td>https://www.cricbuzz.com/cricket-scores/35683/srh-vs-dc-20th-match-indian-premier-league-2021</td><td>null</td><td>null</td><td>null</td><td>null</td><td>null</td></tr><tr><td>2021</td><td>T20</td><td>Indian Premier League 2021</td><td>null</td><td>League</td><td>PUNJAB KINGS vs KOLKATA KNIGHT RIDERS, 21st Match</td><td>https://www.cricbuzz.com/cricket-scores/35688/pbks-vs-kkr-21st-match-indian-premier-league-2021</td><td>null</td><td>null</td><td>null</td><td>null</td><td>null</td></tr><tr><td>2021</td><td>T20</td><td>Indian Premier League 2021</td><td>null</td><td>League</td><td>DELHI CAPITALS vs ROYAL CHALLENGERS BENGALURU, 22nd Match</td><td>https://www.cricbuzz.com/cricket-scores/35693/dc-vs-rcb-22nd-match-indian-premier-league-2021</td><td>null</td><td>null</td><td>null</td><td>null</td><td>null</td></tr><tr><td>2021</td><td>T20</td><td>Indian Premier League 2021</td><td>null</td><td>League</td><td>CHENNAI SUPER KINGS vs SUNRISERS HYDERABAD, 23rd Match</td><td>https://www.cricbuzz.com/cricket-scores/35698/csk-vs-srh-23rd-match-indian-premier-league-2021</td><td>null</td><td>null</td><td>null</td><td>null</td><td>null</td></tr><tr><td>2021</td><td>T20</td><td>Indian Premier League 2021</td><td>null</td><td>League</td><td>MUMBAI INDIANS vs RAJASTHAN ROYALS, 24th Match</td><td>https://www.cricbuzz.com/cricket-scores/35702/mi-vs-rr-24th-match-indian-premier-league-2021</td><td>null</td><td>null</td><td>null</td><td>null</td><td>null</td></tr><tr><td>2021</td><td>T20</td><td>Indian Premier League 2021</td><td>null</td><td>League</td><td>DELHI CAPITALS vs KOLKATA KNIGHT RIDERS, 25th Match</td><td>https://www.cricbuzz.com/cricket-scores/35703/dc-vs-kkr-25th-match-indian-premier-league-2021</td><td>null</td><td>null</td><td>null</td><td>null</td><td>null</td></tr><tr><td>2021</td><td>T20</td><td>Indian Premier League 2021</td><td>null</td><td>League</td><td>PUNJAB KINGS vs ROYAL CHALLENGERS BENGALURU, 26th Match</td><td>https://www.cricbuzz.com/cricket-scores/35708/pbks-vs-rcb-26th-match-indian-premier-league-2021</td><td>null</td><td>null</td><td>null</td><td>null</td><td>null</td></tr><tr><td>2021</td><td>T20</td><td>Indian Premier League 2021</td><td>null</td><td>League</td><td>MUMBAI INDIANS vs CHENNAI SUPER KINGS, 27th Match</td><td>https://www.cricbuzz.com/cricket-scores/35712/mi-vs-csk-27th-match-indian-premier-league-2021</td><td>null</td><td>null</td><td>null</td><td>null</td><td>null</td></tr><tr><td>2021</td><td>T20</td><td>Indian Premier League 2021</td><td>null</td><td>League</td><td>RAJASTHAN ROYALS vs SUNRISERS HYDERABAD, 28th Match</td><td>https://www.cricbuzz.com/cricket-scores/35713/rr-vs-srh-28th-match-indian-premier-league-2021</td><td>null</td><td>null</td><td>null</td><td>null</td><td>null</td></tr><tr><td>2021</td><td>T20</td><td>Indian Premier League 2021</td><td>null</td><td>League</td><td>PUNJAB KINGS vs DELHI CAPITALS, 29th Match</td><td>https://www.cricbuzz.com/cricket-scores/35717/pbks-vs-dc-29th-match-indian-premier-league-2021</td><td>null</td><td>null</td><td>null</td><td>null</td><td>null</td></tr><tr><td>2021</td><td>T20</td><td>Indian Premier League 2021</td><td>null</td><td>League</td><td>KOLKATA KNIGHT RIDERS vs ROYAL CHALLENGERS BENGALURU, 30th Match</td><td>https://www.cricbuzz.com/cricket-scores/35718/kkr-vs-rcb-30th-match-indian-premier-league-2021</td><td>null</td><td>null</td><td>null</td><td>null</td><td>null</td></tr><tr><td>2021</td><td>T20</td><td>Indian Premier League 2021</td><td>null</td><td>League</td><td>SUNRISERS HYDERABAD vs MUMBAI INDIANS, 31st Match</td><td>https://www.cricbuzz.com/cricket-scores/35723/srh-vs-mi-31st-match-indian-premier-league-2021</td><td>null</td><td>null</td><td>null</td><td>null</td><td>null</td></tr><tr><td>2021</td><td>T20</td><td>Indian Premier League 2021</td><td>null</td><td>League</td><td>CHENNAI SUPER KINGS vs MUMBAI INDIANS, 30th Match</td><td>https://www.cricbuzz.com/cricket-scores/37556/csk-vs-mi-30th-match-indian-premier-league-2021</td><td>null</td><td>null</td><td>null</td><td>null</td><td>null</td></tr><tr><td>2021</td><td>T20</td><td>Indian Premier League 2021</td><td>null</td><td>League</td><td>KOLKATA KNIGHT RIDERS vs ROYAL CHALLENGERS BENGALURU, 31st Match</td><td>https://www.cricbuzz.com/cricket-scores/37557/kkr-vs-rcb-31st-match-indian-premier-league-2021</td><td>null</td><td>null</td><td>null</td><td>null</td><td>null</td></tr><tr><td>2021</td><td>T20</td><td>Indian Premier League 2021</td><td>null</td><td>League</td><td>PUNJAB KINGS vs RAJASTHAN ROYALS, 32nd Match</td><td>https://www.cricbuzz.com/cricket-scores/37562/pbks-vs-rr-32nd-match-indian-premier-league-2021</td><td>null</td><td>null</td><td>null</td><td>null</td><td>null</td></tr><tr><td>2021</td><td>T20</td><td>Indian Premier League 2021</td><td>null</td><td>League</td><td>DELHI CAPITALS vs SUNRISERS HYDERABAD, 33rd Match</td><td>https://www.cricbuzz.com/cricket-scores/37567/dc-vs-srh-33rd-match-indian-premier-league-2021</td><td>null</td><td>null</td><td>null</td><td>null</td><td>null</td></tr><tr><td>2021</td><td>T20</td><td>Indian Premier League 2021</td><td>null</td><td>League</td><td>MUMBAI INDIANS vs KOLKATA KNIGHT RIDERS, 34th Match</td><td>https://www.cricbuzz.com/cricket-scores/37572/mi-vs-kkr-34th-match-indian-premier-league-2021</td><td>null</td><td>null</td><td>null</td><td>null</td><td>null</td></tr><tr><td>2021</td><td>T20</td><td>Indian Premier League 2021</td><td>null</td><td>League</td><td>ROYAL CHALLENGERS BENGALURU vs CHENNAI SUPER KINGS, 35th Match</td><td>https://www.cricbuzz.com/cricket-scores/37577/rcb-vs-csk-35th-match-indian-premier-league-2021</td><td>null</td><td>null</td><td>null</td><td>null</td><td>null</td></tr><tr><td>2021</td><td>T20</td><td>Indian Premier League 2021</td><td>null</td><td>League</td><td>DELHI CAPITALS vs RAJASTHAN ROYALS, 36th Match</td><td>https://www.cricbuzz.com/cricket-scores/37581/dc-vs-rr-36th-match-indian-premier-league-2021</td><td>null</td><td>null</td><td>null</td><td>null</td><td>null</td></tr><tr><td>2021</td><td>T20</td><td>Indian Premier League 2021</td><td>null</td><td>League</td><td>SUNRISERS HYDERABAD vs PUNJAB KINGS, 37th Match</td><td>https://www.cricbuzz.com/cricket-scores/37582/srh-vs-pbks-37th-match-indian-premier-league-2021</td><td>null</td><td>null</td><td>null</td><td>null</td><td>null</td></tr><tr><td>2021</td><td>T20</td><td>Indian Premier League 2021</td><td>null</td><td>League</td><td>CHENNAI SUPER KINGS vs KOLKATA KNIGHT RIDERS, 38th Match</td><td>https://www.cricbuzz.com/cricket-scores/37586/csk-vs-kkr-38th-match-indian-premier-league-2021</td><td>null</td><td>null</td><td>null</td><td>null</td><td>null</td></tr><tr><td>2021</td><td>T20</td><td>Indian Premier League 2021</td><td>null</td><td>League</td><td>ROYAL CHALLENGERS BENGALURU vs MUMBAI INDIANS, 39th Match</td><td>https://www.cricbuzz.com/cricket-scores/37591/rcb-vs-mi-39th-match-indian-premier-league-2021</td><td>null</td><td>null</td><td>null</td><td>null</td><td>null</td></tr><tr><td>2021</td><td>T20</td><td>Indian Premier League 2021</td><td>null</td><td>League</td><td>SUNRISERS HYDERABAD vs RAJASTHAN ROYALS, 40th Match</td><td>https://www.cricbuzz.com/cricket-scores/37596/srh-vs-rr-40th-match-indian-premier-league-2021</td><td>null</td><td>null</td><td>null</td><td>null</td><td>null</td></tr><tr><td>2021</td><td>T20</td><td>Indian Premier League 2021</td><td>null</td><td>League</td><td>KOLKATA KNIGHT RIDERS vs DELHI CAPITALS, 41st Match</td><td>https://www.cricbuzz.com/cricket-scores/37601/kkr-vs-dc-41st-match-indian-premier-league-2021</td><td>null</td><td>null</td><td>null</td><td>null</td><td>null</td></tr><tr><td>2021</td><td>T20</td><td>Indian Premier League 2021</td><td>null</td><td>League</td><td>MUMBAI INDIANS vs PUNJAB KINGS, 42nd Match</td><td>https://www.cricbuzz.com/cricket-scores/37606/mi-vs-pbks-42nd-match-indian-premier-league-2021</td><td>null</td><td>null</td><td>null</td><td>null</td><td>null</td></tr><tr><td>2021</td><td>T20</td><td>Indian Premier League 2021</td><td>null</td><td>League</td><td>RAJASTHAN ROYALS vs ROYAL CHALLENGERS BENGALURU, 43rd Match</td><td>https://www.cricbuzz.com/cricket-scores/37611/rr-vs-rcb-43rd-match-indian-premier-league-2021</td><td>null</td><td>null</td><td>null</td><td>null</td><td>null</td></tr><tr><td>2021</td><td>T20</td><td>Indian Premier League 2021</td><td>null</td><td>League</td><td>SUNRISERS HYDERABAD vs CHENNAI SUPER KINGS, 44th Match</td><td>https://www.cricbuzz.com/cricket-scores/37616/srh-vs-csk-44th-match-indian-premier-league-2021</td><td>null</td><td>null</td><td>null</td><td>null</td><td>null</td></tr><tr><td>2021</td><td>T20</td><td>Indian Premier League 2021</td><td>null</td><td>League</td><td>KOLKATA KNIGHT RIDERS vs PUNJAB KINGS, 45th Match</td><td>https://www.cricbuzz.com/cricket-scores/37617/kkr-vs-pbks-45th-match-indian-premier-league-2021</td><td>null</td><td>null</td><td>null</td><td>null</td><td>null</td></tr><tr><td>2021</td><td>T20</td><td>Indian Premier League 2021</td><td>null</td><td>League</td><td>MUMBAI INDIANS vs DELHI CAPITALS, 46th Match</td><td>https://www.cricbuzz.com/cricket-scores/37621/mi-vs-dc-46th-match-indian-premier-league-2021</td><td>null</td><td>null</td><td>null</td><td>null</td><td>null</td></tr><tr><td>2021</td><td>T20</td><td>Indian Premier League 2021</td><td>null</td><td>League</td><td>RAJASTHAN ROYALS vs CHENNAI SUPER KINGS, 47th Match</td><td>https://www.cricbuzz.com/cricket-scores/37626/rr-vs-csk-47th-match-indian-premier-league-2021</td><td>null</td><td>null</td><td>null</td><td>null</td><td>null</td></tr><tr><td>2021</td><td>T20</td><td>Indian Premier League 2021</td><td>null</td><td>League</td><td>ROYAL CHALLENGERS BENGALURU vs PUNJAB KINGS, 48th Match</td><td>https://www.cricbuzz.com/cricket-scores/37627/rcb-vs-pbks-48th-match-indian-premier-league-2021</td><td>null</td><td>null</td><td>null</td><td>null</td><td>null</td></tr><tr><td>2021</td><td>T20</td><td>Indian Premier League 2021</td><td>null</td><td>League</td><td>KOLKATA KNIGHT RIDERS vs SUNRISERS HYDERABAD, 49th Match</td><td>https://www.cricbuzz.com/cricket-scores/37631/kkr-vs-srh-49th-match-indian-premier-league-2021</td><td>null</td><td>null</td><td>null</td><td>null</td><td>null</td></tr><tr><td>2021</td><td>T20</td><td>Indian Premier League 2021</td><td>null</td><td>League</td><td>DELHI CAPITALS vs CHENNAI SUPER KINGS, 50th Match</td><td>https://www.cricbuzz.com/cricket-scores/37632/dc-vs-csk-50th-match-indian-premier-league-2021</td><td>null</td><td>null</td><td>null</td><td>null</td><td>null</td></tr><tr><td>2021</td><td>T20</td><td>Indian Premier League 2021</td><td>null</td><td>League</td><td>RAJASTHAN ROYALS vs MUMBAI INDIANS, 51st Match</td><td>https://www.cricbuzz.com/cricket-scores/37637/rr-vs-mi-51st-match-indian-premier-league-2021</td><td>null</td><td>null</td><td>null</td><td>null</td><td>null</td></tr><tr><td>2021</td><td>T20</td><td>Indian Premier League 2021</td><td>null</td><td>League</td><td>ROYAL CHALLENGERS BENGALURU vs SUNRISERS HYDERABAD, 52nd Match</td><td>https://www.cricbuzz.com/cricket-scores/37642/rcb-vs-srh-52nd-match-indian-premier-league-2021</td><td>null</td><td>null</td><td>null</td><td>null</td><td>null</td></tr><tr><td>2021</td><td>T20</td><td>Indian Premier League 2021</td><td>null</td><td>League</td><td>CHENNAI SUPER KINGS vs PUNJAB KINGS, 53rd Match</td><td>https://www.cricbuzz.com/cricket-scores/37646/csk-vs-pbks-53rd-match-indian-premier-league-2021</td><td>null</td><td>null</td><td>null</td><td>null</td><td>null</td></tr><tr><td>2021</td><td>T20</td><td>Indian Premier League 2021</td><td>null</td><td>League</td><td>KOLKATA KNIGHT RIDERS vs RAJASTHAN ROYALS, 54th Match</td><td>https://www.cricbuzz.com/cricket-scores/37651/kkr-vs-rr-54th-match-indian-premier-league-2021</td><td>null</td><td>null</td><td>null</td><td>null</td><td>null</td></tr><tr><td>2021</td><td>T20</td><td>Indian Premier League 2021</td><td>null</td><td>League</td><td>SUNRISERS HYDERABAD vs MUMBAI INDIANS, 55th Match</td><td>https://www.cricbuzz.com/cricket-scores/37656/srh-vs-mi-55th-match-indian-premier-league-2021</td><td>null</td><td>null</td><td>null</td><td>null</td><td>null</td></tr><tr><td>2021</td><td>T20</td><td>Indian Premier League 2021</td><td>null</td><td>League</td><td>ROYAL CHALLENGERS BENGALURU vs DELHI CAPITALS, 56th Match</td><td>https://www.cricbuzz.com/cricket-scores/37661/rcb-vs-dc-56th-match-indian-premier-league-2021</td><td>null</td><td>null</td><td>null</td><td>null</td><td>null</td></tr><tr><td>2021</td><td>T20</td><td>Indian Premier League 2021</td><td>null</td><td>League</td><td>DELHI CAPITALS vs CHENNAI SUPER KINGS, Qualifier 1</td><td>https://www.cricbuzz.com/cricket-scores/37666/dc-vs-csk-qualifier-1-indian-premier-league-2021</td><td>null</td><td>null</td><td>null</td><td>null</td><td>null</td></tr><tr><td>2021</td><td>T20</td><td>Indian Premier League 2021</td><td>null</td><td>League</td><td>ROYAL CHALLENGERS BENGALURU vs KOLKATA KNIGHT RIDERS, Eliminator</td><td>https://www.cricbuzz.com/cricket-scores/37671/rcb-vs-kkr-eliminator-indian-premier-league-2021</td><td>null</td><td>null</td><td>null</td><td>null</td><td>null</td></tr><tr><td>2021</td><td>T20</td><td>Indian Premier League 2021</td><td>null</td><td>League</td><td>DELHI CAPITALS vs KOLKATA KNIGHT RIDERS, Qualifier 2</td><td>https://www.cricbuzz.com/cricket-scores/37672/dc-vs-kkr-qualifier-2-indian-premier-league-2021</td><td>null</td><td>null</td><td>null</td><td>null</td><td>null</td></tr><tr><td>2021</td><td>T20</td><td>Indian Premier League 2021</td><td>null</td><td>League</td><td>CHENNAI SUPER KINGS vs KOLKATA KNIGHT RIDERS, Final</td><td>https://www.cricbuzz.com/cricket-scores/37676/csk-vs-kkr-final-indian-premier-league-2021</td><td>null</td><td>null</td><td>null</td><td>null</td><td>null</td></tr></tbody></table></div>"
      ]
     },
     "metadata": {
      "application/vnd.databricks.v1+output": {
       "addedWidgets": {},
       "aggData": [],
       "aggError": "",
       "aggOverflow": false,
       "aggSchema": [],
       "aggSeriesLimitReached": false,
       "aggType": "",
       "arguments": {},
       "columnCustomDisplayInfos": {},
       "data": [
        [
         "2021",
         "T20",
         "Indian Premier League 2021",
         null,
         "League",
         "MUMBAI INDIANS vs ROYAL CHALLENGERS BENGALURU, 1st Match",
         "https://www.cricbuzz.com/cricket-scores/35612/mi-vs-rcb-1st-match-indian-premier-league-2021",
         null,
         null,
         null,
         null,
         null
        ],
        [
         "2021",
         "T20",
         "Indian Premier League 2021",
         null,
         "League",
         "CHENNAI SUPER KINGS vs DELHI CAPITALS, 2nd Match",
         "https://www.cricbuzz.com/cricket-scores/35617/csk-vs-dc-2nd-match-indian-premier-league-2021",
         null,
         null,
         null,
         null,
         null
        ],
        [
         "2021",
         "T20",
         "Indian Premier League 2021",
         null,
         "League",
         "SUNRISERS HYDERABAD vs KOLKATA KNIGHT RIDERS, 3rd Match",
         "https://www.cricbuzz.com/cricket-scores/35618/srh-vs-kkr-3rd-match-indian-premier-league-2021",
         null,
         null,
         null,
         null,
         null
        ],
        [
         "2021",
         "T20",
         "Indian Premier League 2021",
         null,
         "League",
         "RAJASTHAN ROYALS vs PUNJAB KINGS, 4th Match",
         "https://www.cricbuzz.com/cricket-scores/35622/rr-vs-pbks-4th-match-indian-premier-league-2021",
         null,
         null,
         null,
         null,
         null
        ],
        [
         "2021",
         "T20",
         "Indian Premier League 2021",
         null,
         "League",
         "KOLKATA KNIGHT RIDERS vs MUMBAI INDIANS, 5th Match",
         "https://www.cricbuzz.com/cricket-scores/35627/kkr-vs-mi-5th-match-indian-premier-league-2021",
         null,
         null,
         null,
         null,
         null
        ],
        [
         "2021",
         "T20",
         "Indian Premier League 2021",
         null,
         "League",
         "SUNRISERS HYDERABAD vs ROYAL CHALLENGERS BENGALURU, 6th Match",
         "https://www.cricbuzz.com/cricket-scores/35628/srh-vs-rcb-6th-match-indian-premier-league-2021",
         null,
         null,
         null,
         null,
         null
        ],
        [
         "2021",
         "T20",
         "Indian Premier League 2021",
         null,
         "League",
         "RAJASTHAN ROYALS vs DELHI CAPITALS, 7th Match",
         "https://www.cricbuzz.com/cricket-scores/35632/rr-vs-dc-7th-match-indian-premier-league-2021",
         null,
         null,
         null,
         null,
         null
        ],
        [
         "2021",
         "T20",
         "Indian Premier League 2021",
         null,
         "League",
         "PUNJAB KINGS vs CHENNAI SUPER KINGS, 8th Match",
         "https://www.cricbuzz.com/cricket-scores/35637/pbks-vs-csk-8th-match-indian-premier-league-2021",
         null,
         null,
         null,
         null,
         null
        ],
        [
         "2021",
         "T20",
         "Indian Premier League 2021",
         null,
         "League",
         "MUMBAI INDIANS vs SUNRISERS HYDERABAD, 9th Match",
         "https://www.cricbuzz.com/cricket-scores/35642/mi-vs-srh-9th-match-indian-premier-league-2021",
         null,
         null,
         null,
         null,
         null
        ],
        [
         "2021",
         "T20",
         "Indian Premier League 2021",
         null,
         "League",
         "ROYAL CHALLENGERS BENGALURU vs KOLKATA KNIGHT RIDERS, 10th Match",
         "https://www.cricbuzz.com/cricket-scores/35643/rcb-vs-kkr-10th-match-indian-premier-league-2021",
         null,
         null,
         null,
         null,
         null
        ],
        [
         "2021",
         "T20",
         "Indian Premier League 2021",
         null,
         "League",
         "DELHI CAPITALS vs PUNJAB KINGS, 11th Match",
         "https://www.cricbuzz.com/cricket-scores/35647/dc-vs-pbks-11th-match-indian-premier-league-2021",
         null,
         null,
         null,
         null,
         null
        ],
        [
         "2021",
         "T20",
         "Indian Premier League 2021",
         null,
         "League",
         "CHENNAI SUPER KINGS vs RAJASTHAN ROYALS, 12th Match",
         "https://www.cricbuzz.com/cricket-scores/35648/csk-vs-rr-12th-match-indian-premier-league-2021",
         null,
         null,
         null,
         null,
         null
        ],
        [
         "2021",
         "T20",
         "Indian Premier League 2021",
         null,
         "League",
         "DELHI CAPITALS vs MUMBAI INDIANS, 13th Match",
         "https://www.cricbuzz.com/cricket-scores/35653/dc-vs-mi-13th-match-indian-premier-league-2021",
         null,
         null,
         null,
         null,
         null
        ],
        [
         "2021",
         "T20",
         "Indian Premier League 2021",
         null,
         "League",
         "PUNJAB KINGS vs SUNRISERS HYDERABAD, 14th Match",
         "https://www.cricbuzz.com/cricket-scores/35657/pbks-vs-srh-14th-match-indian-premier-league-2021",
         null,
         null,
         null,
         null,
         null
        ],
        [
         "2021",
         "T20",
         "Indian Premier League 2021",
         null,
         "League",
         "KOLKATA KNIGHT RIDERS vs CHENNAI SUPER KINGS, 15th Match",
         "https://www.cricbuzz.com/cricket-scores/35662/kkr-vs-csk-15th-match-indian-premier-league-2021",
         null,
         null,
         null,
         null,
         null
        ],
        [
         "2021",
         "T20",
         "Indian Premier League 2021",
         null,
         "League",
         "ROYAL CHALLENGERS BENGALURU vs RAJASTHAN ROYALS, 16th Match",
         "https://www.cricbuzz.com/cricket-scores/35663/rcb-vs-rr-16th-match-indian-premier-league-2021",
         null,
         null,
         null,
         null,
         null
        ],
        [
         "2021",
         "T20",
         "Indian Premier League 2021",
         null,
         "League",
         "PUNJAB KINGS vs MUMBAI INDIANS, 17th Match",
         "https://www.cricbuzz.com/cricket-scores/35668/pbks-vs-mi-17th-match-indian-premier-league-2021",
         null,
         null,
         null,
         null,
         null
        ],
        [
         "2021",
         "T20",
         "Indian Premier League 2021",
         null,
         "League",
         "RAJASTHAN ROYALS vs KOLKATA KNIGHT RIDERS, 18th Match",
         "https://www.cricbuzz.com/cricket-scores/35673/rr-vs-kkr-18th-match-indian-premier-league-2021",
         null,
         null,
         null,
         null,
         null
        ],
        [
         "2021",
         "T20",
         "Indian Premier League 2021",
         null,
         "League",
         "CHENNAI SUPER KINGS vs ROYAL CHALLENGERS BENGALURU, 19th Match",
         "https://www.cricbuzz.com/cricket-scores/35678/csk-vs-rcb-19th-match-indian-premier-league-2021",
         null,
         null,
         null,
         null,
         null
        ],
        [
         "2021",
         "T20",
         "Indian Premier League 2021",
         null,
         "League",
         "SUNRISERS HYDERABAD vs DELHI CAPITALS, 20th Match",
         "https://www.cricbuzz.com/cricket-scores/35683/srh-vs-dc-20th-match-indian-premier-league-2021",
         null,
         null,
         null,
         null,
         null
        ],
        [
         "2021",
         "T20",
         "Indian Premier League 2021",
         null,
         "League",
         "PUNJAB KINGS vs KOLKATA KNIGHT RIDERS, 21st Match",
         "https://www.cricbuzz.com/cricket-scores/35688/pbks-vs-kkr-21st-match-indian-premier-league-2021",
         null,
         null,
         null,
         null,
         null
        ],
        [
         "2021",
         "T20",
         "Indian Premier League 2021",
         null,
         "League",
         "DELHI CAPITALS vs ROYAL CHALLENGERS BENGALURU, 22nd Match",
         "https://www.cricbuzz.com/cricket-scores/35693/dc-vs-rcb-22nd-match-indian-premier-league-2021",
         null,
         null,
         null,
         null,
         null
        ],
        [
         "2021",
         "T20",
         "Indian Premier League 2021",
         null,
         "League",
         "CHENNAI SUPER KINGS vs SUNRISERS HYDERABAD, 23rd Match",
         "https://www.cricbuzz.com/cricket-scores/35698/csk-vs-srh-23rd-match-indian-premier-league-2021",
         null,
         null,
         null,
         null,
         null
        ],
        [
         "2021",
         "T20",
         "Indian Premier League 2021",
         null,
         "League",
         "MUMBAI INDIANS vs RAJASTHAN ROYALS, 24th Match",
         "https://www.cricbuzz.com/cricket-scores/35702/mi-vs-rr-24th-match-indian-premier-league-2021",
         null,
         null,
         null,
         null,
         null
        ],
        [
         "2021",
         "T20",
         "Indian Premier League 2021",
         null,
         "League",
         "DELHI CAPITALS vs KOLKATA KNIGHT RIDERS, 25th Match",
         "https://www.cricbuzz.com/cricket-scores/35703/dc-vs-kkr-25th-match-indian-premier-league-2021",
         null,
         null,
         null,
         null,
         null
        ],
        [
         "2021",
         "T20",
         "Indian Premier League 2021",
         null,
         "League",
         "PUNJAB KINGS vs ROYAL CHALLENGERS BENGALURU, 26th Match",
         "https://www.cricbuzz.com/cricket-scores/35708/pbks-vs-rcb-26th-match-indian-premier-league-2021",
         null,
         null,
         null,
         null,
         null
        ],
        [
         "2021",
         "T20",
         "Indian Premier League 2021",
         null,
         "League",
         "MUMBAI INDIANS vs CHENNAI SUPER KINGS, 27th Match",
         "https://www.cricbuzz.com/cricket-scores/35712/mi-vs-csk-27th-match-indian-premier-league-2021",
         null,
         null,
         null,
         null,
         null
        ],
        [
         "2021",
         "T20",
         "Indian Premier League 2021",
         null,
         "League",
         "RAJASTHAN ROYALS vs SUNRISERS HYDERABAD, 28th Match",
         "https://www.cricbuzz.com/cricket-scores/35713/rr-vs-srh-28th-match-indian-premier-league-2021",
         null,
         null,
         null,
         null,
         null
        ],
        [
         "2021",
         "T20",
         "Indian Premier League 2021",
         null,
         "League",
         "PUNJAB KINGS vs DELHI CAPITALS, 29th Match",
         "https://www.cricbuzz.com/cricket-scores/35717/pbks-vs-dc-29th-match-indian-premier-league-2021",
         null,
         null,
         null,
         null,
         null
        ],
        [
         "2021",
         "T20",
         "Indian Premier League 2021",
         null,
         "League",
         "KOLKATA KNIGHT RIDERS vs ROYAL CHALLENGERS BENGALURU, 30th Match",
         "https://www.cricbuzz.com/cricket-scores/35718/kkr-vs-rcb-30th-match-indian-premier-league-2021",
         null,
         null,
         null,
         null,
         null
        ],
        [
         "2021",
         "T20",
         "Indian Premier League 2021",
         null,
         "League",
         "SUNRISERS HYDERABAD vs MUMBAI INDIANS, 31st Match",
         "https://www.cricbuzz.com/cricket-scores/35723/srh-vs-mi-31st-match-indian-premier-league-2021",
         null,
         null,
         null,
         null,
         null
        ],
        [
         "2021",
         "T20",
         "Indian Premier League 2021",
         null,
         "League",
         "CHENNAI SUPER KINGS vs MUMBAI INDIANS, 30th Match",
         "https://www.cricbuzz.com/cricket-scores/37556/csk-vs-mi-30th-match-indian-premier-league-2021",
         null,
         null,
         null,
         null,
         null
        ],
        [
         "2021",
         "T20",
         "Indian Premier League 2021",
         null,
         "League",
         "KOLKATA KNIGHT RIDERS vs ROYAL CHALLENGERS BENGALURU, 31st Match",
         "https://www.cricbuzz.com/cricket-scores/37557/kkr-vs-rcb-31st-match-indian-premier-league-2021",
         null,
         null,
         null,
         null,
         null
        ],
        [
         "2021",
         "T20",
         "Indian Premier League 2021",
         null,
         "League",
         "PUNJAB KINGS vs RAJASTHAN ROYALS, 32nd Match",
         "https://www.cricbuzz.com/cricket-scores/37562/pbks-vs-rr-32nd-match-indian-premier-league-2021",
         null,
         null,
         null,
         null,
         null
        ],
        [
         "2021",
         "T20",
         "Indian Premier League 2021",
         null,
         "League",
         "DELHI CAPITALS vs SUNRISERS HYDERABAD, 33rd Match",
         "https://www.cricbuzz.com/cricket-scores/37567/dc-vs-srh-33rd-match-indian-premier-league-2021",
         null,
         null,
         null,
         null,
         null
        ],
        [
         "2021",
         "T20",
         "Indian Premier League 2021",
         null,
         "League",
         "MUMBAI INDIANS vs KOLKATA KNIGHT RIDERS, 34th Match",
         "https://www.cricbuzz.com/cricket-scores/37572/mi-vs-kkr-34th-match-indian-premier-league-2021",
         null,
         null,
         null,
         null,
         null
        ],
        [
         "2021",
         "T20",
         "Indian Premier League 2021",
         null,
         "League",
         "ROYAL CHALLENGERS BENGALURU vs CHENNAI SUPER KINGS, 35th Match",
         "https://www.cricbuzz.com/cricket-scores/37577/rcb-vs-csk-35th-match-indian-premier-league-2021",
         null,
         null,
         null,
         null,
         null
        ],
        [
         "2021",
         "T20",
         "Indian Premier League 2021",
         null,
         "League",
         "DELHI CAPITALS vs RAJASTHAN ROYALS, 36th Match",
         "https://www.cricbuzz.com/cricket-scores/37581/dc-vs-rr-36th-match-indian-premier-league-2021",
         null,
         null,
         null,
         null,
         null
        ],
        [
         "2021",
         "T20",
         "Indian Premier League 2021",
         null,
         "League",
         "SUNRISERS HYDERABAD vs PUNJAB KINGS, 37th Match",
         "https://www.cricbuzz.com/cricket-scores/37582/srh-vs-pbks-37th-match-indian-premier-league-2021",
         null,
         null,
         null,
         null,
         null
        ],
        [
         "2021",
         "T20",
         "Indian Premier League 2021",
         null,
         "League",
         "CHENNAI SUPER KINGS vs KOLKATA KNIGHT RIDERS, 38th Match",
         "https://www.cricbuzz.com/cricket-scores/37586/csk-vs-kkr-38th-match-indian-premier-league-2021",
         null,
         null,
         null,
         null,
         null
        ],
        [
         "2021",
         "T20",
         "Indian Premier League 2021",
         null,
         "League",
         "ROYAL CHALLENGERS BENGALURU vs MUMBAI INDIANS, 39th Match",
         "https://www.cricbuzz.com/cricket-scores/37591/rcb-vs-mi-39th-match-indian-premier-league-2021",
         null,
         null,
         null,
         null,
         null
        ],
        [
         "2021",
         "T20",
         "Indian Premier League 2021",
         null,
         "League",
         "SUNRISERS HYDERABAD vs RAJASTHAN ROYALS, 40th Match",
         "https://www.cricbuzz.com/cricket-scores/37596/srh-vs-rr-40th-match-indian-premier-league-2021",
         null,
         null,
         null,
         null,
         null
        ],
        [
         "2021",
         "T20",
         "Indian Premier League 2021",
         null,
         "League",
         "KOLKATA KNIGHT RIDERS vs DELHI CAPITALS, 41st Match",
         "https://www.cricbuzz.com/cricket-scores/37601/kkr-vs-dc-41st-match-indian-premier-league-2021",
         null,
         null,
         null,
         null,
         null
        ],
        [
         "2021",
         "T20",
         "Indian Premier League 2021",
         null,
         "League",
         "MUMBAI INDIANS vs PUNJAB KINGS, 42nd Match",
         "https://www.cricbuzz.com/cricket-scores/37606/mi-vs-pbks-42nd-match-indian-premier-league-2021",
         null,
         null,
         null,
         null,
         null
        ],
        [
         "2021",
         "T20",
         "Indian Premier League 2021",
         null,
         "League",
         "RAJASTHAN ROYALS vs ROYAL CHALLENGERS BENGALURU, 43rd Match",
         "https://www.cricbuzz.com/cricket-scores/37611/rr-vs-rcb-43rd-match-indian-premier-league-2021",
         null,
         null,
         null,
         null,
         null
        ],
        [
         "2021",
         "T20",
         "Indian Premier League 2021",
         null,
         "League",
         "SUNRISERS HYDERABAD vs CHENNAI SUPER KINGS, 44th Match",
         "https://www.cricbuzz.com/cricket-scores/37616/srh-vs-csk-44th-match-indian-premier-league-2021",
         null,
         null,
         null,
         null,
         null
        ],
        [
         "2021",
         "T20",
         "Indian Premier League 2021",
         null,
         "League",
         "KOLKATA KNIGHT RIDERS vs PUNJAB KINGS, 45th Match",
         "https://www.cricbuzz.com/cricket-scores/37617/kkr-vs-pbks-45th-match-indian-premier-league-2021",
         null,
         null,
         null,
         null,
         null
        ],
        [
         "2021",
         "T20",
         "Indian Premier League 2021",
         null,
         "League",
         "MUMBAI INDIANS vs DELHI CAPITALS, 46th Match",
         "https://www.cricbuzz.com/cricket-scores/37621/mi-vs-dc-46th-match-indian-premier-league-2021",
         null,
         null,
         null,
         null,
         null
        ],
        [
         "2021",
         "T20",
         "Indian Premier League 2021",
         null,
         "League",
         "RAJASTHAN ROYALS vs CHENNAI SUPER KINGS, 47th Match",
         "https://www.cricbuzz.com/cricket-scores/37626/rr-vs-csk-47th-match-indian-premier-league-2021",
         null,
         null,
         null,
         null,
         null
        ],
        [
         "2021",
         "T20",
         "Indian Premier League 2021",
         null,
         "League",
         "ROYAL CHALLENGERS BENGALURU vs PUNJAB KINGS, 48th Match",
         "https://www.cricbuzz.com/cricket-scores/37627/rcb-vs-pbks-48th-match-indian-premier-league-2021",
         null,
         null,
         null,
         null,
         null
        ],
        [
         "2021",
         "T20",
         "Indian Premier League 2021",
         null,
         "League",
         "KOLKATA KNIGHT RIDERS vs SUNRISERS HYDERABAD, 49th Match",
         "https://www.cricbuzz.com/cricket-scores/37631/kkr-vs-srh-49th-match-indian-premier-league-2021",
         null,
         null,
         null,
         null,
         null
        ],
        [
         "2021",
         "T20",
         "Indian Premier League 2021",
         null,
         "League",
         "DELHI CAPITALS vs CHENNAI SUPER KINGS, 50th Match",
         "https://www.cricbuzz.com/cricket-scores/37632/dc-vs-csk-50th-match-indian-premier-league-2021",
         null,
         null,
         null,
         null,
         null
        ],
        [
         "2021",
         "T20",
         "Indian Premier League 2021",
         null,
         "League",
         "RAJASTHAN ROYALS vs MUMBAI INDIANS, 51st Match",
         "https://www.cricbuzz.com/cricket-scores/37637/rr-vs-mi-51st-match-indian-premier-league-2021",
         null,
         null,
         null,
         null,
         null
        ],
        [
         "2021",
         "T20",
         "Indian Premier League 2021",
         null,
         "League",
         "ROYAL CHALLENGERS BENGALURU vs SUNRISERS HYDERABAD, 52nd Match",
         "https://www.cricbuzz.com/cricket-scores/37642/rcb-vs-srh-52nd-match-indian-premier-league-2021",
         null,
         null,
         null,
         null,
         null
        ],
        [
         "2021",
         "T20",
         "Indian Premier League 2021",
         null,
         "League",
         "CHENNAI SUPER KINGS vs PUNJAB KINGS, 53rd Match",
         "https://www.cricbuzz.com/cricket-scores/37646/csk-vs-pbks-53rd-match-indian-premier-league-2021",
         null,
         null,
         null,
         null,
         null
        ],
        [
         "2021",
         "T20",
         "Indian Premier League 2021",
         null,
         "League",
         "KOLKATA KNIGHT RIDERS vs RAJASTHAN ROYALS, 54th Match",
         "https://www.cricbuzz.com/cricket-scores/37651/kkr-vs-rr-54th-match-indian-premier-league-2021",
         null,
         null,
         null,
         null,
         null
        ],
        [
         "2021",
         "T20",
         "Indian Premier League 2021",
         null,
         "League",
         "SUNRISERS HYDERABAD vs MUMBAI INDIANS, 55th Match",
         "https://www.cricbuzz.com/cricket-scores/37656/srh-vs-mi-55th-match-indian-premier-league-2021",
         null,
         null,
         null,
         null,
         null
        ],
        [
         "2021",
         "T20",
         "Indian Premier League 2021",
         null,
         "League",
         "ROYAL CHALLENGERS BENGALURU vs DELHI CAPITALS, 56th Match",
         "https://www.cricbuzz.com/cricket-scores/37661/rcb-vs-dc-56th-match-indian-premier-league-2021",
         null,
         null,
         null,
         null,
         null
        ],
        [
         "2021",
         "T20",
         "Indian Premier League 2021",
         null,
         "League",
         "DELHI CAPITALS vs CHENNAI SUPER KINGS, Qualifier 1",
         "https://www.cricbuzz.com/cricket-scores/37666/dc-vs-csk-qualifier-1-indian-premier-league-2021",
         null,
         null,
         null,
         null,
         null
        ],
        [
         "2021",
         "T20",
         "Indian Premier League 2021",
         null,
         "League",
         "ROYAL CHALLENGERS BENGALURU vs KOLKATA KNIGHT RIDERS, Eliminator",
         "https://www.cricbuzz.com/cricket-scores/37671/rcb-vs-kkr-eliminator-indian-premier-league-2021",
         null,
         null,
         null,
         null,
         null
        ],
        [
         "2021",
         "T20",
         "Indian Premier League 2021",
         null,
         "League",
         "DELHI CAPITALS vs KOLKATA KNIGHT RIDERS, Qualifier 2",
         "https://www.cricbuzz.com/cricket-scores/37672/dc-vs-kkr-qualifier-2-indian-premier-league-2021",
         null,
         null,
         null,
         null,
         null
        ],
        [
         "2021",
         "T20",
         "Indian Premier League 2021",
         null,
         "League",
         "CHENNAI SUPER KINGS vs KOLKATA KNIGHT RIDERS, Final",
         "https://www.cricbuzz.com/cricket-scores/37676/csk-vs-kkr-final-indian-premier-league-2021",
         null,
         null,
         null,
         null,
         null
        ]
       ],
       "datasetInfos": [],
       "dbfsResultPath": null,
       "isJsonSchema": true,
       "metadata": {},
       "overflow": false,
       "plotOptions": {
        "customPlotOptions": {},
        "displayType": "table",
        "pivotAggregation": null,
        "pivotColumns": null,
        "xColumns": null,
        "yColumns": null
       },
       "removedWidgets": [],
       "schema": [
        {
         "metadata": "{}",
         "name": "year",
         "type": "\"string\""
        },
        {
         "metadata": "{}",
         "name": "series_type",
         "type": "\"string\""
        },
        {
         "metadata": "{}",
         "name": "series_name",
         "type": "\"string\""
        },
        {
         "metadata": "{}",
         "name": "match_no",
         "type": "\"string\""
        },
        {
         "metadata": "{}",
         "name": "match_type",
         "type": "\"string\""
        },
        {
         "metadata": "{}",
         "name": "match_name",
         "type": "\"string\""
        },
        {
         "metadata": "{}",
         "name": "match_href",
         "type": "\"string\""
        },
        {
         "metadata": "{}",
         "name": "match_team1",
         "type": "\"string\""
        },
        {
         "metadata": "{}",
         "name": "match_team2",
         "type": "\"string\""
        },
        {
         "metadata": "{}",
         "name": "match_datetime_start",
         "type": "\"string\""
        },
        {
         "metadata": "{}",
         "name": "match_date_end",
         "type": "\"string\""
        },
        {
         "metadata": "{}",
         "name": "match_venue",
         "type": "\"string\""
        }
       ],
       "type": "table"
      }
     },
     "output_type": "display_data"
    }
   ],
   "source": [
    "from pyspark.sql.functions import col\n",
    "\n",
    "completed_df = df.filter(~col(\"match_name\").rlike(\"Abandoned|No result\"))\n",
    "display(completed_df)"
   ]
  },
  {
   "cell_type": "code",
   "execution_count": 0,
   "metadata": {
    "application/vnd.databricks.v1+cell": {
     "cellMetadata": {
      "byteLimit": 2048000,
      "rowLimit": 10000
     },
     "inputWidgets": {},
     "nuid": "800e867d-aea3-4665-9334-585d98d1b785",
     "showTitle": false,
     "tableResultSettingsMap": {},
     "title": ""
    }
   },
   "outputs": [],
   "source": [
    "cleaned_df = completed_df.drop(\"series_type\", \"series_name\")  "
   ]
  },
  {
   "cell_type": "code",
   "execution_count": 0,
   "metadata": {
    "application/vnd.databricks.v1+cell": {
     "cellMetadata": {
      "byteLimit": 2048000,
      "rowLimit": 10000
     },
     "inputWidgets": {},
     "nuid": "dce82588-35b8-4ad3-9f96-aba7702cd344",
     "showTitle": false,
     "tableResultSettingsMap": {},
     "title": ""
    }
   },
   "outputs": [
    {
     "output_type": "display_data",
     "data": {
      "text/html": [
       "<style scoped>\n",
       "  .table-result-container {\n",
       "    max-height: 300px;\n",
       "    overflow: auto;\n",
       "  }\n",
       "  table, th, td {\n",
       "    border: 1px solid black;\n",
       "    border-collapse: collapse;\n",
       "  }\n",
       "  th, td {\n",
       "    padding: 5px;\n",
       "  }\n",
       "  th {\n",
       "    text-align: left;\n",
       "  }\n",
       "</style><div class='table-result-container'><table class='table-result'><thead style='background-color: white'><tr><th>year</th><th>match_no</th><th>match_type</th><th>match_name</th><th>match_href</th><th>match_team1</th><th>match_team2</th><th>match_datetime_start</th><th>match_date_end</th><th>match_venue</th></tr></thead><tbody><tr><td>2021</td><td>null</td><td>League</td><td>MUMBAI INDIANS vs ROYAL CHALLENGERS BENGALURU, 1st Match</td><td>https://www.cricbuzz.com/cricket-scores/35612/mi-vs-rcb-1st-match-indian-premier-league-2021</td><td>null</td><td>null</td><td>null</td><td>null</td><td>null</td></tr><tr><td>2021</td><td>null</td><td>League</td><td>CHENNAI SUPER KINGS vs DELHI CAPITALS, 2nd Match</td><td>https://www.cricbuzz.com/cricket-scores/35617/csk-vs-dc-2nd-match-indian-premier-league-2021</td><td>null</td><td>null</td><td>null</td><td>null</td><td>null</td></tr><tr><td>2021</td><td>null</td><td>League</td><td>SUNRISERS HYDERABAD vs KOLKATA KNIGHT RIDERS, 3rd Match</td><td>https://www.cricbuzz.com/cricket-scores/35618/srh-vs-kkr-3rd-match-indian-premier-league-2021</td><td>null</td><td>null</td><td>null</td><td>null</td><td>null</td></tr><tr><td>2021</td><td>null</td><td>League</td><td>RAJASTHAN ROYALS vs PUNJAB KINGS, 4th Match</td><td>https://www.cricbuzz.com/cricket-scores/35622/rr-vs-pbks-4th-match-indian-premier-league-2021</td><td>null</td><td>null</td><td>null</td><td>null</td><td>null</td></tr><tr><td>2021</td><td>null</td><td>League</td><td>KOLKATA KNIGHT RIDERS vs MUMBAI INDIANS, 5th Match</td><td>https://www.cricbuzz.com/cricket-scores/35627/kkr-vs-mi-5th-match-indian-premier-league-2021</td><td>null</td><td>null</td><td>null</td><td>null</td><td>null</td></tr><tr><td>2021</td><td>null</td><td>League</td><td>SUNRISERS HYDERABAD vs ROYAL CHALLENGERS BENGALURU, 6th Match</td><td>https://www.cricbuzz.com/cricket-scores/35628/srh-vs-rcb-6th-match-indian-premier-league-2021</td><td>null</td><td>null</td><td>null</td><td>null</td><td>null</td></tr><tr><td>2021</td><td>null</td><td>League</td><td>RAJASTHAN ROYALS vs DELHI CAPITALS, 7th Match</td><td>https://www.cricbuzz.com/cricket-scores/35632/rr-vs-dc-7th-match-indian-premier-league-2021</td><td>null</td><td>null</td><td>null</td><td>null</td><td>null</td></tr><tr><td>2021</td><td>null</td><td>League</td><td>PUNJAB KINGS vs CHENNAI SUPER KINGS, 8th Match</td><td>https://www.cricbuzz.com/cricket-scores/35637/pbks-vs-csk-8th-match-indian-premier-league-2021</td><td>null</td><td>null</td><td>null</td><td>null</td><td>null</td></tr><tr><td>2021</td><td>null</td><td>League</td><td>MUMBAI INDIANS vs SUNRISERS HYDERABAD, 9th Match</td><td>https://www.cricbuzz.com/cricket-scores/35642/mi-vs-srh-9th-match-indian-premier-league-2021</td><td>null</td><td>null</td><td>null</td><td>null</td><td>null</td></tr><tr><td>2021</td><td>null</td><td>League</td><td>ROYAL CHALLENGERS BENGALURU vs KOLKATA KNIGHT RIDERS, 10th Match</td><td>https://www.cricbuzz.com/cricket-scores/35643/rcb-vs-kkr-10th-match-indian-premier-league-2021</td><td>null</td><td>null</td><td>null</td><td>null</td><td>null</td></tr><tr><td>2021</td><td>null</td><td>League</td><td>DELHI CAPITALS vs PUNJAB KINGS, 11th Match</td><td>https://www.cricbuzz.com/cricket-scores/35647/dc-vs-pbks-11th-match-indian-premier-league-2021</td><td>null</td><td>null</td><td>null</td><td>null</td><td>null</td></tr><tr><td>2021</td><td>null</td><td>League</td><td>CHENNAI SUPER KINGS vs RAJASTHAN ROYALS, 12th Match</td><td>https://www.cricbuzz.com/cricket-scores/35648/csk-vs-rr-12th-match-indian-premier-league-2021</td><td>null</td><td>null</td><td>null</td><td>null</td><td>null</td></tr><tr><td>2021</td><td>null</td><td>League</td><td>DELHI CAPITALS vs MUMBAI INDIANS, 13th Match</td><td>https://www.cricbuzz.com/cricket-scores/35653/dc-vs-mi-13th-match-indian-premier-league-2021</td><td>null</td><td>null</td><td>null</td><td>null</td><td>null</td></tr><tr><td>2021</td><td>null</td><td>League</td><td>PUNJAB KINGS vs SUNRISERS HYDERABAD, 14th Match</td><td>https://www.cricbuzz.com/cricket-scores/35657/pbks-vs-srh-14th-match-indian-premier-league-2021</td><td>null</td><td>null</td><td>null</td><td>null</td><td>null</td></tr><tr><td>2021</td><td>null</td><td>League</td><td>KOLKATA KNIGHT RIDERS vs CHENNAI SUPER KINGS, 15th Match</td><td>https://www.cricbuzz.com/cricket-scores/35662/kkr-vs-csk-15th-match-indian-premier-league-2021</td><td>null</td><td>null</td><td>null</td><td>null</td><td>null</td></tr><tr><td>2021</td><td>null</td><td>League</td><td>ROYAL CHALLENGERS BENGALURU vs RAJASTHAN ROYALS, 16th Match</td><td>https://www.cricbuzz.com/cricket-scores/35663/rcb-vs-rr-16th-match-indian-premier-league-2021</td><td>null</td><td>null</td><td>null</td><td>null</td><td>null</td></tr><tr><td>2021</td><td>null</td><td>League</td><td>PUNJAB KINGS vs MUMBAI INDIANS, 17th Match</td><td>https://www.cricbuzz.com/cricket-scores/35668/pbks-vs-mi-17th-match-indian-premier-league-2021</td><td>null</td><td>null</td><td>null</td><td>null</td><td>null</td></tr><tr><td>2021</td><td>null</td><td>League</td><td>RAJASTHAN ROYALS vs KOLKATA KNIGHT RIDERS, 18th Match</td><td>https://www.cricbuzz.com/cricket-scores/35673/rr-vs-kkr-18th-match-indian-premier-league-2021</td><td>null</td><td>null</td><td>null</td><td>null</td><td>null</td></tr><tr><td>2021</td><td>null</td><td>League</td><td>CHENNAI SUPER KINGS vs ROYAL CHALLENGERS BENGALURU, 19th Match</td><td>https://www.cricbuzz.com/cricket-scores/35678/csk-vs-rcb-19th-match-indian-premier-league-2021</td><td>null</td><td>null</td><td>null</td><td>null</td><td>null</td></tr><tr><td>2021</td><td>null</td><td>League</td><td>SUNRISERS HYDERABAD vs DELHI CAPITALS, 20th Match</td><td>https://www.cricbuzz.com/cricket-scores/35683/srh-vs-dc-20th-match-indian-premier-league-2021</td><td>null</td><td>null</td><td>null</td><td>null</td><td>null</td></tr><tr><td>2021</td><td>null</td><td>League</td><td>PUNJAB KINGS vs KOLKATA KNIGHT RIDERS, 21st Match</td><td>https://www.cricbuzz.com/cricket-scores/35688/pbks-vs-kkr-21st-match-indian-premier-league-2021</td><td>null</td><td>null</td><td>null</td><td>null</td><td>null</td></tr><tr><td>2021</td><td>null</td><td>League</td><td>DELHI CAPITALS vs ROYAL CHALLENGERS BENGALURU, 22nd Match</td><td>https://www.cricbuzz.com/cricket-scores/35693/dc-vs-rcb-22nd-match-indian-premier-league-2021</td><td>null</td><td>null</td><td>null</td><td>null</td><td>null</td></tr><tr><td>2021</td><td>null</td><td>League</td><td>CHENNAI SUPER KINGS vs SUNRISERS HYDERABAD, 23rd Match</td><td>https://www.cricbuzz.com/cricket-scores/35698/csk-vs-srh-23rd-match-indian-premier-league-2021</td><td>null</td><td>null</td><td>null</td><td>null</td><td>null</td></tr><tr><td>2021</td><td>null</td><td>League</td><td>MUMBAI INDIANS vs RAJASTHAN ROYALS, 24th Match</td><td>https://www.cricbuzz.com/cricket-scores/35702/mi-vs-rr-24th-match-indian-premier-league-2021</td><td>null</td><td>null</td><td>null</td><td>null</td><td>null</td></tr><tr><td>2021</td><td>null</td><td>League</td><td>DELHI CAPITALS vs KOLKATA KNIGHT RIDERS, 25th Match</td><td>https://www.cricbuzz.com/cricket-scores/35703/dc-vs-kkr-25th-match-indian-premier-league-2021</td><td>null</td><td>null</td><td>null</td><td>null</td><td>null</td></tr><tr><td>2021</td><td>null</td><td>League</td><td>PUNJAB KINGS vs ROYAL CHALLENGERS BENGALURU, 26th Match</td><td>https://www.cricbuzz.com/cricket-scores/35708/pbks-vs-rcb-26th-match-indian-premier-league-2021</td><td>null</td><td>null</td><td>null</td><td>null</td><td>null</td></tr><tr><td>2021</td><td>null</td><td>League</td><td>MUMBAI INDIANS vs CHENNAI SUPER KINGS, 27th Match</td><td>https://www.cricbuzz.com/cricket-scores/35712/mi-vs-csk-27th-match-indian-premier-league-2021</td><td>null</td><td>null</td><td>null</td><td>null</td><td>null</td></tr><tr><td>2021</td><td>null</td><td>League</td><td>RAJASTHAN ROYALS vs SUNRISERS HYDERABAD, 28th Match</td><td>https://www.cricbuzz.com/cricket-scores/35713/rr-vs-srh-28th-match-indian-premier-league-2021</td><td>null</td><td>null</td><td>null</td><td>null</td><td>null</td></tr><tr><td>2021</td><td>null</td><td>League</td><td>PUNJAB KINGS vs DELHI CAPITALS, 29th Match</td><td>https://www.cricbuzz.com/cricket-scores/35717/pbks-vs-dc-29th-match-indian-premier-league-2021</td><td>null</td><td>null</td><td>null</td><td>null</td><td>null</td></tr><tr><td>2021</td><td>null</td><td>League</td><td>KOLKATA KNIGHT RIDERS vs ROYAL CHALLENGERS BENGALURU, 30th Match</td><td>https://www.cricbuzz.com/cricket-scores/35718/kkr-vs-rcb-30th-match-indian-premier-league-2021</td><td>null</td><td>null</td><td>null</td><td>null</td><td>null</td></tr><tr><td>2021</td><td>null</td><td>League</td><td>SUNRISERS HYDERABAD vs MUMBAI INDIANS, 31st Match</td><td>https://www.cricbuzz.com/cricket-scores/35723/srh-vs-mi-31st-match-indian-premier-league-2021</td><td>null</td><td>null</td><td>null</td><td>null</td><td>null</td></tr><tr><td>2021</td><td>null</td><td>League</td><td>CHENNAI SUPER KINGS vs MUMBAI INDIANS, 30th Match</td><td>https://www.cricbuzz.com/cricket-scores/37556/csk-vs-mi-30th-match-indian-premier-league-2021</td><td>null</td><td>null</td><td>null</td><td>null</td><td>null</td></tr><tr><td>2021</td><td>null</td><td>League</td><td>KOLKATA KNIGHT RIDERS vs ROYAL CHALLENGERS BENGALURU, 31st Match</td><td>https://www.cricbuzz.com/cricket-scores/37557/kkr-vs-rcb-31st-match-indian-premier-league-2021</td><td>null</td><td>null</td><td>null</td><td>null</td><td>null</td></tr><tr><td>2021</td><td>null</td><td>League</td><td>PUNJAB KINGS vs RAJASTHAN ROYALS, 32nd Match</td><td>https://www.cricbuzz.com/cricket-scores/37562/pbks-vs-rr-32nd-match-indian-premier-league-2021</td><td>null</td><td>null</td><td>null</td><td>null</td><td>null</td></tr><tr><td>2021</td><td>null</td><td>League</td><td>DELHI CAPITALS vs SUNRISERS HYDERABAD, 33rd Match</td><td>https://www.cricbuzz.com/cricket-scores/37567/dc-vs-srh-33rd-match-indian-premier-league-2021</td><td>null</td><td>null</td><td>null</td><td>null</td><td>null</td></tr><tr><td>2021</td><td>null</td><td>League</td><td>MUMBAI INDIANS vs KOLKATA KNIGHT RIDERS, 34th Match</td><td>https://www.cricbuzz.com/cricket-scores/37572/mi-vs-kkr-34th-match-indian-premier-league-2021</td><td>null</td><td>null</td><td>null</td><td>null</td><td>null</td></tr><tr><td>2021</td><td>null</td><td>League</td><td>ROYAL CHALLENGERS BENGALURU vs CHENNAI SUPER KINGS, 35th Match</td><td>https://www.cricbuzz.com/cricket-scores/37577/rcb-vs-csk-35th-match-indian-premier-league-2021</td><td>null</td><td>null</td><td>null</td><td>null</td><td>null</td></tr><tr><td>2021</td><td>null</td><td>League</td><td>DELHI CAPITALS vs RAJASTHAN ROYALS, 36th Match</td><td>https://www.cricbuzz.com/cricket-scores/37581/dc-vs-rr-36th-match-indian-premier-league-2021</td><td>null</td><td>null</td><td>null</td><td>null</td><td>null</td></tr><tr><td>2021</td><td>null</td><td>League</td><td>SUNRISERS HYDERABAD vs PUNJAB KINGS, 37th Match</td><td>https://www.cricbuzz.com/cricket-scores/37582/srh-vs-pbks-37th-match-indian-premier-league-2021</td><td>null</td><td>null</td><td>null</td><td>null</td><td>null</td></tr><tr><td>2021</td><td>null</td><td>League</td><td>CHENNAI SUPER KINGS vs KOLKATA KNIGHT RIDERS, 38th Match</td><td>https://www.cricbuzz.com/cricket-scores/37586/csk-vs-kkr-38th-match-indian-premier-league-2021</td><td>null</td><td>null</td><td>null</td><td>null</td><td>null</td></tr><tr><td>2021</td><td>null</td><td>League</td><td>ROYAL CHALLENGERS BENGALURU vs MUMBAI INDIANS, 39th Match</td><td>https://www.cricbuzz.com/cricket-scores/37591/rcb-vs-mi-39th-match-indian-premier-league-2021</td><td>null</td><td>null</td><td>null</td><td>null</td><td>null</td></tr><tr><td>2021</td><td>null</td><td>League</td><td>SUNRISERS HYDERABAD vs RAJASTHAN ROYALS, 40th Match</td><td>https://www.cricbuzz.com/cricket-scores/37596/srh-vs-rr-40th-match-indian-premier-league-2021</td><td>null</td><td>null</td><td>null</td><td>null</td><td>null</td></tr><tr><td>2021</td><td>null</td><td>League</td><td>KOLKATA KNIGHT RIDERS vs DELHI CAPITALS, 41st Match</td><td>https://www.cricbuzz.com/cricket-scores/37601/kkr-vs-dc-41st-match-indian-premier-league-2021</td><td>null</td><td>null</td><td>null</td><td>null</td><td>null</td></tr><tr><td>2021</td><td>null</td><td>League</td><td>MUMBAI INDIANS vs PUNJAB KINGS, 42nd Match</td><td>https://www.cricbuzz.com/cricket-scores/37606/mi-vs-pbks-42nd-match-indian-premier-league-2021</td><td>null</td><td>null</td><td>null</td><td>null</td><td>null</td></tr><tr><td>2021</td><td>null</td><td>League</td><td>RAJASTHAN ROYALS vs ROYAL CHALLENGERS BENGALURU, 43rd Match</td><td>https://www.cricbuzz.com/cricket-scores/37611/rr-vs-rcb-43rd-match-indian-premier-league-2021</td><td>null</td><td>null</td><td>null</td><td>null</td><td>null</td></tr><tr><td>2021</td><td>null</td><td>League</td><td>SUNRISERS HYDERABAD vs CHENNAI SUPER KINGS, 44th Match</td><td>https://www.cricbuzz.com/cricket-scores/37616/srh-vs-csk-44th-match-indian-premier-league-2021</td><td>null</td><td>null</td><td>null</td><td>null</td><td>null</td></tr><tr><td>2021</td><td>null</td><td>League</td><td>KOLKATA KNIGHT RIDERS vs PUNJAB KINGS, 45th Match</td><td>https://www.cricbuzz.com/cricket-scores/37617/kkr-vs-pbks-45th-match-indian-premier-league-2021</td><td>null</td><td>null</td><td>null</td><td>null</td><td>null</td></tr><tr><td>2021</td><td>null</td><td>League</td><td>MUMBAI INDIANS vs DELHI CAPITALS, 46th Match</td><td>https://www.cricbuzz.com/cricket-scores/37621/mi-vs-dc-46th-match-indian-premier-league-2021</td><td>null</td><td>null</td><td>null</td><td>null</td><td>null</td></tr><tr><td>2021</td><td>null</td><td>League</td><td>RAJASTHAN ROYALS vs CHENNAI SUPER KINGS, 47th Match</td><td>https://www.cricbuzz.com/cricket-scores/37626/rr-vs-csk-47th-match-indian-premier-league-2021</td><td>null</td><td>null</td><td>null</td><td>null</td><td>null</td></tr><tr><td>2021</td><td>null</td><td>League</td><td>ROYAL CHALLENGERS BENGALURU vs PUNJAB KINGS, 48th Match</td><td>https://www.cricbuzz.com/cricket-scores/37627/rcb-vs-pbks-48th-match-indian-premier-league-2021</td><td>null</td><td>null</td><td>null</td><td>null</td><td>null</td></tr><tr><td>2021</td><td>null</td><td>League</td><td>KOLKATA KNIGHT RIDERS vs SUNRISERS HYDERABAD, 49th Match</td><td>https://www.cricbuzz.com/cricket-scores/37631/kkr-vs-srh-49th-match-indian-premier-league-2021</td><td>null</td><td>null</td><td>null</td><td>null</td><td>null</td></tr><tr><td>2021</td><td>null</td><td>League</td><td>DELHI CAPITALS vs CHENNAI SUPER KINGS, 50th Match</td><td>https://www.cricbuzz.com/cricket-scores/37632/dc-vs-csk-50th-match-indian-premier-league-2021</td><td>null</td><td>null</td><td>null</td><td>null</td><td>null</td></tr><tr><td>2021</td><td>null</td><td>League</td><td>RAJASTHAN ROYALS vs MUMBAI INDIANS, 51st Match</td><td>https://www.cricbuzz.com/cricket-scores/37637/rr-vs-mi-51st-match-indian-premier-league-2021</td><td>null</td><td>null</td><td>null</td><td>null</td><td>null</td></tr><tr><td>2021</td><td>null</td><td>League</td><td>ROYAL CHALLENGERS BENGALURU vs SUNRISERS HYDERABAD, 52nd Match</td><td>https://www.cricbuzz.com/cricket-scores/37642/rcb-vs-srh-52nd-match-indian-premier-league-2021</td><td>null</td><td>null</td><td>null</td><td>null</td><td>null</td></tr><tr><td>2021</td><td>null</td><td>League</td><td>CHENNAI SUPER KINGS vs PUNJAB KINGS, 53rd Match</td><td>https://www.cricbuzz.com/cricket-scores/37646/csk-vs-pbks-53rd-match-indian-premier-league-2021</td><td>null</td><td>null</td><td>null</td><td>null</td><td>null</td></tr><tr><td>2021</td><td>null</td><td>League</td><td>KOLKATA KNIGHT RIDERS vs RAJASTHAN ROYALS, 54th Match</td><td>https://www.cricbuzz.com/cricket-scores/37651/kkr-vs-rr-54th-match-indian-premier-league-2021</td><td>null</td><td>null</td><td>null</td><td>null</td><td>null</td></tr><tr><td>2021</td><td>null</td><td>League</td><td>SUNRISERS HYDERABAD vs MUMBAI INDIANS, 55th Match</td><td>https://www.cricbuzz.com/cricket-scores/37656/srh-vs-mi-55th-match-indian-premier-league-2021</td><td>null</td><td>null</td><td>null</td><td>null</td><td>null</td></tr><tr><td>2021</td><td>null</td><td>League</td><td>ROYAL CHALLENGERS BENGALURU vs DELHI CAPITALS, 56th Match</td><td>https://www.cricbuzz.com/cricket-scores/37661/rcb-vs-dc-56th-match-indian-premier-league-2021</td><td>null</td><td>null</td><td>null</td><td>null</td><td>null</td></tr><tr><td>2021</td><td>null</td><td>League</td><td>DELHI CAPITALS vs CHENNAI SUPER KINGS, Qualifier 1</td><td>https://www.cricbuzz.com/cricket-scores/37666/dc-vs-csk-qualifier-1-indian-premier-league-2021</td><td>null</td><td>null</td><td>null</td><td>null</td><td>null</td></tr><tr><td>2021</td><td>null</td><td>League</td><td>ROYAL CHALLENGERS BENGALURU vs KOLKATA KNIGHT RIDERS, Eliminator</td><td>https://www.cricbuzz.com/cricket-scores/37671/rcb-vs-kkr-eliminator-indian-premier-league-2021</td><td>null</td><td>null</td><td>null</td><td>null</td><td>null</td></tr><tr><td>2021</td><td>null</td><td>League</td><td>DELHI CAPITALS vs KOLKATA KNIGHT RIDERS, Qualifier 2</td><td>https://www.cricbuzz.com/cricket-scores/37672/dc-vs-kkr-qualifier-2-indian-premier-league-2021</td><td>null</td><td>null</td><td>null</td><td>null</td><td>null</td></tr><tr><td>2021</td><td>null</td><td>League</td><td>CHENNAI SUPER KINGS vs KOLKATA KNIGHT RIDERS, Final</td><td>https://www.cricbuzz.com/cricket-scores/37676/csk-vs-kkr-final-indian-premier-league-2021</td><td>null</td><td>null</td><td>null</td><td>null</td><td>null</td></tr></tbody></table></div>"
      ]
     },
     "metadata": {
      "application/vnd.databricks.v1+output": {
       "addedWidgets": {},
       "aggData": [],
       "aggError": "",
       "aggOverflow": false,
       "aggSchema": [],
       "aggSeriesLimitReached": false,
       "aggType": "",
       "arguments": {},
       "columnCustomDisplayInfos": {},
       "data": [
        [
         "2021",
         null,
         "League",
         "MUMBAI INDIANS vs ROYAL CHALLENGERS BENGALURU, 1st Match",
         "https://www.cricbuzz.com/cricket-scores/35612/mi-vs-rcb-1st-match-indian-premier-league-2021",
         null,
         null,
         null,
         null,
         null
        ],
        [
         "2021",
         null,
         "League",
         "CHENNAI SUPER KINGS vs DELHI CAPITALS, 2nd Match",
         "https://www.cricbuzz.com/cricket-scores/35617/csk-vs-dc-2nd-match-indian-premier-league-2021",
         null,
         null,
         null,
         null,
         null
        ],
        [
         "2021",
         null,
         "League",
         "SUNRISERS HYDERABAD vs KOLKATA KNIGHT RIDERS, 3rd Match",
         "https://www.cricbuzz.com/cricket-scores/35618/srh-vs-kkr-3rd-match-indian-premier-league-2021",
         null,
         null,
         null,
         null,
         null
        ],
        [
         "2021",
         null,
         "League",
         "RAJASTHAN ROYALS vs PUNJAB KINGS, 4th Match",
         "https://www.cricbuzz.com/cricket-scores/35622/rr-vs-pbks-4th-match-indian-premier-league-2021",
         null,
         null,
         null,
         null,
         null
        ],
        [
         "2021",
         null,
         "League",
         "KOLKATA KNIGHT RIDERS vs MUMBAI INDIANS, 5th Match",
         "https://www.cricbuzz.com/cricket-scores/35627/kkr-vs-mi-5th-match-indian-premier-league-2021",
         null,
         null,
         null,
         null,
         null
        ],
        [
         "2021",
         null,
         "League",
         "SUNRISERS HYDERABAD vs ROYAL CHALLENGERS BENGALURU, 6th Match",
         "https://www.cricbuzz.com/cricket-scores/35628/srh-vs-rcb-6th-match-indian-premier-league-2021",
         null,
         null,
         null,
         null,
         null
        ],
        [
         "2021",
         null,
         "League",
         "RAJASTHAN ROYALS vs DELHI CAPITALS, 7th Match",
         "https://www.cricbuzz.com/cricket-scores/35632/rr-vs-dc-7th-match-indian-premier-league-2021",
         null,
         null,
         null,
         null,
         null
        ],
        [
         "2021",
         null,
         "League",
         "PUNJAB KINGS vs CHENNAI SUPER KINGS, 8th Match",
         "https://www.cricbuzz.com/cricket-scores/35637/pbks-vs-csk-8th-match-indian-premier-league-2021",
         null,
         null,
         null,
         null,
         null
        ],
        [
         "2021",
         null,
         "League",
         "MUMBAI INDIANS vs SUNRISERS HYDERABAD, 9th Match",
         "https://www.cricbuzz.com/cricket-scores/35642/mi-vs-srh-9th-match-indian-premier-league-2021",
         null,
         null,
         null,
         null,
         null
        ],
        [
         "2021",
         null,
         "League",
         "ROYAL CHALLENGERS BENGALURU vs KOLKATA KNIGHT RIDERS, 10th Match",
         "https://www.cricbuzz.com/cricket-scores/35643/rcb-vs-kkr-10th-match-indian-premier-league-2021",
         null,
         null,
         null,
         null,
         null
        ],
        [
         "2021",
         null,
         "League",
         "DELHI CAPITALS vs PUNJAB KINGS, 11th Match",
         "https://www.cricbuzz.com/cricket-scores/35647/dc-vs-pbks-11th-match-indian-premier-league-2021",
         null,
         null,
         null,
         null,
         null
        ],
        [
         "2021",
         null,
         "League",
         "CHENNAI SUPER KINGS vs RAJASTHAN ROYALS, 12th Match",
         "https://www.cricbuzz.com/cricket-scores/35648/csk-vs-rr-12th-match-indian-premier-league-2021",
         null,
         null,
         null,
         null,
         null
        ],
        [
         "2021",
         null,
         "League",
         "DELHI CAPITALS vs MUMBAI INDIANS, 13th Match",
         "https://www.cricbuzz.com/cricket-scores/35653/dc-vs-mi-13th-match-indian-premier-league-2021",
         null,
         null,
         null,
         null,
         null
        ],
        [
         "2021",
         null,
         "League",
         "PUNJAB KINGS vs SUNRISERS HYDERABAD, 14th Match",
         "https://www.cricbuzz.com/cricket-scores/35657/pbks-vs-srh-14th-match-indian-premier-league-2021",
         null,
         null,
         null,
         null,
         null
        ],
        [
         "2021",
         null,
         "League",
         "KOLKATA KNIGHT RIDERS vs CHENNAI SUPER KINGS, 15th Match",
         "https://www.cricbuzz.com/cricket-scores/35662/kkr-vs-csk-15th-match-indian-premier-league-2021",
         null,
         null,
         null,
         null,
         null
        ],
        [
         "2021",
         null,
         "League",
         "ROYAL CHALLENGERS BENGALURU vs RAJASTHAN ROYALS, 16th Match",
         "https://www.cricbuzz.com/cricket-scores/35663/rcb-vs-rr-16th-match-indian-premier-league-2021",
         null,
         null,
         null,
         null,
         null
        ],
        [
         "2021",
         null,
         "League",
         "PUNJAB KINGS vs MUMBAI INDIANS, 17th Match",
         "https://www.cricbuzz.com/cricket-scores/35668/pbks-vs-mi-17th-match-indian-premier-league-2021",
         null,
         null,
         null,
         null,
         null
        ],
        [
         "2021",
         null,
         "League",
         "RAJASTHAN ROYALS vs KOLKATA KNIGHT RIDERS, 18th Match",
         "https://www.cricbuzz.com/cricket-scores/35673/rr-vs-kkr-18th-match-indian-premier-league-2021",
         null,
         null,
         null,
         null,
         null
        ],
        [
         "2021",
         null,
         "League",
         "CHENNAI SUPER KINGS vs ROYAL CHALLENGERS BENGALURU, 19th Match",
         "https://www.cricbuzz.com/cricket-scores/35678/csk-vs-rcb-19th-match-indian-premier-league-2021",
         null,
         null,
         null,
         null,
         null
        ],
        [
         "2021",
         null,
         "League",
         "SUNRISERS HYDERABAD vs DELHI CAPITALS, 20th Match",
         "https://www.cricbuzz.com/cricket-scores/35683/srh-vs-dc-20th-match-indian-premier-league-2021",
         null,
         null,
         null,
         null,
         null
        ],
        [
         "2021",
         null,
         "League",
         "PUNJAB KINGS vs KOLKATA KNIGHT RIDERS, 21st Match",
         "https://www.cricbuzz.com/cricket-scores/35688/pbks-vs-kkr-21st-match-indian-premier-league-2021",
         null,
         null,
         null,
         null,
         null
        ],
        [
         "2021",
         null,
         "League",
         "DELHI CAPITALS vs ROYAL CHALLENGERS BENGALURU, 22nd Match",
         "https://www.cricbuzz.com/cricket-scores/35693/dc-vs-rcb-22nd-match-indian-premier-league-2021",
         null,
         null,
         null,
         null,
         null
        ],
        [
         "2021",
         null,
         "League",
         "CHENNAI SUPER KINGS vs SUNRISERS HYDERABAD, 23rd Match",
         "https://www.cricbuzz.com/cricket-scores/35698/csk-vs-srh-23rd-match-indian-premier-league-2021",
         null,
         null,
         null,
         null,
         null
        ],
        [
         "2021",
         null,
         "League",
         "MUMBAI INDIANS vs RAJASTHAN ROYALS, 24th Match",
         "https://www.cricbuzz.com/cricket-scores/35702/mi-vs-rr-24th-match-indian-premier-league-2021",
         null,
         null,
         null,
         null,
         null
        ],
        [
         "2021",
         null,
         "League",
         "DELHI CAPITALS vs KOLKATA KNIGHT RIDERS, 25th Match",
         "https://www.cricbuzz.com/cricket-scores/35703/dc-vs-kkr-25th-match-indian-premier-league-2021",
         null,
         null,
         null,
         null,
         null
        ],
        [
         "2021",
         null,
         "League",
         "PUNJAB KINGS vs ROYAL CHALLENGERS BENGALURU, 26th Match",
         "https://www.cricbuzz.com/cricket-scores/35708/pbks-vs-rcb-26th-match-indian-premier-league-2021",
         null,
         null,
         null,
         null,
         null
        ],
        [
         "2021",
         null,
         "League",
         "MUMBAI INDIANS vs CHENNAI SUPER KINGS, 27th Match",
         "https://www.cricbuzz.com/cricket-scores/35712/mi-vs-csk-27th-match-indian-premier-league-2021",
         null,
         null,
         null,
         null,
         null
        ],
        [
         "2021",
         null,
         "League",
         "RAJASTHAN ROYALS vs SUNRISERS HYDERABAD, 28th Match",
         "https://www.cricbuzz.com/cricket-scores/35713/rr-vs-srh-28th-match-indian-premier-league-2021",
         null,
         null,
         null,
         null,
         null
        ],
        [
         "2021",
         null,
         "League",
         "PUNJAB KINGS vs DELHI CAPITALS, 29th Match",
         "https://www.cricbuzz.com/cricket-scores/35717/pbks-vs-dc-29th-match-indian-premier-league-2021",
         null,
         null,
         null,
         null,
         null
        ],
        [
         "2021",
         null,
         "League",
         "KOLKATA KNIGHT RIDERS vs ROYAL CHALLENGERS BENGALURU, 30th Match",
         "https://www.cricbuzz.com/cricket-scores/35718/kkr-vs-rcb-30th-match-indian-premier-league-2021",
         null,
         null,
         null,
         null,
         null
        ],
        [
         "2021",
         null,
         "League",
         "SUNRISERS HYDERABAD vs MUMBAI INDIANS, 31st Match",
         "https://www.cricbuzz.com/cricket-scores/35723/srh-vs-mi-31st-match-indian-premier-league-2021",
         null,
         null,
         null,
         null,
         null
        ],
        [
         "2021",
         null,
         "League",
         "CHENNAI SUPER KINGS vs MUMBAI INDIANS, 30th Match",
         "https://www.cricbuzz.com/cricket-scores/37556/csk-vs-mi-30th-match-indian-premier-league-2021",
         null,
         null,
         null,
         null,
         null
        ],
        [
         "2021",
         null,
         "League",
         "KOLKATA KNIGHT RIDERS vs ROYAL CHALLENGERS BENGALURU, 31st Match",
         "https://www.cricbuzz.com/cricket-scores/37557/kkr-vs-rcb-31st-match-indian-premier-league-2021",
         null,
         null,
         null,
         null,
         null
        ],
        [
         "2021",
         null,
         "League",
         "PUNJAB KINGS vs RAJASTHAN ROYALS, 32nd Match",
         "https://www.cricbuzz.com/cricket-scores/37562/pbks-vs-rr-32nd-match-indian-premier-league-2021",
         null,
         null,
         null,
         null,
         null
        ],
        [
         "2021",
         null,
         "League",
         "DELHI CAPITALS vs SUNRISERS HYDERABAD, 33rd Match",
         "https://www.cricbuzz.com/cricket-scores/37567/dc-vs-srh-33rd-match-indian-premier-league-2021",
         null,
         null,
         null,
         null,
         null
        ],
        [
         "2021",
         null,
         "League",
         "MUMBAI INDIANS vs KOLKATA KNIGHT RIDERS, 34th Match",
         "https://www.cricbuzz.com/cricket-scores/37572/mi-vs-kkr-34th-match-indian-premier-league-2021",
         null,
         null,
         null,
         null,
         null
        ],
        [
         "2021",
         null,
         "League",
         "ROYAL CHALLENGERS BENGALURU vs CHENNAI SUPER KINGS, 35th Match",
         "https://www.cricbuzz.com/cricket-scores/37577/rcb-vs-csk-35th-match-indian-premier-league-2021",
         null,
         null,
         null,
         null,
         null
        ],
        [
         "2021",
         null,
         "League",
         "DELHI CAPITALS vs RAJASTHAN ROYALS, 36th Match",
         "https://www.cricbuzz.com/cricket-scores/37581/dc-vs-rr-36th-match-indian-premier-league-2021",
         null,
         null,
         null,
         null,
         null
        ],
        [
         "2021",
         null,
         "League",
         "SUNRISERS HYDERABAD vs PUNJAB KINGS, 37th Match",
         "https://www.cricbuzz.com/cricket-scores/37582/srh-vs-pbks-37th-match-indian-premier-league-2021",
         null,
         null,
         null,
         null,
         null
        ],
        [
         "2021",
         null,
         "League",
         "CHENNAI SUPER KINGS vs KOLKATA KNIGHT RIDERS, 38th Match",
         "https://www.cricbuzz.com/cricket-scores/37586/csk-vs-kkr-38th-match-indian-premier-league-2021",
         null,
         null,
         null,
         null,
         null
        ],
        [
         "2021",
         null,
         "League",
         "ROYAL CHALLENGERS BENGALURU vs MUMBAI INDIANS, 39th Match",
         "https://www.cricbuzz.com/cricket-scores/37591/rcb-vs-mi-39th-match-indian-premier-league-2021",
         null,
         null,
         null,
         null,
         null
        ],
        [
         "2021",
         null,
         "League",
         "SUNRISERS HYDERABAD vs RAJASTHAN ROYALS, 40th Match",
         "https://www.cricbuzz.com/cricket-scores/37596/srh-vs-rr-40th-match-indian-premier-league-2021",
         null,
         null,
         null,
         null,
         null
        ],
        [
         "2021",
         null,
         "League",
         "KOLKATA KNIGHT RIDERS vs DELHI CAPITALS, 41st Match",
         "https://www.cricbuzz.com/cricket-scores/37601/kkr-vs-dc-41st-match-indian-premier-league-2021",
         null,
         null,
         null,
         null,
         null
        ],
        [
         "2021",
         null,
         "League",
         "MUMBAI INDIANS vs PUNJAB KINGS, 42nd Match",
         "https://www.cricbuzz.com/cricket-scores/37606/mi-vs-pbks-42nd-match-indian-premier-league-2021",
         null,
         null,
         null,
         null,
         null
        ],
        [
         "2021",
         null,
         "League",
         "RAJASTHAN ROYALS vs ROYAL CHALLENGERS BENGALURU, 43rd Match",
         "https://www.cricbuzz.com/cricket-scores/37611/rr-vs-rcb-43rd-match-indian-premier-league-2021",
         null,
         null,
         null,
         null,
         null
        ],
        [
         "2021",
         null,
         "League",
         "SUNRISERS HYDERABAD vs CHENNAI SUPER KINGS, 44th Match",
         "https://www.cricbuzz.com/cricket-scores/37616/srh-vs-csk-44th-match-indian-premier-league-2021",
         null,
         null,
         null,
         null,
         null
        ],
        [
         "2021",
         null,
         "League",
         "KOLKATA KNIGHT RIDERS vs PUNJAB KINGS, 45th Match",
         "https://www.cricbuzz.com/cricket-scores/37617/kkr-vs-pbks-45th-match-indian-premier-league-2021",
         null,
         null,
         null,
         null,
         null
        ],
        [
         "2021",
         null,
         "League",
         "MUMBAI INDIANS vs DELHI CAPITALS, 46th Match",
         "https://www.cricbuzz.com/cricket-scores/37621/mi-vs-dc-46th-match-indian-premier-league-2021",
         null,
         null,
         null,
         null,
         null
        ],
        [
         "2021",
         null,
         "League",
         "RAJASTHAN ROYALS vs CHENNAI SUPER KINGS, 47th Match",
         "https://www.cricbuzz.com/cricket-scores/37626/rr-vs-csk-47th-match-indian-premier-league-2021",
         null,
         null,
         null,
         null,
         null
        ],
        [
         "2021",
         null,
         "League",
         "ROYAL CHALLENGERS BENGALURU vs PUNJAB KINGS, 48th Match",
         "https://www.cricbuzz.com/cricket-scores/37627/rcb-vs-pbks-48th-match-indian-premier-league-2021",
         null,
         null,
         null,
         null,
         null
        ],
        [
         "2021",
         null,
         "League",
         "KOLKATA KNIGHT RIDERS vs SUNRISERS HYDERABAD, 49th Match",
         "https://www.cricbuzz.com/cricket-scores/37631/kkr-vs-srh-49th-match-indian-premier-league-2021",
         null,
         null,
         null,
         null,
         null
        ],
        [
         "2021",
         null,
         "League",
         "DELHI CAPITALS vs CHENNAI SUPER KINGS, 50th Match",
         "https://www.cricbuzz.com/cricket-scores/37632/dc-vs-csk-50th-match-indian-premier-league-2021",
         null,
         null,
         null,
         null,
         null
        ],
        [
         "2021",
         null,
         "League",
         "RAJASTHAN ROYALS vs MUMBAI INDIANS, 51st Match",
         "https://www.cricbuzz.com/cricket-scores/37637/rr-vs-mi-51st-match-indian-premier-league-2021",
         null,
         null,
         null,
         null,
         null
        ],
        [
         "2021",
         null,
         "League",
         "ROYAL CHALLENGERS BENGALURU vs SUNRISERS HYDERABAD, 52nd Match",
         "https://www.cricbuzz.com/cricket-scores/37642/rcb-vs-srh-52nd-match-indian-premier-league-2021",
         null,
         null,
         null,
         null,
         null
        ],
        [
         "2021",
         null,
         "League",
         "CHENNAI SUPER KINGS vs PUNJAB KINGS, 53rd Match",
         "https://www.cricbuzz.com/cricket-scores/37646/csk-vs-pbks-53rd-match-indian-premier-league-2021",
         null,
         null,
         null,
         null,
         null
        ],
        [
         "2021",
         null,
         "League",
         "KOLKATA KNIGHT RIDERS vs RAJASTHAN ROYALS, 54th Match",
         "https://www.cricbuzz.com/cricket-scores/37651/kkr-vs-rr-54th-match-indian-premier-league-2021",
         null,
         null,
         null,
         null,
         null
        ],
        [
         "2021",
         null,
         "League",
         "SUNRISERS HYDERABAD vs MUMBAI INDIANS, 55th Match",
         "https://www.cricbuzz.com/cricket-scores/37656/srh-vs-mi-55th-match-indian-premier-league-2021",
         null,
         null,
         null,
         null,
         null
        ],
        [
         "2021",
         null,
         "League",
         "ROYAL CHALLENGERS BENGALURU vs DELHI CAPITALS, 56th Match",
         "https://www.cricbuzz.com/cricket-scores/37661/rcb-vs-dc-56th-match-indian-premier-league-2021",
         null,
         null,
         null,
         null,
         null
        ],
        [
         "2021",
         null,
         "League",
         "DELHI CAPITALS vs CHENNAI SUPER KINGS, Qualifier 1",
         "https://www.cricbuzz.com/cricket-scores/37666/dc-vs-csk-qualifier-1-indian-premier-league-2021",
         null,
         null,
         null,
         null,
         null
        ],
        [
         "2021",
         null,
         "League",
         "ROYAL CHALLENGERS BENGALURU vs KOLKATA KNIGHT RIDERS, Eliminator",
         "https://www.cricbuzz.com/cricket-scores/37671/rcb-vs-kkr-eliminator-indian-premier-league-2021",
         null,
         null,
         null,
         null,
         null
        ],
        [
         "2021",
         null,
         "League",
         "DELHI CAPITALS vs KOLKATA KNIGHT RIDERS, Qualifier 2",
         "https://www.cricbuzz.com/cricket-scores/37672/dc-vs-kkr-qualifier-2-indian-premier-league-2021",
         null,
         null,
         null,
         null,
         null
        ],
        [
         "2021",
         null,
         "League",
         "CHENNAI SUPER KINGS vs KOLKATA KNIGHT RIDERS, Final",
         "https://www.cricbuzz.com/cricket-scores/37676/csk-vs-kkr-final-indian-premier-league-2021",
         null,
         null,
         null,
         null,
         null
        ]
       ],
       "datasetInfos": [],
       "dbfsResultPath": null,
       "isJsonSchema": true,
       "metadata": {},
       "overflow": false,
       "plotOptions": {
        "customPlotOptions": {},
        "displayType": "table",
        "pivotAggregation": null,
        "pivotColumns": null,
        "xColumns": null,
        "yColumns": null
       },
       "removedWidgets": [],
       "schema": [
        {
         "metadata": "{}",
         "name": "year",
         "type": "\"string\""
        },
        {
         "metadata": "{}",
         "name": "match_no",
         "type": "\"string\""
        },
        {
         "metadata": "{}",
         "name": "match_type",
         "type": "\"string\""
        },
        {
         "metadata": "{}",
         "name": "match_name",
         "type": "\"string\""
        },
        {
         "metadata": "{}",
         "name": "match_href",
         "type": "\"string\""
        },
        {
         "metadata": "{}",
         "name": "match_team1",
         "type": "\"string\""
        },
        {
         "metadata": "{}",
         "name": "match_team2",
         "type": "\"string\""
        },
        {
         "metadata": "{}",
         "name": "match_datetime_start",
         "type": "\"string\""
        },
        {
         "metadata": "{}",
         "name": "match_date_end",
         "type": "\"string\""
        },
        {
         "metadata": "{}",
         "name": "match_venue",
         "type": "\"string\""
        }
       ],
       "type": "table"
      }
     },
     "output_type": "display_data"
    }
   ],
   "source": [
    "display(cleaned_df)"
   ]
  }
 ],
 "metadata": {
  "application/vnd.databricks.v1+notebook": {
   "computePreferences": null,
   "dashboards": [],
   "environmentMetadata": {
    "base_environment": "",
    "environment_version": "1"
   },
   "inputWidgetPreferences": null,
   "language": "python",
   "notebookMetadata": {
    "pythonIndentUnit": 4
   },
   "notebookName": "L 16 TASK 4",
   "widgets": {}
  }
 },
 "nbformat": 4,
 "nbformat_minor": 0
}