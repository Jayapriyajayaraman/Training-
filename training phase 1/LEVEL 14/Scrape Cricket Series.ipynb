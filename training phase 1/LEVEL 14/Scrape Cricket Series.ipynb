{
 "cells": [
  {
   "cell_type": "code",
   "execution_count": 1,
   "id": "2b319efe-557d-40b5-ad6b-576021b1533d",
   "metadata": {},
   "outputs": [],
   "source": [
    "from selenium import webdriver\n",
    "from selenium.webdriver.chrome.options import Options\n",
    "from selenium.webdriver.common.by import By\n",
    "from bs4 import BeautifulSoup\n",
    "import time\n",
    "import pandas as pd"
   ]
  },
  {
   "cell_type": "code",
   "execution_count": 2,
   "id": "0eb797e6-b9d9-45d1-bfe2-be34fabfdbac",
   "metadata": {},
   "outputs": [],
   "source": [
    "options = Options()\n",
    "options.add_argument(\"--start-maximized\")\n",
    "driver = webdriver.Chrome(options=options)\n"
   ]
  },
  {
   "cell_type": "code",
   "execution_count": 3,
   "id": "c7a40cd7-d070-4e4f-b7cc-699a741f671c",
   "metadata": {},
   "outputs": [],
   "source": [
    "driver.get(\"https://www.cricbuzz.com/cricket-series\")\n",
    "time.sleep(3)"
   ]
  },
  {
   "cell_type": "code",
   "execution_count": 4,
   "id": "11d7840a-6724-4df3-87a8-957c373997f1",
   "metadata": {},
   "outputs": [],
   "source": [
    "last_height = driver.execute_script(\"return document.body.scrollHeight\")\n",
    "while True:\n",
    "    driver.execute_script(\"window.scrollTo(0, document.body.scrollHeight);\")\n",
    "    time.sleep(2)\n",
    "    new_height = driver.execute_script(\"return document.body.scrollHeight\")\n",
    "    if new_height == last_height:\n",
    "        break\n",
    "    last_height = new_height"
   ]
  },
  {
   "cell_type": "code",
   "execution_count": 5,
   "id": "974ea826-bc1f-4910-877b-66b62868b635",
   "metadata": {},
   "outputs": [],
   "source": [
    "soup = BeautifulSoup(driver.page_source, \"html.parser\")\n",
    "driver.quit()\n"
   ]
  },
  {
   "cell_type": "code",
   "execution_count": 6,
   "id": "fb4916f5-940a-44de-8ebd-c8f41561ba3f",
   "metadata": {},
   "outputs": [],
   "source": [
    "series_data = []\n",
    "series_blocks = soup.find_all(\"a\", href=True)\n",
    "\n",
    "for block in series_blocks:\n",
    "    if \"/cricket-series/\" in block['href'] and block.text.strip():\n",
    "        name = block.text.strip()\n",
    "        url = \"https://www.cricbuzz.com\" + block['href']\n",
    "        year = ''.join(filter(str.isdigit, name.split()[-1]))  # get year from end\n",
    "        series_data.append({\n",
    "            \"Series Name\": name,\n",
    "            \"Series Year\": year,\n",
    "            \"Series Link\": url\n",
    "        })"
   ]
  },
  {
   "cell_type": "code",
   "execution_count": 7,
   "id": "214d1804-ce72-4821-98ae-93ddb869f23a",
   "metadata": {},
   "outputs": [
    {
     "name": "stdout",
     "output_type": "stream",
     "text": [
      "✅ Scraping Complete. Output saved to 'cricbuzz_series_all_years.csv'\n"
     ]
    }
   ],
   "source": [
    "df = pd.DataFrame(series_data).drop_duplicates(subset=[\"Series Link\"])\n",
    "df.to_csv(\"cricbuzz_series_all_years.csv\", index=False)\n",
    "print(\"✅ Scraping Complete. Output saved to 'cricbuzz_series_all_years.csv'\")"
   ]
  },
  {
   "cell_type": "code",
   "execution_count": null,
   "id": "5048dc64-7134-4e80-8109-6fb0560a1796",
   "metadata": {},
   "outputs": [],
   "source": []
  }
 ],
 "metadata": {
  "kernelspec": {
   "display_name": "Python 3 (ipykernel)",
   "language": "python",
   "name": "python3"
  },
  "language_info": {
   "codemirror_mode": {
    "name": "ipython",
    "version": 3
   },
   "file_extension": ".py",
   "mimetype": "text/x-python",
   "name": "python",
   "nbconvert_exporter": "python",
   "pygments_lexer": "ipython3",
   "version": "3.12.7"
  }
 },
 "nbformat": 4,
 "nbformat_minor": 5
}
