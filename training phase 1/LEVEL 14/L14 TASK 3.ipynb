{
 "cells": [
  {
   "cell_type": "code",
   "execution_count": 3,
   "id": "e313302f-9c2a-484c-a544-8e6262230c0d",
   "metadata": {},
   "outputs": [],
   "source": [
    "import requests\n",
    "from bs4 import BeautifulSoup"
   ]
  },
  {
   "cell_type": "code",
   "execution_count": 5,
   "id": "f31a4801-cc12-446e-b255-c2ab8f99d68d",
   "metadata": {},
   "outputs": [],
   "source": [
    "url = 'https://www.cricbuzz.com/cricket-full-commentary/35612/mi-vs-rcb-1st-match-indian-premier-league-2021'"
   ]
  },
  {
   "cell_type": "code",
   "execution_count": 7,
   "id": "b4aacf2e-f55f-4c0c-a5bf-7440cc78c72b",
   "metadata": {},
   "outputs": [],
   "source": [
    "response = requests.get(url)"
   ]
  },
  {
   "cell_type": "code",
   "execution_count": 15,
   "id": "99e8a2db-9343-4ceb-a306-a3b48120c0ea",
   "metadata": {},
   "outputs": [
    {
     "name": "stdout",
     "output_type": "stream",
     "text": [
      "Unable to get commentary because it is loaded dynamically.\n"
     ]
    }
   ],
   "source": [
    "if response.status_code == 200:\n",
    "    soup = BeautifulSoup(response.text, 'html.parser')\n",
    "    commentary = soup.find_all('div', class_='cb-col cb-col-100 cb-col cb-com-ln')\n",
    "    if commentary:\n",
    "        for ball in commentary:\n",
    "            over = ball.find('span', class_='cb-col cb-col-8 cb-com-ln-time').text.strip() if ball.find('span', class_='cb-col cb-col-8 cb-com-ln-time') else ''\n",
    "            text = ball.find('div', class_='cb-col cb-col-92 cb-com-ln-text').text.strip() if ball.find('div', class_='cb-col cb-col-92 cb-com-ln-text') else ''\n",
    "            print(f'{over} | {text}')\n",
    "    else:\n",
    "        print(\"Unable to get commentary because it is loaded dynamically.\")\n",
    "else:\n",
    "    print(\"Failed to fetch the page.\")"
   ]
  },
  {
   "cell_type": "code",
   "execution_count": 11,
   "id": "d72e3062-a219-40e1-9a70-c1d1929ecc14",
   "metadata": {},
   "outputs": [],
   "source": []
  },
  {
   "cell_type": "code",
   "execution_count": null,
   "id": "78302609-cdea-4676-99a1-e9ece0e2e54b",
   "metadata": {},
   "outputs": [],
   "source": []
  }
 ],
 "metadata": {
  "kernelspec": {
   "display_name": "Python 3 (ipykernel)",
   "language": "python",
   "name": "python3"
  },
  "language_info": {
   "codemirror_mode": {
    "name": "ipython",
    "version": 3
   },
   "file_extension": ".py",
   "mimetype": "text/x-python",
   "name": "python",
   "nbconvert_exporter": "python",
   "pygments_lexer": "ipython3",
   "version": "3.12.4"
  }
 },
 "nbformat": 4,
 "nbformat_minor": 5
}
