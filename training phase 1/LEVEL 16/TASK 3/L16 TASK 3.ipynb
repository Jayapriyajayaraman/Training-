{
 "cells": [
  {
   "cell_type": "code",
   "execution_count": 0,
   "metadata": {
    "application/vnd.databricks.v1+cell": {
     "cellMetadata": {
      "byteLimit": 2048000,
      "rowLimit": 10000
     },
     "inputWidgets": {},
     "nuid": "2cdeac1e-14a6-42be-acbe-6b03d0c3cb99",
     "showTitle": false,
     "tableResultSettingsMap": {},
     "title": ""
    }
   },
   "outputs": [],
   "source": [
    "df = spark.read.option(\"header\", True).csv(\"dbfs:/FileStore/tables/ipl_2021_matches.csv\")\n"
   ]
  },
  {
   "cell_type": "code",
   "execution_count": 0,
   "metadata": {
    "application/vnd.databricks.v1+cell": {
     "cellMetadata": {
      "byteLimit": 2048000,
      "rowLimit": 10000
     },
     "inputWidgets": {},
     "nuid": "16f99764-649a-4091-9953-bbf8b4e04ad4",
     "showTitle": false,
     "tableResultSettingsMap": {},
     "title": ""
    }
   },
   "outputs": [
    {
     "output_type": "stream",
     "name": "stdout",
     "output_type": "stream",
     "text": [
      "root\n |-- year: string (nullable = true)\n |-- series_type: string (nullable = true)\n |-- series_name: string (nullable = true)\n |-- match_no: string (nullable = true)\n |-- match_type: string (nullable = true)\n |-- match_name: string (nullable = true)\n |-- match_href: string (nullable = true)\n |-- match_team1: string (nullable = true)\n |-- match_team2: string (nullable = true)\n |-- match_datetime_start: string (nullable = true)\n |-- match_date_end: string (nullable = true)\n |-- match_venue: string (nullable = true)\n\n"
     ]
    }
   ],
   "source": [
    "df.printSchema()"
   ]
  },
  {
   "cell_type": "code",
   "execution_count": 0,
   "metadata": {
    "application/vnd.databricks.v1+cell": {
     "cellMetadata": {
      "byteLimit": 2048000,
      "rowLimit": 10000
     },
     "inputWidgets": {},
     "nuid": "873f7044-706e-480f-a95f-5df9bc10353b",
     "showTitle": false,
     "tableResultSettingsMap": {},
     "title": ""
    }
   },
   "outputs": [],
   "source": [
    "selected_df = df.select(\"match_no\", \"match_type\", \"match_name\")\n"
   ]
  },
  {
   "cell_type": "code",
   "execution_count": 0,
   "metadata": {
    "application/vnd.databricks.v1+cell": {
     "cellMetadata": {
      "byteLimit": 2048000,
      "rowLimit": 10000
     },
     "inputWidgets": {},
     "nuid": "92f5d01f-2156-4651-b672-748c8a00891c",
     "showTitle": false,
     "tableResultSettingsMap": {},
     "title": ""
    }
   },
   "outputs": [
    {
     "output_type": "stream",
     "name": "stdout",
     "output_type": "stream",
     "text": [
      "+--------+----------+----------------------------------------------------------------+\n|match_no|match_type|match_name                                                      |\n+--------+----------+----------------------------------------------------------------+\n|null    |League    |MUMBAI INDIANS vs ROYAL CHALLENGERS BENGALURU, 1st Match        |\n|null    |League    |CHENNAI SUPER KINGS vs DELHI CAPITALS, 2nd Match                |\n|null    |League    |SUNRISERS HYDERABAD vs KOLKATA KNIGHT RIDERS, 3rd Match         |\n|null    |League    |RAJASTHAN ROYALS vs PUNJAB KINGS, 4th Match                     |\n|null    |League    |KOLKATA KNIGHT RIDERS vs MUMBAI INDIANS, 5th Match              |\n|null    |League    |SUNRISERS HYDERABAD vs ROYAL CHALLENGERS BENGALURU, 6th Match   |\n|null    |League    |RAJASTHAN ROYALS vs DELHI CAPITALS, 7th Match                   |\n|null    |League    |PUNJAB KINGS vs CHENNAI SUPER KINGS, 8th Match                  |\n|null    |League    |MUMBAI INDIANS vs SUNRISERS HYDERABAD, 9th Match                |\n|null    |League    |ROYAL CHALLENGERS BENGALURU vs KOLKATA KNIGHT RIDERS, 10th Match|\n|null    |League    |DELHI CAPITALS vs PUNJAB KINGS, 11th Match                      |\n|null    |League    |CHENNAI SUPER KINGS vs RAJASTHAN ROYALS, 12th Match             |\n|null    |League    |DELHI CAPITALS vs MUMBAI INDIANS, 13th Match                    |\n|null    |League    |PUNJAB KINGS vs SUNRISERS HYDERABAD, 14th Match                 |\n|null    |League    |KOLKATA KNIGHT RIDERS vs CHENNAI SUPER KINGS, 15th Match        |\n|null    |League    |ROYAL CHALLENGERS BENGALURU vs RAJASTHAN ROYALS, 16th Match     |\n|null    |League    |PUNJAB KINGS vs MUMBAI INDIANS, 17th Match                      |\n|null    |League    |RAJASTHAN ROYALS vs KOLKATA KNIGHT RIDERS, 18th Match           |\n|null    |League    |CHENNAI SUPER KINGS vs ROYAL CHALLENGERS BENGALURU, 19th Match  |\n|null    |League    |SUNRISERS HYDERABAD vs DELHI CAPITALS, 20th Match               |\n+--------+----------+----------------------------------------------------------------+\nonly showing top 20 rows\n\n"
     ]
    }
   ],
   "source": [
    "selected_df.show(truncate=False)\n"
   ]
  },
  {
   "cell_type": "code",
   "execution_count": 0,
   "metadata": {
    "application/vnd.databricks.v1+cell": {
     "cellMetadata": {
      "byteLimit": 2048000,
      "rowLimit": 10000
     },
     "inputWidgets": {},
     "nuid": "745bd813-0ab3-41e9-8608-6c42e1bb331a",
     "showTitle": false,
     "tableResultSettingsMap": {},
     "title": ""
    }
   },
   "outputs": [
    {
     "output_type": "display_data",
     "data": {
      "text/html": [
       "<style scoped>\n",
       "  .table-result-container {\n",
       "    max-height: 300px;\n",
       "    overflow: auto;\n",
       "  }\n",
       "  table, th, td {\n",
       "    border: 1px solid black;\n",
       "    border-collapse: collapse;\n",
       "  }\n",
       "  th, td {\n",
       "    padding: 5px;\n",
       "  }\n",
       "  th {\n",
       "    text-align: left;\n",
       "  }\n",
       "</style><div class='table-result-container'><table class='table-result'><thead style='background-color: white'><tr><th>match_no</th><th>match_type</th><th>match_name</th></tr></thead><tbody><tr><td>null</td><td>League</td><td>MUMBAI INDIANS vs ROYAL CHALLENGERS BENGALURU, 1st Match</td></tr><tr><td>null</td><td>League</td><td>CHENNAI SUPER KINGS vs DELHI CAPITALS, 2nd Match</td></tr><tr><td>null</td><td>League</td><td>SUNRISERS HYDERABAD vs KOLKATA KNIGHT RIDERS, 3rd Match</td></tr><tr><td>null</td><td>League</td><td>RAJASTHAN ROYALS vs PUNJAB KINGS, 4th Match</td></tr><tr><td>null</td><td>League</td><td>KOLKATA KNIGHT RIDERS vs MUMBAI INDIANS, 5th Match</td></tr><tr><td>null</td><td>League</td><td>SUNRISERS HYDERABAD vs ROYAL CHALLENGERS BENGALURU, 6th Match</td></tr><tr><td>null</td><td>League</td><td>RAJASTHAN ROYALS vs DELHI CAPITALS, 7th Match</td></tr><tr><td>null</td><td>League</td><td>PUNJAB KINGS vs CHENNAI SUPER KINGS, 8th Match</td></tr><tr><td>null</td><td>League</td><td>MUMBAI INDIANS vs SUNRISERS HYDERABAD, 9th Match</td></tr><tr><td>null</td><td>League</td><td>ROYAL CHALLENGERS BENGALURU vs KOLKATA KNIGHT RIDERS, 10th Match</td></tr><tr><td>null</td><td>League</td><td>DELHI CAPITALS vs PUNJAB KINGS, 11th Match</td></tr><tr><td>null</td><td>League</td><td>CHENNAI SUPER KINGS vs RAJASTHAN ROYALS, 12th Match</td></tr><tr><td>null</td><td>League</td><td>DELHI CAPITALS vs MUMBAI INDIANS, 13th Match</td></tr><tr><td>null</td><td>League</td><td>PUNJAB KINGS vs SUNRISERS HYDERABAD, 14th Match</td></tr><tr><td>null</td><td>League</td><td>KOLKATA KNIGHT RIDERS vs CHENNAI SUPER KINGS, 15th Match</td></tr><tr><td>null</td><td>League</td><td>ROYAL CHALLENGERS BENGALURU vs RAJASTHAN ROYALS, 16th Match</td></tr><tr><td>null</td><td>League</td><td>PUNJAB KINGS vs MUMBAI INDIANS, 17th Match</td></tr><tr><td>null</td><td>League</td><td>RAJASTHAN ROYALS vs KOLKATA KNIGHT RIDERS, 18th Match</td></tr><tr><td>null</td><td>League</td><td>CHENNAI SUPER KINGS vs ROYAL CHALLENGERS BENGALURU, 19th Match</td></tr><tr><td>null</td><td>League</td><td>SUNRISERS HYDERABAD vs DELHI CAPITALS, 20th Match</td></tr><tr><td>null</td><td>League</td><td>PUNJAB KINGS vs KOLKATA KNIGHT RIDERS, 21st Match</td></tr><tr><td>null</td><td>League</td><td>DELHI CAPITALS vs ROYAL CHALLENGERS BENGALURU, 22nd Match</td></tr><tr><td>null</td><td>League</td><td>CHENNAI SUPER KINGS vs SUNRISERS HYDERABAD, 23rd Match</td></tr><tr><td>null</td><td>League</td><td>MUMBAI INDIANS vs RAJASTHAN ROYALS, 24th Match</td></tr><tr><td>null</td><td>League</td><td>DELHI CAPITALS vs KOLKATA KNIGHT RIDERS, 25th Match</td></tr><tr><td>null</td><td>League</td><td>PUNJAB KINGS vs ROYAL CHALLENGERS BENGALURU, 26th Match</td></tr><tr><td>null</td><td>League</td><td>MUMBAI INDIANS vs CHENNAI SUPER KINGS, 27th Match</td></tr><tr><td>null</td><td>League</td><td>RAJASTHAN ROYALS vs SUNRISERS HYDERABAD, 28th Match</td></tr><tr><td>null</td><td>League</td><td>PUNJAB KINGS vs DELHI CAPITALS, 29th Match</td></tr><tr><td>null</td><td>League</td><td>KOLKATA KNIGHT RIDERS vs ROYAL CHALLENGERS BENGALURU, 30th Match</td></tr><tr><td>null</td><td>League</td><td>SUNRISERS HYDERABAD vs MUMBAI INDIANS, 31st Match</td></tr><tr><td>null</td><td>League</td><td>CHENNAI SUPER KINGS vs MUMBAI INDIANS, 30th Match</td></tr><tr><td>null</td><td>League</td><td>KOLKATA KNIGHT RIDERS vs ROYAL CHALLENGERS BENGALURU, 31st Match</td></tr><tr><td>null</td><td>League</td><td>PUNJAB KINGS vs RAJASTHAN ROYALS, 32nd Match</td></tr><tr><td>null</td><td>League</td><td>DELHI CAPITALS vs SUNRISERS HYDERABAD, 33rd Match</td></tr><tr><td>null</td><td>League</td><td>MUMBAI INDIANS vs KOLKATA KNIGHT RIDERS, 34th Match</td></tr><tr><td>null</td><td>League</td><td>ROYAL CHALLENGERS BENGALURU vs CHENNAI SUPER KINGS, 35th Match</td></tr><tr><td>null</td><td>League</td><td>DELHI CAPITALS vs RAJASTHAN ROYALS, 36th Match</td></tr><tr><td>null</td><td>League</td><td>SUNRISERS HYDERABAD vs PUNJAB KINGS, 37th Match</td></tr><tr><td>null</td><td>League</td><td>CHENNAI SUPER KINGS vs KOLKATA KNIGHT RIDERS, 38th Match</td></tr><tr><td>null</td><td>League</td><td>ROYAL CHALLENGERS BENGALURU vs MUMBAI INDIANS, 39th Match</td></tr><tr><td>null</td><td>League</td><td>SUNRISERS HYDERABAD vs RAJASTHAN ROYALS, 40th Match</td></tr><tr><td>null</td><td>League</td><td>KOLKATA KNIGHT RIDERS vs DELHI CAPITALS, 41st Match</td></tr><tr><td>null</td><td>League</td><td>MUMBAI INDIANS vs PUNJAB KINGS, 42nd Match</td></tr><tr><td>null</td><td>League</td><td>RAJASTHAN ROYALS vs ROYAL CHALLENGERS BENGALURU, 43rd Match</td></tr><tr><td>null</td><td>League</td><td>SUNRISERS HYDERABAD vs CHENNAI SUPER KINGS, 44th Match</td></tr><tr><td>null</td><td>League</td><td>KOLKATA KNIGHT RIDERS vs PUNJAB KINGS, 45th Match</td></tr><tr><td>null</td><td>League</td><td>MUMBAI INDIANS vs DELHI CAPITALS, 46th Match</td></tr><tr><td>null</td><td>League</td><td>RAJASTHAN ROYALS vs CHENNAI SUPER KINGS, 47th Match</td></tr><tr><td>null</td><td>League</td><td>ROYAL CHALLENGERS BENGALURU vs PUNJAB KINGS, 48th Match</td></tr><tr><td>null</td><td>League</td><td>KOLKATA KNIGHT RIDERS vs SUNRISERS HYDERABAD, 49th Match</td></tr><tr><td>null</td><td>League</td><td>DELHI CAPITALS vs CHENNAI SUPER KINGS, 50th Match</td></tr><tr><td>null</td><td>League</td><td>RAJASTHAN ROYALS vs MUMBAI INDIANS, 51st Match</td></tr><tr><td>null</td><td>League</td><td>ROYAL CHALLENGERS BENGALURU vs SUNRISERS HYDERABAD, 52nd Match</td></tr><tr><td>null</td><td>League</td><td>CHENNAI SUPER KINGS vs PUNJAB KINGS, 53rd Match</td></tr><tr><td>null</td><td>League</td><td>KOLKATA KNIGHT RIDERS vs RAJASTHAN ROYALS, 54th Match</td></tr><tr><td>null</td><td>League</td><td>SUNRISERS HYDERABAD vs MUMBAI INDIANS, 55th Match</td></tr><tr><td>null</td><td>League</td><td>ROYAL CHALLENGERS BENGALURU vs DELHI CAPITALS, 56th Match</td></tr><tr><td>null</td><td>League</td><td>DELHI CAPITALS vs CHENNAI SUPER KINGS, Qualifier 1</td></tr><tr><td>null</td><td>League</td><td>ROYAL CHALLENGERS BENGALURU vs KOLKATA KNIGHT RIDERS, Eliminator</td></tr><tr><td>null</td><td>League</td><td>DELHI CAPITALS vs KOLKATA KNIGHT RIDERS, Qualifier 2</td></tr><tr><td>null</td><td>League</td><td>CHENNAI SUPER KINGS vs KOLKATA KNIGHT RIDERS, Final</td></tr></tbody></table></div>"
      ]
     },
     "metadata": {
      "application/vnd.databricks.v1+output": {
       "addedWidgets": {},
       "aggData": [],
       "aggError": "",
       "aggOverflow": false,
       "aggSchema": [],
       "aggSeriesLimitReached": false,
       "aggType": "",
       "arguments": {},
       "columnCustomDisplayInfos": {},
       "data": [
        [
         null,
         "League",
         "MUMBAI INDIANS vs ROYAL CHALLENGERS BENGALURU, 1st Match"
        ],
        [
         null,
         "League",
         "CHENNAI SUPER KINGS vs DELHI CAPITALS, 2nd Match"
        ],
        [
         null,
         "League",
         "SUNRISERS HYDERABAD vs KOLKATA KNIGHT RIDERS, 3rd Match"
        ],
        [
         null,
         "League",
         "RAJASTHAN ROYALS vs PUNJAB KINGS, 4th Match"
        ],
        [
         null,
         "League",
         "KOLKATA KNIGHT RIDERS vs MUMBAI INDIANS, 5th Match"
        ],
        [
         null,
         "League",
         "SUNRISERS HYDERABAD vs ROYAL CHALLENGERS BENGALURU, 6th Match"
        ],
        [
         null,
         "League",
         "RAJASTHAN ROYALS vs DELHI CAPITALS, 7th Match"
        ],
        [
         null,
         "League",
         "PUNJAB KINGS vs CHENNAI SUPER KINGS, 8th Match"
        ],
        [
         null,
         "League",
         "MUMBAI INDIANS vs SUNRISERS HYDERABAD, 9th Match"
        ],
        [
         null,
         "League",
         "ROYAL CHALLENGERS BENGALURU vs KOLKATA KNIGHT RIDERS, 10th Match"
        ],
        [
         null,
         "League",
         "DELHI CAPITALS vs PUNJAB KINGS, 11th Match"
        ],
        [
         null,
         "League",
         "CHENNAI SUPER KINGS vs RAJASTHAN ROYALS, 12th Match"
        ],
        [
         null,
         "League",
         "DELHI CAPITALS vs MUMBAI INDIANS, 13th Match"
        ],
        [
         null,
         "League",
         "PUNJAB KINGS vs SUNRISERS HYDERABAD, 14th Match"
        ],
        [
         null,
         "League",
         "KOLKATA KNIGHT RIDERS vs CHENNAI SUPER KINGS, 15th Match"
        ],
        [
         null,
         "League",
         "ROYAL CHALLENGERS BENGALURU vs RAJASTHAN ROYALS, 16th Match"
        ],
        [
         null,
         "League",
         "PUNJAB KINGS vs MUMBAI INDIANS, 17th Match"
        ],
        [
         null,
         "League",
         "RAJASTHAN ROYALS vs KOLKATA KNIGHT RIDERS, 18th Match"
        ],
        [
         null,
         "League",
         "CHENNAI SUPER KINGS vs ROYAL CHALLENGERS BENGALURU, 19th Match"
        ],
        [
         null,
         "League",
         "SUNRISERS HYDERABAD vs DELHI CAPITALS, 20th Match"
        ],
        [
         null,
         "League",
         "PUNJAB KINGS vs KOLKATA KNIGHT RIDERS, 21st Match"
        ],
        [
         null,
         "League",
         "DELHI CAPITALS vs ROYAL CHALLENGERS BENGALURU, 22nd Match"
        ],
        [
         null,
         "League",
         "CHENNAI SUPER KINGS vs SUNRISERS HYDERABAD, 23rd Match"
        ],
        [
         null,
         "League",
         "MUMBAI INDIANS vs RAJASTHAN ROYALS, 24th Match"
        ],
        [
         null,
         "League",
         "DELHI CAPITALS vs KOLKATA KNIGHT RIDERS, 25th Match"
        ],
        [
         null,
         "League",
         "PUNJAB KINGS vs ROYAL CHALLENGERS BENGALURU, 26th Match"
        ],
        [
         null,
         "League",
         "MUMBAI INDIANS vs CHENNAI SUPER KINGS, 27th Match"
        ],
        [
         null,
         "League",
         "RAJASTHAN ROYALS vs SUNRISERS HYDERABAD, 28th Match"
        ],
        [
         null,
         "League",
         "PUNJAB KINGS vs DELHI CAPITALS, 29th Match"
        ],
        [
         null,
         "League",
         "KOLKATA KNIGHT RIDERS vs ROYAL CHALLENGERS BENGALURU, 30th Match"
        ],
        [
         null,
         "League",
         "SUNRISERS HYDERABAD vs MUMBAI INDIANS, 31st Match"
        ],
        [
         null,
         "League",
         "CHENNAI SUPER KINGS vs MUMBAI INDIANS, 30th Match"
        ],
        [
         null,
         "League",
         "KOLKATA KNIGHT RIDERS vs ROYAL CHALLENGERS BENGALURU, 31st Match"
        ],
        [
         null,
         "League",
         "PUNJAB KINGS vs RAJASTHAN ROYALS, 32nd Match"
        ],
        [
         null,
         "League",
         "DELHI CAPITALS vs SUNRISERS HYDERABAD, 33rd Match"
        ],
        [
         null,
         "League",
         "MUMBAI INDIANS vs KOLKATA KNIGHT RIDERS, 34th Match"
        ],
        [
         null,
         "League",
         "ROYAL CHALLENGERS BENGALURU vs CHENNAI SUPER KINGS, 35th Match"
        ],
        [
         null,
         "League",
         "DELHI CAPITALS vs RAJASTHAN ROYALS, 36th Match"
        ],
        [
         null,
         "League",
         "SUNRISERS HYDERABAD vs PUNJAB KINGS, 37th Match"
        ],
        [
         null,
         "League",
         "CHENNAI SUPER KINGS vs KOLKATA KNIGHT RIDERS, 38th Match"
        ],
        [
         null,
         "League",
         "ROYAL CHALLENGERS BENGALURU vs MUMBAI INDIANS, 39th Match"
        ],
        [
         null,
         "League",
         "SUNRISERS HYDERABAD vs RAJASTHAN ROYALS, 40th Match"
        ],
        [
         null,
         "League",
         "KOLKATA KNIGHT RIDERS vs DELHI CAPITALS, 41st Match"
        ],
        [
         null,
         "League",
         "MUMBAI INDIANS vs PUNJAB KINGS, 42nd Match"
        ],
        [
         null,
         "League",
         "RAJASTHAN ROYALS vs ROYAL CHALLENGERS BENGALURU, 43rd Match"
        ],
        [
         null,
         "League",
         "SUNRISERS HYDERABAD vs CHENNAI SUPER KINGS, 44th Match"
        ],
        [
         null,
         "League",
         "KOLKATA KNIGHT RIDERS vs PUNJAB KINGS, 45th Match"
        ],
        [
         null,
         "League",
         "MUMBAI INDIANS vs DELHI CAPITALS, 46th Match"
        ],
        [
         null,
         "League",
         "RAJASTHAN ROYALS vs CHENNAI SUPER KINGS, 47th Match"
        ],
        [
         null,
         "League",
         "ROYAL CHALLENGERS BENGALURU vs PUNJAB KINGS, 48th Match"
        ],
        [
         null,
         "League",
         "KOLKATA KNIGHT RIDERS vs SUNRISERS HYDERABAD, 49th Match"
        ],
        [
         null,
         "League",
         "DELHI CAPITALS vs CHENNAI SUPER KINGS, 50th Match"
        ],
        [
         null,
         "League",
         "RAJASTHAN ROYALS vs MUMBAI INDIANS, 51st Match"
        ],
        [
         null,
         "League",
         "ROYAL CHALLENGERS BENGALURU vs SUNRISERS HYDERABAD, 52nd Match"
        ],
        [
         null,
         "League",
         "CHENNAI SUPER KINGS vs PUNJAB KINGS, 53rd Match"
        ],
        [
         null,
         "League",
         "KOLKATA KNIGHT RIDERS vs RAJASTHAN ROYALS, 54th Match"
        ],
        [
         null,
         "League",
         "SUNRISERS HYDERABAD vs MUMBAI INDIANS, 55th Match"
        ],
        [
         null,
         "League",
         "ROYAL CHALLENGERS BENGALURU vs DELHI CAPITALS, 56th Match"
        ],
        [
         null,
         "League",
         "DELHI CAPITALS vs CHENNAI SUPER KINGS, Qualifier 1"
        ],
        [
         null,
         "League",
         "ROYAL CHALLENGERS BENGALURU vs KOLKATA KNIGHT RIDERS, Eliminator"
        ],
        [
         null,
         "League",
         "DELHI CAPITALS vs KOLKATA KNIGHT RIDERS, Qualifier 2"
        ],
        [
         null,
         "League",
         "CHENNAI SUPER KINGS vs KOLKATA KNIGHT RIDERS, Final"
        ]
       ],
       "datasetInfos": [],
       "dbfsResultPath": null,
       "isJsonSchema": true,
       "metadata": {},
       "overflow": false,
       "plotOptions": {
        "customPlotOptions": {},
        "displayType": "table",
        "pivotAggregation": null,
        "pivotColumns": null,
        "xColumns": null,
        "yColumns": null
       },
       "removedWidgets": [],
       "schema": [
        {
         "metadata": "{}",
         "name": "match_no",
         "type": "\"string\""
        },
        {
         "metadata": "{}",
         "name": "match_type",
         "type": "\"string\""
        },
        {
         "metadata": "{}",
         "name": "match_name",
         "type": "\"string\""
        }
       ],
       "type": "table"
      }
     },
     "output_type": "display_data"
    }
   ],
   "source": [
    "display(selected_df)\n"
   ]
  }
 ],
 "metadata": {
  "application/vnd.databricks.v1+notebook": {
   "computePreferences": null,
   "dashboards": [],
   "environmentMetadata": {
    "base_environment": "",
    "environment_version": "1"
   },
   "inputWidgetPreferences": null,
   "language": "python",
   "notebookMetadata": {
    "pythonIndentUnit": 4
   },
   "notebookName": "L16 TASK 3",
   "widgets": {}
  }
 },
 "nbformat": 4,
 "nbformat_minor": 0
}