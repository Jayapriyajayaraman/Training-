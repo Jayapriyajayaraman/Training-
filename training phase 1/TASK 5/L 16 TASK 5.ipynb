{
 "cells": [
  {
   "cell_type": "code",
   "execution_count": 0,
   "metadata": {
    "application/vnd.databricks.v1+cell": {
     "cellMetadata": {
      "byteLimit": 2048000,
      "rowLimit": 10000
     },
     "inputWidgets": {},
     "nuid": "76f37258-c75a-4485-9f54-6bf77c00b32d",
     "showTitle": false,
     "tableResultSettingsMap": {},
     "title": ""
    }
   },
   "outputs": [],
   "source": [
    "df = spark.read.option(\"header\", True).csv(\"dbfs:/FileStore/tables/ipl_2021_matches.csv\")"
   ]
  },
  {
   "cell_type": "code",
   "execution_count": 0,
   "metadata": {
    "application/vnd.databricks.v1+cell": {
     "cellMetadata": {
      "byteLimit": 2048000,
      "rowLimit": 10000
     },
     "inputWidgets": {},
     "nuid": "4d83925b-3652-4943-aaf4-0d8efe9ec276",
     "showTitle": false,
     "tableResultSettingsMap": {},
     "title": ""
    }
   },
   "outputs": [
    {
     "output_type": "stream",
     "name": "stdout",
     "output_type": "stream",
     "text": [
      "root\n |-- year: string (nullable = true)\n |-- series_type: string (nullable = true)\n |-- series_name: string (nullable = true)\n |-- match_no: string (nullable = true)\n |-- match_type: string (nullable = true)\n |-- match_name: string (nullable = true)\n |-- match_href: string (nullable = true)\n |-- match_team1: string (nullable = true)\n |-- match_team2: string (nullable = true)\n |-- match_datetime_start: string (nullable = true)\n |-- match_date_end: string (nullable = true)\n |-- match_venue: string (nullable = true)\n\n+----+-----------+--------------------------+--------+----------+--------------------------------------------------------+---------------------------------------------------------------------------------------------+-----------+-----------+--------------------+--------------+-----------+\n|year|series_type|series_name               |match_no|match_type|match_name                                              |match_href                                                                                   |match_team1|match_team2|match_datetime_start|match_date_end|match_venue|\n+----+-----------+--------------------------+--------+----------+--------------------------------------------------------+---------------------------------------------------------------------------------------------+-----------+-----------+--------------------+--------------+-----------+\n|2021|T20        |Indian Premier League 2021|null    |League    |MUMBAI INDIANS vs ROYAL CHALLENGERS BENGALURU, 1st Match|https://www.cricbuzz.com/cricket-scores/35612/mi-vs-rcb-1st-match-indian-premier-league-2021 |null       |null       |null                |null          |null       |\n|2021|T20        |Indian Premier League 2021|null    |League    |CHENNAI SUPER KINGS vs DELHI CAPITALS, 2nd Match        |https://www.cricbuzz.com/cricket-scores/35617/csk-vs-dc-2nd-match-indian-premier-league-2021 |null       |null       |null                |null          |null       |\n|2021|T20        |Indian Premier League 2021|null    |League    |SUNRISERS HYDERABAD vs KOLKATA KNIGHT RIDERS, 3rd Match |https://www.cricbuzz.com/cricket-scores/35618/srh-vs-kkr-3rd-match-indian-premier-league-2021|null       |null       |null                |null          |null       |\n|2021|T20        |Indian Premier League 2021|null    |League    |RAJASTHAN ROYALS vs PUNJAB KINGS, 4th Match             |https://www.cricbuzz.com/cricket-scores/35622/rr-vs-pbks-4th-match-indian-premier-league-2021|null       |null       |null                |null          |null       |\n|2021|T20        |Indian Premier League 2021|null    |League    |KOLKATA KNIGHT RIDERS vs MUMBAI INDIANS, 5th Match      |https://www.cricbuzz.com/cricket-scores/35627/kkr-vs-mi-5th-match-indian-premier-league-2021 |null       |null       |null                |null          |null       |\n+----+-----------+--------------------------+--------+----------+--------------------------------------------------------+---------------------------------------------------------------------------------------------+-----------+-----------+--------------------+--------------+-----------+\nonly showing top 5 rows\n\n"
     ]
    }
   ],
   "source": [
    "df.printSchema()\n",
    "df.show(5, truncate=False)"
   ]
  },
  {
   "cell_type": "code",
   "execution_count": 0,
   "metadata": {
    "application/vnd.databricks.v1+cell": {
     "cellMetadata": {
      "byteLimit": 2048000,
      "rowLimit": 10000
     },
     "inputWidgets": {},
     "nuid": "ba6f2fe9-ce47-4946-99a4-e22cbeb4c329",
     "showTitle": false,
     "tableResultSettingsMap": {},
     "title": ""
    }
   },
   "outputs": [
    {
     "output_type": "stream",
     "name": "stdout",
     "output_type": "stream",
     "text": [
      "Out[4]: ['year',\n 'series_type',\n 'series_name',\n 'match_no',\n 'match_type',\n 'match_name',\n 'match_href',\n 'match_team1',\n 'match_team2',\n 'match_datetime_start',\n 'match_date_end',\n 'match_venue']"
     ]
    }
   ],
   "source": [
    "# Display the column names of the DataFrame\n",
    "df.columns\n"
   ]
  },
  {
   "cell_type": "code",
   "execution_count": 0,
   "metadata": {
    "application/vnd.databricks.v1+cell": {
     "cellMetadata": {
      "byteLimit": 2048000,
      "rowLimit": 10000
     },
     "inputWidgets": {},
     "nuid": "89a90088-c002-4659-9384-8cd1876612b2",
     "showTitle": false,
     "tableResultSettingsMap": {},
     "title": ""
    }
   },
   "outputs": [
    {
     "output_type": "stream",
     "name": "stdout",
     "output_type": "stream",
     "text": [
      "+----------+\n|match_type|\n+----------+\n|League    |\n+----------+\n\n"
     ]
    }
   ],
   "source": [
    "df.select(\"match_type\").distinct().show(truncate=False)\n"
   ]
  },
  {
   "cell_type": "code",
   "execution_count": 0,
   "metadata": {
    "application/vnd.databricks.v1+cell": {
     "cellMetadata": {
      "byteLimit": 2048000,
      "rowLimit": 10000
     },
     "inputWidgets": {},
     "nuid": "670f7333-2b1f-41aa-8b38-4510a7630736",
     "showTitle": false,
     "tableResultSettingsMap": {},
     "title": ""
    }
   },
   "outputs": [
    {
     "output_type": "stream",
     "name": "stdout",
     "output_type": "stream",
     "text": [
      "+----------------------------------------------------------------+\n|match_name                                                      |\n+----------------------------------------------------------------+\n|DELHI CAPITALS vs SUNRISERS HYDERABAD, 33rd Match               |\n|ROYAL CHALLENGERS BENGALURU vs CHENNAI SUPER KINGS, 35th Match  |\n|SUNRISERS HYDERABAD vs MUMBAI INDIANS, 31st Match               |\n|SUNRISERS HYDERABAD vs DELHI CAPITALS, 20th Match               |\n|PUNJAB KINGS vs SUNRISERS HYDERABAD, 14th Match                 |\n|MUMBAI INDIANS vs PUNJAB KINGS, 42nd Match                      |\n|PUNJAB KINGS vs DELHI CAPITALS, 29th Match                      |\n|DELHI CAPITALS vs MUMBAI INDIANS, 13th Match                    |\n|DELHI CAPITALS vs ROYAL CHALLENGERS BENGALURU, 22nd Match       |\n|SUNRISERS HYDERABAD vs ROYAL CHALLENGERS BENGALURU, 6th Match   |\n|PUNJAB KINGS vs ROYAL CHALLENGERS BENGALURU, 26th Match         |\n|SUNRISERS HYDERABAD vs KOLKATA KNIGHT RIDERS, 3rd Match         |\n|DELHI CAPITALS vs PUNJAB KINGS, 11th Match                      |\n|RAJASTHAN ROYALS vs CHENNAI SUPER KINGS, 47th Match             |\n|MUMBAI INDIANS vs CHENNAI SUPER KINGS, 27th Match               |\n|RAJASTHAN ROYALS vs ROYAL CHALLENGERS BENGALURU, 43rd Match     |\n|SUNRISERS HYDERABAD vs CHENNAI SUPER KINGS, 44th Match          |\n|CHENNAI SUPER KINGS vs KOLKATA KNIGHT RIDERS, 38th Match        |\n|KOLKATA KNIGHT RIDERS vs ROYAL CHALLENGERS BENGALURU, 31st Match|\n|MUMBAI INDIANS vs ROYAL CHALLENGERS BENGALURU, 1st Match        |\n|MUMBAI INDIANS vs SUNRISERS HYDERABAD, 9th Match                |\n|ROYAL CHALLENGERS BENGALURU vs RAJASTHAN ROYALS, 16th Match     |\n|SUNRISERS HYDERABAD vs PUNJAB KINGS, 37th Match                 |\n|ROYAL CHALLENGERS BENGALURU vs KOLKATA KNIGHT RIDERS, 10th Match|\n|SUNRISERS HYDERABAD vs RAJASTHAN ROYALS, 40th Match             |\n|CHENNAI SUPER KINGS vs DELHI CAPITALS, 2nd Match                |\n|PUNJAB KINGS vs RAJASTHAN ROYALS, 32nd Match                    |\n|KOLKATA KNIGHT RIDERS vs DELHI CAPITALS, 41st Match             |\n|KOLKATA KNIGHT RIDERS vs CHENNAI SUPER KINGS, 15th Match        |\n|CHENNAI SUPER KINGS vs RAJASTHAN ROYALS, 12th Match             |\n|MUMBAI INDIANS vs RAJASTHAN ROYALS, 24th Match                  |\n|PUNJAB KINGS vs MUMBAI INDIANS, 17th Match                      |\n|PUNJAB KINGS vs CHENNAI SUPER KINGS, 8th Match                  |\n|KOLKATA KNIGHT RIDERS vs MUMBAI INDIANS, 5th Match              |\n|ROYAL CHALLENGERS BENGALURU vs MUMBAI INDIANS, 39th Match       |\n|DELHI CAPITALS vs RAJASTHAN ROYALS, 36th Match                  |\n|RAJASTHAN ROYALS vs DELHI CAPITALS, 7th Match                   |\n|MUMBAI INDIANS vs DELHI CAPITALS, 46th Match                    |\n|KOLKATA KNIGHT RIDERS vs SUNRISERS HYDERABAD, 49th Match        |\n|KOLKATA KNIGHT RIDERS vs ROYAL CHALLENGERS BENGALURU, 30th Match|\n|CHENNAI SUPER KINGS vs ROYAL CHALLENGERS BENGALURU, 19th Match  |\n|KOLKATA KNIGHT RIDERS vs PUNJAB KINGS, 45th Match               |\n|RAJASTHAN ROYALS vs KOLKATA KNIGHT RIDERS, 18th Match           |\n|ROYAL CHALLENGERS BENGALURU vs PUNJAB KINGS, 48th Match         |\n|RAJASTHAN ROYALS vs SUNRISERS HYDERABAD, 28th Match             |\n|DELHI CAPITALS vs KOLKATA KNIGHT RIDERS, 25th Match             |\n|CHENNAI SUPER KINGS vs SUNRISERS HYDERABAD, 23rd Match          |\n|CHENNAI SUPER KINGS vs MUMBAI INDIANS, 30th Match               |\n|MUMBAI INDIANS vs KOLKATA KNIGHT RIDERS, 34th Match             |\n|PUNJAB KINGS vs KOLKATA KNIGHT RIDERS, 21st Match               |\n+----------------------------------------------------------------+\nonly showing top 50 rows\n\n"
     ]
    }
   ],
   "source": [
    "df.select(\"match_name\").distinct().show(50, truncate=False)"
   ]
  },
  {
   "cell_type": "code",
   "execution_count": 0,
   "metadata": {
    "application/vnd.databricks.v1+cell": {
     "cellMetadata": {
      "byteLimit": 2048000,
      "rowLimit": 10000
     },
     "inputWidgets": {},
     "nuid": "47f13655-81c8-435d-943c-0b7d62a0603c",
     "showTitle": false,
     "tableResultSettingsMap": {},
     "title": ""
    }
   },
   "outputs": [],
   "source": [
    "tie_breakers = df.select(\"match_type\", \"match_name\") \\\n",
    "                 .where(\"match_name LIKE '%Super Over%' OR match_type LIKE '%Qualifier%'\") \\\n",
    "                 .distinct()"
   ]
  },
  {
   "cell_type": "code",
   "execution_count": 0,
   "metadata": {
    "application/vnd.databricks.v1+cell": {
     "cellMetadata": {
      "byteLimit": 2048000,
      "rowLimit": 10000
     },
     "inputWidgets": {},
     "nuid": "95a9027a-297b-45eb-bae9-c01e0425f5b6",
     "showTitle": false,
     "tableResultSettingsMap": {},
     "title": ""
    }
   },
   "outputs": [
    {
     "output_type": "stream",
     "name": "stdout",
     "output_type": "stream",
     "text": [
      "+----------+----------+\n|match_type|match_name|\n+----------+----------+\n+----------+----------+\n\n"
     ]
    }
   ],
   "source": [
    "tie_breakers.show(truncate=False)"
   ]
  },
  {
   "cell_type": "code",
   "execution_count": 0,
   "metadata": {
    "application/vnd.databricks.v1+cell": {
     "cellMetadata": {
      "byteLimit": 2048000,
      "rowLimit": 10000
     },
     "inputWidgets": {},
     "nuid": "aa9516c8-8cfb-45ee-a4ac-e0bfe79f2999",
     "showTitle": false,
     "tableResultSettingsMap": {},
     "title": ""
    }
   },
   "outputs": [],
   "source": [
    "df.write.format(\"delta\").mode(\"overwrite\").save(\"/mnt/delta/ipl_2021_matches\")\n"
   ]
  },
  {
   "cell_type": "code",
   "execution_count": 0,
   "metadata": {
    "application/vnd.databricks.v1+cell": {
     "cellMetadata": {
      "byteLimit": 2048000,
      "rowLimit": 10000
     },
     "inputWidgets": {},
     "nuid": "997f74ca-9570-43df-befd-d940a1e38e56",
     "showTitle": false,
     "tableResultSettingsMap": {},
     "title": ""
    }
   },
   "outputs": [
    {
     "output_type": "stream",
     "name": "stdout",
     "output_type": "stream",
     "text": [
      "Out[16]: DataFrame[]"
     ]
    }
   ],
   "source": [
    "spark.sql(\"CREATE TABLE IF NOT EXISTS ipl_2021_matches USING DELTA LOCATION '/mnt/delta/ipl_2021_matches'\")"
   ]
  },
  {
   "cell_type": "code",
   "execution_count": 0,
   "metadata": {
    "application/vnd.databricks.v1+cell": {
     "cellMetadata": {
      "byteLimit": 2048000,
      "rowLimit": 10000
     },
     "inputWidgets": {},
     "nuid": "d8bcac56-9185-49c3-a6bd-bee1dd1dcc66",
     "showTitle": false,
     "tableResultSettingsMap": {},
     "title": ""
    }
   },
   "outputs": [],
   "source": [
    "delta_df = spark.read.format(\"delta\").load(\"/mnt/delta/ipl_2021_matches\")"
   ]
  },
  {
   "cell_type": "code",
   "execution_count": 0,
   "metadata": {
    "application/vnd.databricks.v1+cell": {
     "cellMetadata": {
      "byteLimit": 2048000,
      "rowLimit": 10000
     },
     "inputWidgets": {},
     "nuid": "40ad3463-84b3-43d3-9059-67f232036e7c",
     "showTitle": false,
     "tableResultSettingsMap": {},
     "title": ""
    }
   },
   "outputs": [
    {
     "output_type": "stream",
     "name": "stdout",
     "output_type": "stream",
     "text": [
      "+----+-----------+--------------------+--------+----------+--------------------+--------------------+-----------+-----------+--------------------+--------------+-----------+\n|year|series_type|         series_name|match_no|match_type|          match_name|          match_href|match_team1|match_team2|match_datetime_start|match_date_end|match_venue|\n+----+-----------+--------------------+--------+----------+--------------------+--------------------+-----------+-----------+--------------------+--------------+-----------+\n|2021|        T20|Indian Premier Le...|    null|    League|MUMBAI INDIANS vs...|https://www.cricb...|       null|       null|                null|          null|       null|\n|2021|        T20|Indian Premier Le...|    null|    League|CHENNAI SUPER KIN...|https://www.cricb...|       null|       null|                null|          null|       null|\n|2021|        T20|Indian Premier Le...|    null|    League|SUNRISERS HYDERAB...|https://www.cricb...|       null|       null|                null|          null|       null|\n|2021|        T20|Indian Premier Le...|    null|    League|RAJASTHAN ROYALS ...|https://www.cricb...|       null|       null|                null|          null|       null|\n|2021|        T20|Indian Premier Le...|    null|    League|KOLKATA KNIGHT RI...|https://www.cricb...|       null|       null|                null|          null|       null|\n|2021|        T20|Indian Premier Le...|    null|    League|SUNRISERS HYDERAB...|https://www.cricb...|       null|       null|                null|          null|       null|\n|2021|        T20|Indian Premier Le...|    null|    League|RAJASTHAN ROYALS ...|https://www.cricb...|       null|       null|                null|          null|       null|\n|2021|        T20|Indian Premier Le...|    null|    League|PUNJAB KINGS vs C...|https://www.cricb...|       null|       null|                null|          null|       null|\n|2021|        T20|Indian Premier Le...|    null|    League|MUMBAI INDIANS vs...|https://www.cricb...|       null|       null|                null|          null|       null|\n|2021|        T20|Indian Premier Le...|    null|    League|ROYAL CHALLENGERS...|https://www.cricb...|       null|       null|                null|          null|       null|\n|2021|        T20|Indian Premier Le...|    null|    League|DELHI CAPITALS vs...|https://www.cricb...|       null|       null|                null|          null|       null|\n|2021|        T20|Indian Premier Le...|    null|    League|CHENNAI SUPER KIN...|https://www.cricb...|       null|       null|                null|          null|       null|\n|2021|        T20|Indian Premier Le...|    null|    League|DELHI CAPITALS vs...|https://www.cricb...|       null|       null|                null|          null|       null|\n|2021|        T20|Indian Premier Le...|    null|    League|PUNJAB KINGS vs S...|https://www.cricb...|       null|       null|                null|          null|       null|\n|2021|        T20|Indian Premier Le...|    null|    League|KOLKATA KNIGHT RI...|https://www.cricb...|       null|       null|                null|          null|       null|\n|2021|        T20|Indian Premier Le...|    null|    League|ROYAL CHALLENGERS...|https://www.cricb...|       null|       null|                null|          null|       null|\n|2021|        T20|Indian Premier Le...|    null|    League|PUNJAB KINGS vs M...|https://www.cricb...|       null|       null|                null|          null|       null|\n|2021|        T20|Indian Premier Le...|    null|    League|RAJASTHAN ROYALS ...|https://www.cricb...|       null|       null|                null|          null|       null|\n|2021|        T20|Indian Premier Le...|    null|    League|CHENNAI SUPER KIN...|https://www.cricb...|       null|       null|                null|          null|       null|\n|2021|        T20|Indian Premier Le...|    null|    League|SUNRISERS HYDERAB...|https://www.cricb...|       null|       null|                null|          null|       null|\n+----+-----------+--------------------+--------+----------+--------------------+--------------------+-----------+-----------+--------------------+--------------+-----------+\nonly showing top 20 rows\n\n"
     ]
    }
   ],
   "source": [
    "delta_df.show()"
   ]
  }
 ],
 "metadata": {
  "application/vnd.databricks.v1+notebook": {
   "computePreferences": null,
   "dashboards": [],
   "environmentMetadata": {
    "base_environment": "",
    "environment_version": "1"
   },
   "inputWidgetPreferences": null,
   "language": "python",
   "notebookMetadata": {
    "pythonIndentUnit": 4
   },
   "notebookName": "L 16 TASK 5",
   "widgets": {}
  }
 },
 "nbformat": 4,
 "nbformat_minor": 0
}