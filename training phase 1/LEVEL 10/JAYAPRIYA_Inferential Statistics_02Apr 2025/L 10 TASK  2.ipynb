{
 "cells": [
  {
   "cell_type": "code",
   "execution_count": 20,
   "id": "df4b26d3-ae7f-4b58-8a2a-a208804795b8",
   "metadata": {},
   "outputs": [],
   "source": [
    "import pandas as pd\n",
    "import numpy as np\n",
    "from scipy.stats import chi2_contingency, ttest_ind\n",
    "from statsmodels.stats.weightstats import ztest"
   ]
  },
  {
   "cell_type": "code",
   "execution_count": 11,
   "id": "5edbcba2-19ca-4036-bef5-2f487e8ce84a",
   "metadata": {},
   "outputs": [],
   "source": [
    "df = pd.read_csv(\"titanic_dataset.csv\")"
   ]
  },
  {
   "cell_type": "code",
   "execution_count": 12,
   "id": "660019dc-20f4-4ea7-b689-9db83ece882c",
   "metadata": {},
   "outputs": [],
   "source": [
    "df['Fare'] = df['Fare'].fillna(df['Fare'].median())\n",
    "df['Age'] = df['Age'].fillna(df['Age'].median())"
   ]
  },
  {
   "cell_type": "code",
   "execution_count": 13,
   "id": "3c3fe113-9cd1-4e36-881f-1412c757873b",
   "metadata": {},
   "outputs": [],
   "source": [
    "df['Sex'] = df['Sex'].map({'male': 0, 'female': 1})\n"
   ]
  },
  {
   "cell_type": "code",
   "execution_count": 14,
   "id": "fe4ed035-fa66-4f66-9454-1d9619af807f",
   "metadata": {},
   "outputs": [],
   "source": [
    "contingency_table = pd.crosstab(df['Sex'], df['Survived'])\n",
    "chi2_stat, p_value, dof, expected = chi2_contingency(contingency_table)"
   ]
  },
  {
   "cell_type": "code",
   "execution_count": 15,
   "id": "070dc927-87c9-4b15-ae78-62a12c044f75",
   "metadata": {},
   "outputs": [
    {
     "name": "stdout",
     "output_type": "stream",
     "text": [
      "Chi-square Statistic: 413.6897, P-value: 0.0000\n"
     ]
    }
   ],
   "source": [
    "print(f\"Chi-square Statistic: {chi2_stat:.4f}, P-value: {p_value:.4f}\")"
   ]
  },
  {
   "cell_type": "code",
   "execution_count": 16,
   "id": "19b25052-13b4-451b-92ea-8e940ef5fd9f",
   "metadata": {},
   "outputs": [
    {
     "name": "stdout",
     "output_type": "stream",
     "text": [
      "Reject Null Hypothesis: Female survival rate is significantly higher than males.\n"
     ]
    }
   ],
   "source": [
    "if p_value < 0.05:\n",
    "    print(\"Reject Null Hypothesis: Female survival rate is significantly higher than males.\")\n",
    "else:\n",
    "    print(\"Fail to Reject Null Hypothesis: No significant difference in survival rates.\")\n"
   ]
  },
  {
   "cell_type": "code",
   "execution_count": 17,
   "id": "536837a4-b3c9-4f8c-bcdd-8f2e5e5f9770",
   "metadata": {},
   "outputs": [],
   "source": [
    "fare_survived = df[df['Survived'] == 1]['Fare']\n",
    "fare_not_survived = df[df['Survived'] == 0]['Fare']\n",
    "\n",
    "t_stat, p_value = ttest_ind(fare_survived, fare_not_survived, equal_var=False)"
   ]
  },
  {
   "cell_type": "code",
   "execution_count": 18,
   "id": "d4a8dc27-343e-4000-8b57-8ce2126e6e2d",
   "metadata": {},
   "outputs": [
    {
     "name": "stdout",
     "output_type": "stream",
     "text": [
      "\n",
      "T-test Statistic: 3.4574, P-value: 0.0007\n"
     ]
    }
   ],
   "source": [
    "print(f\"\\nT-test Statistic: {t_stat:.4f}, P-value: {p_value:.4f}\")"
   ]
  },
  {
   "cell_type": "code",
   "execution_count": 19,
   "id": "2f152fd7-4f07-4490-ab3b-0e7a0a456498",
   "metadata": {},
   "outputs": [
    {
     "name": "stdout",
     "output_type": "stream",
     "text": [
      "Reject Null Hypothesis: Survivors paid significantly higher fares than non-survivors.\n"
     ]
    }
   ],
   "source": [
    "if p_value < 0.05:\n",
    "    print(\"Reject Null Hypothesis: Survivors paid significantly higher fares than non-survivors.\")\n",
    "else:\n",
    "    print(\"Fail to Reject Null Hypothesis: No significant difference in fares between survivors and non-survivors.\")\n"
   ]
  },
  {
   "cell_type": "code",
   "execution_count": null,
   "id": "ceca5556-8276-421b-96e6-96b35377925d",
   "metadata": {},
   "outputs": [],
   "source": []
  }
 ],
 "metadata": {
  "kernelspec": {
   "display_name": "Python 3 (ipykernel)",
   "language": "python",
   "name": "python3"
  },
  "language_info": {
   "codemirror_mode": {
    "name": "ipython",
    "version": 3
   },
   "file_extension": ".py",
   "mimetype": "text/x-python",
   "name": "python",
   "nbconvert_exporter": "python",
   "pygments_lexer": "ipython3",
   "version": "3.12.7"
  }
 },
 "nbformat": 4,
 "nbformat_minor": 5
}
