{
 "cells": [
  {
   "cell_type": "code",
   "execution_count": 1,
   "id": "27d6ef42-7314-4861-a6d8-590f2ce9e14e",
   "metadata": {},
   "outputs": [],
   "source": [
    "def multiply(a, b):\n",
    "    return a * b"
   ]
  },
  {
   "cell_type": "code",
   "execution_count": 2,
   "id": "4e52d58c-b9c5-41fc-b444-6283bbeb073c",
   "metadata": {},
   "outputs": [],
   "source": [
    "multiply_lambda = lambda a, b: a * b"
   ]
  },
  {
   "cell_type": "code",
   "execution_count": 3,
   "id": "9e1b151c-538f-41da-a71e-4727959453f6",
   "metadata": {},
   "outputs": [],
   "source": [
    "arr = [1, 2, 3, 4, 5, 6]\n",
    "num = 3  \n",
    "multiplied_arr = list(map(lambda x: x * num, arr))"
   ]
  },
  {
   "cell_type": "code",
   "execution_count": 4,
   "id": "8ee4c49f-a14c-45a9-ba30-cf07a465c10b",
   "metadata": {},
   "outputs": [],
   "source": [
    "filtered_even = list(filter(lambda x: x % 2 == 0, multiplied_arr))"
   ]
  },
  {
   "cell_type": "code",
   "execution_count": 5,
   "id": "9fcb1a78-272a-4066-914f-0fd903dbeaef",
   "metadata": {},
   "outputs": [
    {
     "name": "stdout",
     "output_type": "stream",
     "text": [
      "🔹 Original List: [1, 2, 3, 4, 5, 6]\n",
      "🔹 Multiplied List: [3, 6, 9, 12, 15, 18]\n",
      "🔹 Filtered Even Numbers: [6, 12, 18]\n"
     ]
    }
   ],
   "source": [
    "print(\"🔹 Original List:\", arr)\n",
    "print(\"🔹 Multiplied List:\", multiplied_arr)\n",
    "print(\"🔹 Filtered Even Numbers:\", filtered_even)"
   ]
  },
  {
   "cell_type": "code",
   "execution_count": null,
   "id": "689e06ea-4c0b-49f1-9fca-8786534324a1",
   "metadata": {},
   "outputs": [],
   "source": []
  }
 ],
 "metadata": {
  "kernelspec": {
   "display_name": "Python 3 (ipykernel)",
   "language": "python",
   "name": "python3"
  },
  "language_info": {
   "codemirror_mode": {
    "name": "ipython",
    "version": 3
   },
   "file_extension": ".py",
   "mimetype": "text/x-python",
   "name": "python",
   "nbconvert_exporter": "python",
   "pygments_lexer": "ipython3",
   "version": "3.12.7"
  }
 },
 "nbformat": 4,
 "nbformat_minor": 5
}
