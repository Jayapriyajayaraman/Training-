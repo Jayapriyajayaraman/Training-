{
 "cells": [
  {
   "cell_type": "code",
   "execution_count": 20,
   "id": "e8fcc84b-0096-4481-ab43-912cb98b209b",
   "metadata": {},
   "outputs": [],
   "source": [
    "income={\"salary\":2000,\"freelance\":1000}\n",
    "expenses={\"rent\":1000, \"food\":800,\"enterainment\":200}"
   ]
  },
  {
   "cell_type": "code",
   "execution_count": 27,
   "id": "6efdb23c-855e-4287-be1d-c3575f280255",
   "metadata": {},
   "outputs": [
    {
     "name": "stdout",
     "output_type": "stream",
     "text": [
      "total_income: 3000\n",
      "total_expenses: 2000\n",
      "balance: 1000\n"
     ]
    }
   ],
   "source": [
    "total_income=sum(income.values())\n",
    "total_expenses=sum(expenses.values())\n",
    "balance=total_income-total_expenses\n",
    "print(\"total_income:\",total_income)\n",
    "print(\"total_expenses:\",total_expenses)\n",
    "print(\"balance:\",balance)"
   ]
  },
  {
   "cell_type": "code",
   "execution_count": null,
   "id": "729d044d-25e2-46ab-9590-099982824114",
   "metadata": {},
   "outputs": [],
   "source": []
  }
 ],
 "metadata": {
  "kernelspec": {
   "display_name": "Python 3 (ipykernel)",
   "language": "python",
   "name": "python3"
  },
  "language_info": {
   "codemirror_mode": {
    "name": "ipython",
    "version": 3
   },
   "file_extension": ".py",
   "mimetype": "text/x-python",
   "name": "python",
   "nbconvert_exporter": "python",
   "pygments_lexer": "ipython3",
   "version": "3.12.7"
  }
 },
 "nbformat": 4,
 "nbformat_minor": 5
}
