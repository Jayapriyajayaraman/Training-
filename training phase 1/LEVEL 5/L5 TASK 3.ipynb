{
 "cells": [
  {
   "cell_type": "code",
   "execution_count": 2,
   "id": "6d74286d-0614-475d-aaf4-f72b76bca4c0",
   "metadata": {},
   "outputs": [],
   "source": [
    "import pandas as pd\n",
    "import matplotlib.pyplot as plt"
   ]
  },
  {
   "cell_type": "code",
   "execution_count": 3,
   "id": "0cbed33d-cd4e-4529-8767-2bce97abee59",
   "metadata": {},
   "outputs": [],
   "source": [
    "df = pd.read_csv(\"house_prices.csv\")"
   ]
  },
  {
   "cell_type": "code",
   "execution_count": 4,
   "id": "5c4f76a1-81ce-41fa-ae80-37d897f2ed6a",
   "metadata": {},
   "outputs": [],
   "source": [
    "df.columns = df.columns.str.strip().str.lower()\n",
    "df.rename(columns={\"price (in rupees)\": \"price\", \"carpet area\": \"squarefootage\"}, inplace=True)\n"
   ]
  },
  {
   "cell_type": "code",
   "execution_count": 5,
   "id": "5316fd65-648d-4eaa-8c26-af19d541883e",
   "metadata": {},
   "outputs": [
    {
     "name": "stdout",
     "output_type": "stream",
     "text": [
      "index                  int64\n",
      "title                 object\n",
      "description           object\n",
      "amount(in rupees)     object\n",
      "price                float64\n",
      "location              object\n",
      "squarefootage         object\n",
      "status                object\n",
      "floor                 object\n",
      "transaction           object\n",
      "furnishing            object\n",
      "facing                object\n",
      "overlooking           object\n",
      "society               object\n",
      "bathroom              object\n",
      "balcony               object\n",
      "car parking           object\n",
      "ownership             object\n",
      "super area            object\n",
      "dimensions           float64\n",
      "plot area            float64\n",
      "dtype: object\n"
     ]
    }
   ],
   "source": [
    "print(df.dtypes)"
   ]
  },
  {
   "cell_type": "code",
   "execution_count": 6,
   "id": "5a5f4a99-0869-4a9a-ba76-aefa9f60a611",
   "metadata": {},
   "outputs": [],
   "source": [
    "df[\"price\"] = df[\"price\"].astype(str).str.replace(r\"[^\\d.]\", \"\", regex=True)\n",
    "df[\"squarefootage\"] = df[\"squarefootage\"].astype(str).str.replace(r\"[^\\d.]\", \"\", regex=True)\n"
   ]
  },
  {
   "cell_type": "code",
   "execution_count": 7,
   "id": "b71ddc7c-b2a3-4096-8361-35f5e40f8f56",
   "metadata": {},
   "outputs": [],
   "source": [
    "df[\"price\"] = pd.to_numeric(df[\"price\"], errors=\"coerce\")\n",
    "df[\"squarefootage\"] = pd.to_numeric(df[\"squarefootage\"], errors=\"coerce\")\n"
   ]
  },
  {
   "cell_type": "code",
   "execution_count": 8,
   "id": "b932230e-9420-40b0-802f-c8f7373428c0",
   "metadata": {},
   "outputs": [],
   "source": [
    "df = df.dropna(subset=[\"price\", \"squarefootage\"])"
   ]
  },
  {
   "cell_type": "code",
   "execution_count": 9,
   "id": "3aa3d7b0-0997-452a-91b7-a1ed81de0aca",
   "metadata": {},
   "outputs": [
    {
     "name": "stdout",
     "output_type": "stream",
     "text": [
      "       squarefootage         price\n",
      "count   93631.000000  9.363100e+04\n",
      "mean     1212.795634  8.204824e+03\n",
      "std      3220.372972  3.313686e+04\n",
      "min         1.000000  0.000000e+00\n",
      "25%       776.000000  4.600000e+03\n",
      "50%      1050.000000  6.324000e+03\n",
      "75%      1500.000000  1.050000e+04\n",
      "max    709222.000000  6.700000e+06\n",
      "Number of valid rows: 93631\n"
     ]
    }
   ],
   "source": [
    "print(df[[\"squarefootage\", \"price\"]].describe())\n",
    "print(f\"Number of valid rows: {len(df)}\")\n"
   ]
  },
  {
   "cell_type": "code",
   "execution_count": 10,
   "id": "d07f96a0-ed34-45af-ab12-09e41cfa3ff7",
   "metadata": {},
   "outputs": [
    {
     "data": {
      "image/png": "[encoded data removed]",
      "text/plain": [
       "<Figure size 800x600 with 1 Axes>"
      ]
     },
     "metadata": {},
     "output_type": "display_data"
    }
   ],
   "source": [
    "if len(df) > 0:\n",
    "    plt.figure(figsize=(8, 6))\n",
    "    plt.scatter(df[\"squarefootage\"], df[\"price\"], alpha=0.5, color='blue')\n",
    "    plt.xlabel(\"Square Footage\")\n",
    "    plt.ylabel(\"Price (in rupees)\")\n",
    "    plt.title(\"House Price vs. Square Footage\")\n",
    "    plt.grid(True)\n",
    "    plt.show()\n",
    "else:\n",
    "    print(\" No valid data to plot. Check your dataset!\")\n"
   ]
  }
 ],
 "metadata": {
  "kernelspec": {
   "display_name": "Python 3 (ipykernel)",
   "language": "python",
   "name": "python3"
  },
  "language_info": {
   "codemirror_mode": {
    "name": "ipython",
    "version": 3
   },
   "file_extension": ".py",
   "mimetype": "text/x-python",
   "name": "python",
   "nbconvert_exporter": "python",
   "pygments_lexer": "ipython3",
   "version": "3.12.7"
  }
 },
 "nbformat": 4,
 "nbformat_minor": 5
}
