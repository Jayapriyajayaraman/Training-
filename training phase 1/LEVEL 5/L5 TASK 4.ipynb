{
 "cells": [
  {
   "cell_type": "code",
   "execution_count": 7,
   "id": "fbd4dedf-65f0-4128-bc60-565b01fdab89",
   "metadata": {},
   "outputs": [],
   "source": [
    "logging.basicConfig(filename=\"process.log\", level=logging.INFO, format=\"%(asctime)s - %(levelname)s - %(message)s\")\n"
   ]
  },
  {
   "cell_type": "code",
   "execution_count": 8,
   "id": "8c9e4584-df67-4e96-917c-779838107243",
   "metadata": {},
   "outputs": [],
   "source": [
    "def process_csv(file_name):\n",
    "    \"\"\"Function to read a CSV, calculate mean, and log processing.\"\"\"\n",
    "    try:\n",
    "        logging.info(f\"Started processing {file_name}\")\n",
    "        df = pd.read_csv(file_name)\n",
    "        if 'value' in df.columns:\n",
    "            mean_value = df['value'].mean()\n",
    "            logging.info(f\"Finished processing {file_name}, Mean: {mean_value}\")\n",
    "            print(f\"Mean of {file_name}: {mean_value}\")\n",
    "        else:\n",
    "            logging.error(f\"Column 'value' not found in {file_name}\")\n",
    "    \n",
    "    except FileNotFoundError:\n",
    "        logging.error(f\"File {file_name} not found.\")\n",
    "    except Exception as e:\n",
    "        logging.error(f\"Error processing {file_name}: {str(e)}\")\n",
    "\n",
    " "
   ]
  },
  {
   "cell_type": "code",
   "execution_count": 9,
   "id": "095997ee-fb9d-4bf8-b9c4-5571df2beb5f",
   "metadata": {},
   "outputs": [],
   "source": [
    "files = [\"data1.csv\", \"data2.csv\"]"
   ]
  },
  {
   "cell_type": "code",
   "execution_count": 10,
   "id": "6468bfc1-8cdf-4daf-85ee-fcfc04821201",
   "metadata": {},
   "outputs": [
    {
     "name": "stdout",
     "output_type": "stream",
     "text": [
      "Mean of data1.csv: 49.5\n",
      "Mean of data2.csv: 74.5\n"
     ]
    }
   ],
   "source": [
    "threads = []\n",
    "for file in files:\n",
    "    thread = threading.Thread(target=process_csv, args=(file,))\n",
    "    threads.append(thread)\n",
    "    thread.start()\n"
   ]
  },
  {
   "cell_type": "code",
   "execution_count": 11,
   "id": "5d174ae1-8a47-4594-8e32-0ad9fe91bf66",
   "metadata": {},
   "outputs": [
    {
     "name": "stdout",
     "output_type": "stream",
     "text": [
      "Processing complete! Check process.log for details.\n"
     ]
    }
   ],
   "source": [
    "for thread in threads:\n",
    "    thread.join()\n",
    "\n",
    "print(\"Processing complete! Check process.log for details.\")\n"
   ]
  },
  {
   "cell_type": "code",
   "execution_count": null,
   "id": "dff4faf5-2563-440b-b91a-59586915c0eb",
   "metadata": {},
   "outputs": [],
   "source": []
  }
 ],
 "metadata": {
  "kernelspec": {
   "display_name": "Python 3 (ipykernel)",
   "language": "python",
   "name": "python3"
  },
  "language_info": {
   "codemirror_mode": {
    "name": "ipython",
    "version": 3
   },
   "file_extension": ".py",
   "mimetype": "text/x-python",
   "name": "python",
   "nbconvert_exporter": "python",
   "pygments_lexer": "ipython3",
   "version": "3.12.7"
  }
 },
 "nbformat": 4,
 "nbformat_minor": 5
}
