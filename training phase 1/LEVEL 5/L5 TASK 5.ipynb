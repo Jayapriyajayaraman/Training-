{
 "cells": [
  {
   "cell_type": "code",
   "execution_count": 1,
   "id": "4152bf14-ef00-45f2-8876-3d4a8d8bf9fc",
   "metadata": {},
   "outputs": [],
   "source": [
    "import dataclasses\n",
    "import pandas as pd\n",
    "import matplotlib.pyplot as plt\n"
   ]
  },
  {
   "cell_type": "code",
   "execution_count": 2,
   "id": "34f9b50e-1d9c-49a5-b3a1-baf820843877",
   "metadata": {},
   "outputs": [],
   "source": [
    "@dataclasses.dataclass\n",
    "class DatasetStats:\n",
    "    column: str\n",
    "    mean: float\n",
    "    max: float\n",
    "    min: float\n",
    "\n",
    "    def plot_histogram(self, df):\n",
    "        \"\"\"Plots a histogram of the selected column.\"\"\"\n",
    "        plt.figure(figsize=(8, 5))\n",
    "        df[self.column].hist(bins=20, edgecolor='black')\n",
    "        plt.xlabel(self.column)\n",
    "        plt.ylabel(\"Frequency\")\n",
    "        plt.title(f\"Histogram of {self.column}\")\n",
    "        plt.grid(True)\n",
    "        plt.show()"
   ]
  },
  {
   "cell_type": "code",
   "execution_count": 3,
   "id": "73757047-612a-421a-a8ce-662928b5a7ad",
   "metadata": {},
   "outputs": [],
   "source": [
    "def load_data(filename):\n",
    "    \"\"\"Loads dataset into a Pandas DataFrame and cleans column names.\"\"\"\n",
    "    try:\n",
    "        df = pd.read_csv(filename)\n",
    "        df.columns = df.columns.str.strip()  # Remove extra spaces in column names\n",
    "        df.rename(columns={\"Price (in rupees)\": \"price\"}, inplace=True)  # Standardize column name\n",
    "        print(\"✅ Dataset loaded successfully!\")\n",
    "        print(\"Available Columns:\", df.columns.tolist())\n",
    "        return df\n",
    "    except Exception as e:\n",
    "        print(f\" Error loading dataset: {e}\")\n",
    "        return None\n"
   ]
  },
  {
   "cell_type": "code",
   "execution_count": 4,
   "id": "bebd1a46-3bfe-4452-a655-8fda23c612dc",
   "metadata": {},
   "outputs": [],
   "source": [
    "def compute_stats(df, column):\n",
    "    \"\"\"Computes statistics for a given column and returns a DatasetStats object.\"\"\"\n",
    "    if column not in df.columns:\n",
    "        print(f\" Column '{column}' not found in dataset! Use one of: {df.columns.tolist()}\")\n",
    "        return None\n",
    "    \n",
    "    return DatasetStats(\n",
    "        column=column,\n",
    "        mean=df[column].mean(),\n",
    "        max=df[column].max(),\n",
    "        min=df[column].min()\n",
    "    )\n"
   ]
  },
  {
   "cell_type": "code",
   "execution_count": 5,
   "id": "9de68020-b7f5-4564-9dea-2a898bf760f5",
   "metadata": {},
   "outputs": [],
   "source": [
    "def dashboard(df):\n",
    "    \"\"\"Interactive console menu for user interaction.\"\"\"\n",
    "    while True:\n",
    "        print(\"\\nOptions: [stats] View Statistics | [plot] Show Histogram | [exit] Quit\")\n",
    "        choice = input(\"Enter your choice: \").strip().lower()\n",
    "        \n",
    "        if choice == \"stats\":\n",
    "            column = input(\"Enter column name for stats: \").strip()\n",
    "            stats = compute_stats(df, column)\n",
    "            if stats:\n",
    "                print(f\"\\nStatistics for '{column}':\")\n",
    "                print(f\"Mean: {stats.mean}\")\n",
    "                print(f\"Max: {stats.max}\")\n",
    "                print(f\"Min: {stats.min}\")\n",
    "        \n",
    "        elif choice == \"plot\":\n",
    "            column = input(\"Enter column name for histogram: \").strip()\n",
    "            stats = compute_stats(df, column)\n",
    "            if stats:\n",
    "                stats.plot_histogram(df)\n",
    "        \n",
    "        elif choice == \"exit\":\n",
    "            print(\"Exiting dashboard. Goodbye!\")\n",
    "            break\n",
    "        \n",
    "        else:\n",
    "            (\"invalid\")"
   ]
  },
  {
   "cell_type": "code",
   "execution_count": 6,
   "id": "a8caddfa-fb44-4c10-bad4-18cc54afd46a",
   "metadata": {},
   "outputs": [
    {
     "name": "stdout",
     "output_type": "stream",
     "text": [
      "✅ Dataset loaded successfully!\n",
      "Available Columns: ['Index', 'Title', 'Description', 'Amount(in rupees)', 'price', 'location', 'Carpet Area', 'Status', 'Floor', 'Transaction', 'Furnishing', 'facing', 'overlooking', 'Society', 'Bathroom', 'Balcony', 'Car Parking', 'Ownership', 'Super Area', 'Dimensions', 'Plot Area']\n",
      "\n",
      "Options: [stats] View Statistics | [plot] Show Histogram | [exit] Quit\n"
     ]
    },
    {
     "name": "stdin",
     "output_type": "stream",
     "text": [
      "Enter your choice:  stats\n",
      "Enter column name for stats:  price\n"
     ]
    },
    {
     "name": "stdout",
     "output_type": "stream",
     "text": [
      "\n",
      "Statistics for 'price':\n",
      "Mean: 7583.771884897507\n",
      "Max: 6700000.0\n",
      "Min: 0.0\n",
      "\n",
      "Options: [stats] View Statistics | [plot] Show Histogram | [exit] Quit\n"
     ]
    },
    {
     "name": "stdin",
     "output_type": "stream",
     "text": [
      "Enter your choice:  plot\n",
      "Enter column name for histogram:  price\n"
     ]
    },
    {
     "data": {
      "image/png": "[encoded data removed]",
      "text/plain": [
       "<Figure size 800x500 with 1 Axes>"
      ]
     },
     "metadata": {},
     "output_type": "display_data"
    },
    {
     "name": "stdout",
     "output_type": "stream",
     "text": [
      "\n",
      "Options: [stats] View Statistics | [plot] Show Histogram | [exit] Quit\n"
     ]
    },
    {
     "name": "stdin",
     "output_type": "stream",
     "text": [
      "Enter your choice:  exit\n"
     ]
    },
    {
     "name": "stdout",
     "output_type": "stream",
     "text": [
      "Exiting dashboard. Goodbye!\n"
     ]
    }
   ],
   "source": [
    "df = load_data(\"house_prices.csv\")  # Replace with actual dataset file\n",
    "if df is not None:\n",
    "    dashboard(df)"
   ]
  },
  {
   "cell_type": "code",
   "execution_count": null,
   "id": "474ce621-1d0c-4ebd-81c8-7dde579925f3",
   "metadata": {},
   "outputs": [],
   "source": []
  }
 ],
 "metadata": {
  "kernelspec": {
   "display_name": "Python 3 (ipykernel)",
   "language": "python",
   "name": "python3"
  },
  "language_info": {
   "codemirror_mode": {
    "name": "ipython",
    "version": 3
   },
   "file_extension": ".py",
   "mimetype": "text/x-python",
   "name": "python",
   "nbconvert_exporter": "python",
   "pygments_lexer": "ipython3",
   "version": "3.12.7"
  }
 },
 "nbformat": 4,
 "nbformat_minor": 5
}
