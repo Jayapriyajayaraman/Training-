{
 "cells": [
  {
   "cell_type": "code",
   "execution_count": 1,
   "id": "ef77b53f-b48f-4918-b7b7-8ce3aa007e3d",
   "metadata": {},
   "outputs": [],
   "source": [
    "import scipy.stats as stats\n"
   ]
  },
  {
   "cell_type": "code",
   "execution_count": 2,
   "id": "364d9158-aeff-4fd5-a4aa-bb534330af12",
   "metadata": {},
   "outputs": [],
   "source": [
    "observed = [121, 288, 91]\n",
    "expected = [100, 150, 250]\n"
   ]
  },
  {
   "cell_type": "code",
   "execution_count": 3,
   "id": "120a41c5-35d3-48ef-b518-a162d5caeb43",
   "metadata": {},
   "outputs": [
    {
     "name": "stdout",
     "output_type": "stream",
     "text": [
      "Chi-Square Statistic: 232.4940\n",
      "P-value: 0.0000\n"
     ]
    }
   ],
   "source": [
    "chi2_stat, p_value = stats.chisquare(observed, expected)\n",
    "\n",
    "print(f\"Chi-Square Statistic: {chi2_stat:.4f}\")\n",
    "print(f\"P-value: {p_value:.4f}\")\n"
   ]
  },
  {
   "cell_type": "code",
   "execution_count": 4,
   "id": "6bf2a531-e44e-4853-a05a-3359f8bd45aa",
   "metadata": {},
   "outputs": [
    {
     "name": "stdout",
     "output_type": "stream",
     "text": [
      "Reject H₀: The age distribution has significantly changed from 2000 to 2010.\n"
     ]
    }
   ],
   "source": [
    "alpha = 0.05\n",
    "if p_value < alpha:\n",
    "    print(\"Reject H₀: The age distribution has significantly changed from 2000 to 2010.\")\n",
    "else:\n",
    "    print(\"Fail to reject H₀: No strong evidence that the age distribution changed.\")\n"
   ]
  },
  {
   "cell_type": "code",
   "execution_count": null,
   "id": "3453e7e2-0955-4652-8d28-83966e44e49d",
   "metadata": {},
   "outputs": [],
   "source": []
  }
 ],
 "metadata": {
  "kernelspec": {
   "display_name": "Python 3 (ipykernel)",
   "language": "python",
   "name": "python3"
  },
  "language_info": {
   "codemirror_mode": {
    "name": "ipython",
    "version": 3
   },
   "file_extension": ".py",
   "mimetype": "text/x-python",
   "name": "python",
   "nbconvert_exporter": "python",
   "pygments_lexer": "ipython3",
   "version": "3.12.7"
  }
 },
 "nbformat": 4,
 "nbformat_minor": 5
}
