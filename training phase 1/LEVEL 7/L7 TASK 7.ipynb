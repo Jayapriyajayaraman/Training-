{
 "cells": [
  {
   "cell_type": "code",
   "execution_count": 1,
   "id": "2bc2b63c-8763-482c-a3e3-cdc41496bf8a",
   "metadata": {},
   "outputs": [],
   "source": [
    "import numpy as np\n"
   ]
  },
  {
   "cell_type": "code",
   "execution_count": 2,
   "id": "0c5b3ef0-91c0-4b2e-920b-798434ea6275",
   "metadata": {},
   "outputs": [],
   "source": [
    "np.random.seed(42)  \n",
    "trials = np.random.binomial(n=1, p=0.3, size=1000)\n"
   ]
  },
  {
   "cell_type": "code",
   "execution_count": 3,
   "id": "67460009-75f5-4046-9ff3-90ce9069a922",
   "metadata": {},
   "outputs": [
    {
     "name": "stdout",
     "output_type": "stream",
     "text": [
      "Simulated Success Probability: 0.29\n"
     ]
    }
   ],
   "source": [
    "simulated_p = np.mean(trials)\n",
    "print(f\"Simulated Success Probability: {simulated_p:.2f}\")\n"
   ]
  },
  {
   "cell_type": "code",
   "execution_count": 4,
   "id": "6d0181bf-8007-498f-9607-bed3bcbe84c1",
   "metadata": {},
   "outputs": [
    {
     "name": "stdout",
     "output_type": "stream",
     "text": [
      "Matches theoretical P = 0.3 for Bernoulli trials.\n"
     ]
    }
   ],
   "source": [
    "theoretical_p = 0.3\n",
    "\n",
    "if abs(simulated_p - theoretical_p) < 0.05:\n",
    "    print(\"Matches theoretical P = 0.3 for Bernoulli trials.\")\n",
    "else:\n",
    "    print(\"Slight deviation due to randomness, but should be close to 0.3.\")\n"
   ]
  },
  {
   "cell_type": "code",
   "execution_count": null,
   "id": "57e12816-fa2a-40bc-a4d4-e5b2814cff86",
   "metadata": {},
   "outputs": [],
   "source": []
  }
 ],
 "metadata": {
  "kernelspec": {
   "display_name": "Python 3 (ipykernel)",
   "language": "python",
   "name": "python3"
  },
  "language_info": {
   "codemirror_mode": {
    "name": "ipython",
    "version": 3
   },
   "file_extension": ".py",
   "mimetype": "text/x-python",
   "name": "python",
   "nbconvert_exporter": "python",
   "pygments_lexer": "ipython3",
   "version": "3.12.7"
  }
 },
 "nbformat": 4,
 "nbformat_minor": 5
}
