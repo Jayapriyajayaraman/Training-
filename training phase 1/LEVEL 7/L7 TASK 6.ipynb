{
 "cells": [
  {
   "cell_type": "code",
   "execution_count": 1,
   "id": "763e8fa2-050e-4b39-b777-4c4e405e3556",
   "metadata": {},
   "outputs": [],
   "source": [
    "import numpy as np\n",
    "import scipy.stats as stats\n"
   ]
  },
  {
   "cell_type": "code",
   "execution_count": 2,
   "id": "bdb196a8-483f-4605-8590-037a3811c01b",
   "metadata": {},
   "outputs": [],
   "source": [
    "height = np.array([160, 170, 180, 175])\n",
    "weight = np.array([60, 70, 75, 65])\n"
   ]
  },
  {
   "cell_type": "code",
   "execution_count": 3,
   "id": "dee157de-1c89-43df-8181-b7a400dc440a",
   "metadata": {},
   "outputs": [
    {
     "name": "stdout",
     "output_type": "stream",
     "text": [
      "Pearson Correlation: 0.83\n",
      "Spearman Correlation: 0.80\n"
     ]
    }
   ],
   "source": [
    "pearson_corr, pearson_p = stats.pearsonr(height, weight)\n",
    "spearman_corr, spearman_p = stats.spearmanr(height, weight)\n",
    "\n",
    "print(f\"Pearson Correlation: {pearson_corr:.2f}\")\n",
    "print(f\"Spearman Correlation: {spearman_corr:.2f}\")\n"
   ]
  },
  {
   "cell_type": "code",
   "execution_count": 4,
   "id": "a51cfe39-09e3-43d4-80eb-8394d979432c",
   "metadata": {},
   "outputs": [
    {
     "name": "stdout",
     "output_type": "stream",
     "text": [
      "Both correlations are positive, but Pearson is higher due to a more linear relationship.\n"
     ]
    }
   ],
   "source": [
    "if pearson_corr > spearman_corr:\n",
    "    print(\"Both correlations are positive, but Pearson is higher due to a more linear relationship.\")\n",
    "elif pearson_corr < spearman_corr:\n",
    "    print(\"Both correlations are positive, but Spearman is higher, indicating a stronger monotonic trend.\")\n",
    "else:\n",
    "    print(\"Pearson and Spearman correlations are equal, suggesting a strong linear and monotonic relationship.\")\n"
   ]
  },
  {
   "cell_type": "code",
   "execution_count": null,
   "id": "6e01bf9b-38a2-49a4-ba38-5bd5234f541f",
   "metadata": {},
   "outputs": [],
   "source": []
  }
 ],
 "metadata": {
  "kernelspec": {
   "display_name": "Python 3 (ipykernel)",
   "language": "python",
   "name": "python3"
  },
  "language_info": {
   "codemirror_mode": {
    "name": "ipython",
    "version": 3
   },
   "file_extension": ".py",
   "mimetype": "text/x-python",
   "name": "python",
   "nbconvert_exporter": "python",
   "pygments_lexer": "ipython3",
   "version": "3.12.7"
  }
 },
 "nbformat": 4,
 "nbformat_minor": 5
}
