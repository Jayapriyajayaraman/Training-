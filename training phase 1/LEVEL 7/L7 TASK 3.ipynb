{
 "cells": [
  {
   "cell_type": "code",
   "execution_count": 1,
   "id": "5a3119f8-02c5-40b0-9ffc-984153972bca",
   "metadata": {},
   "outputs": [],
   "source": [
    "import numpy as np\n",
    "import scipy.stats as stats\n"
   ]
  },
  {
   "cell_type": "code",
   "execution_count": 2,
   "id": "346250c9-c77e-4288-a025-e9cd94c2e69c",
   "metadata": {},
   "outputs": [],
   "source": [
    "np.random.seed(42)  \n",
    "sample_data = np.random.normal(loc=140, scale=20, size=30)\n"
   ]
  },
  {
   "cell_type": "code",
   "execution_count": 3,
   "id": "8991758a-27df-41af-a35d-fbb541c1344b",
   "metadata": {},
   "outputs": [
    {
     "name": "stdout",
     "output_type": "stream",
     "text": [
      "T-score: 11.0265\n",
      "P-value: 0.0000\n"
     ]
    }
   ],
   "source": [
    "t_score, p_value = stats.ttest_1samp(sample_data, popmean=100)\n",
    "\n",
    "print(f\"T-score: {t_score:.4f}\")\n",
    "print(f\"P-value: {p_value:.4f}\")\n"
   ]
  },
  {
   "cell_type": "code",
   "execution_count": 4,
   "id": "920fdcbd-9d3f-4a74-9695-07de56af9e0f",
   "metadata": {},
   "outputs": [
    {
     "name": "stdout",
     "output_type": "stream",
     "text": [
      "Reject H₀: The medication significantly increases IQ.\n"
     ]
    }
   ],
   "source": [
    "alpha = 0.05\n",
    "if p_value < alpha:\n",
    "    print(\"Reject H₀: The medication significantly increases IQ.\")\n",
    "else:\n",
    "    print(\"Fail to reject H₀: No strong evidence that the medication affects IQ.\")\n"
   ]
  },
  {
   "cell_type": "code",
   "execution_count": null,
   "id": "a72b8610-7edb-4836-aa2d-a69b0af095e3",
   "metadata": {},
   "outputs": [],
   "source": []
  }
 ],
 "metadata": {
  "kernelspec": {
   "display_name": "Python 3 (ipykernel)",
   "language": "python",
   "name": "python3"
  },
  "language_info": {
   "codemirror_mode": {
    "name": "ipython",
    "version": 3
   },
   "file_extension": ".py",
   "mimetype": "text/x-python",
   "name": "python",
   "nbconvert_exporter": "python",
   "pygments_lexer": "ipython3",
   "version": "3.12.7"
  }
 },
 "nbformat": 4,
 "nbformat_minor": 5
}
