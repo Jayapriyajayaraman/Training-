{
 "cells": [
  {
   "cell_type": "code",
   "execution_count": 1,
   "id": "1ea9ebd6-819d-4bd3-b2a9-fa9b2191a4a4",
   "metadata": {},
   "outputs": [],
   "source": [
    "import numpy as np\n"
   ]
  },
  {
   "cell_type": "code",
   "execution_count": 2,
   "id": "fb27bd12-9f49-4cc6-a40f-9e31c1d20474",
   "metadata": {},
   "outputs": [],
   "source": [
    "height = np.array([160, 170, 180, 175])\n",
    "weight = np.array([60, 70, 75, 65])\n"
   ]
  },
  {
   "cell_type": "code",
   "execution_count": 3,
   "id": "77a3c95a-967e-4c9e-a162-90649451b202",
   "metadata": {},
   "outputs": [
    {
     "name": "stdout",
     "output_type": "stream",
     "text": [
      "Covariance: 45.83\n"
     ]
    }
   ],
   "source": [
    "cov_matrix = np.cov(height, weight, ddof=1)\n",
    "covariance = cov_matrix[0, 1]\n",
    "\n",
    "print(f\"Covariance: {covariance:.2f}\")\n"
   ]
  },
  {
   "cell_type": "code",
   "execution_count": 4,
   "id": "5315a3a9-4d78-437d-8c84-c9c88cb065b3",
   "metadata": {},
   "outputs": [
    {
     "name": "stdout",
     "output_type": "stream",
     "text": [
      "Positive covariance: As height increases, weight tends to increase.\n"
     ]
    }
   ],
   "source": [
    "if covariance > 0:\n",
    "    print(\"Positive covariance: As height increases, weight tends to increase.\")\n",
    "elif covariance < 0:\n",
    "    print(\"Negative covariance: As height increases, weight tends to decrease.\")\n",
    "else:\n",
    "    print(\"No covariance: Height and weight are not related.\")\n"
   ]
  },
  {
   "cell_type": "code",
   "execution_count": null,
   "id": "ac3bcf4c-7cb5-41b1-b676-a3741c3e877c",
   "metadata": {},
   "outputs": [],
   "source": []
  }
 ],
 "metadata": {
  "kernelspec": {
   "display_name": "Python 3 (ipykernel)",
   "language": "python",
   "name": "python3"
  },
  "language_info": {
   "codemirror_mode": {
    "name": "ipython",
    "version": 3
   },
   "file_extension": ".py",
   "mimetype": "text/x-python",
   "name": "python",
   "nbconvert_exporter": "python",
   "pygments_lexer": "ipython3",
   "version": "3.12.7"
  }
 },
 "nbformat": 4,
 "nbformat_minor": 5
}
